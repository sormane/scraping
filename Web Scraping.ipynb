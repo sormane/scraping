{
 "cells": [
  {
   "cell_type": "markdown",
   "metadata": {},
   "source": [
    "# <font color=green>1. MEU PRIMEIRO SCRAPING"
   ]
  },
  {
   "cell_type": "markdown",
   "metadata": {},
   "source": [
    "# 1.1. Introdução"
   ]
  },
  {
   "cell_type": "markdown",
   "metadata": {},
   "source": [
    "## *Web Scraping* é o termo utilizado para definir a prática de coletar automaticamente informações na Internet. Isto é feito, geralmente, por meio de programas que simulam a navegação humana na Web."
   ]
  },
  {
   "cell_type": "markdown",
   "metadata": {},
   "source": [
    "# 1.2. Ambiente e bibliotecas\n",
    "### Utilizaremos em nosso treinamento o navegador Google Chrome"
   ]
  },
  {
   "cell_type": "code",
   "execution_count": 84,
   "metadata": {
    "colab": {},
    "colab_type": "code",
    "id": "e9pXIMIWByAp"
   },
   "outputs": [
    {
     "name": "stdout",
     "output_type": "stream",
     "text": [
      "BeautifulSoup -> 4.11.1\n",
      "urllib -> 3.10\n",
      "pandas -> 1.4.2\n"
     ]
    }
   ],
   "source": [
    "import bs4\n",
    "import urllib.request as urllib_request\n",
    "import pandas\n",
    "\n",
    "print(\"BeautifulSoup ->\", bs4.__version__)\n",
    "print(\"urllib ->\", urllib_request.__version__)\n",
    "print(\"pandas ->\", pandas.__version__)"
   ]
  },
  {
   "cell_type": "markdown",
   "metadata": {},
   "source": [
    "# 1.3. Meu primeiro scraping"
   ]
  },
  {
   "cell_type": "code",
   "execution_count": 85,
   "metadata": {},
   "outputs": [
    {
     "name": "stdout",
     "output_type": "stream",
     "text": [
      "Hello World!!!\n",
      "Web Scraping é o termo utilizado para definir a prática de coletar automaticamente informações na Internet. Isto é feito, geralmente, por meio de programas que simulam a navegação humana na Web.\n",
      "Curso de Web Scraping\n"
     ]
    }
   ],
   "source": [
    "from bs4 import BeautifulSoup #Transforma a resposta em um objeto navegavel\n",
    "from urllib.request import urlopen #faz requisição e obtem a resposta\n",
    "\n",
    "url = 'http://alura-site-scraping.herokuapp.com/hello-world.php'\n",
    "\n",
    "response = urlopen(url) #acessa o site e recebe resposta\n",
    "html = response.read() #ler a resposta\n",
    "\n",
    "#Passaremos agora a resposta para o BeatufiulSoup, para conseguir navegar melhor na resposta.\n",
    "\n",
    "soup = BeautifulSoup(html, 'html.parser')\n",
    "soup.find('h1', id=\"hello-world\") #procura no html da resposta a tag h1 e o trecho igual a \"hello-world\"\n",
    "print(soup.find('h1', id=\"hello-world\").get_text()) #procura no html da resposta a tag h1 e o trecho igual a \"hello-world\" \n",
    "#e retorna somente o trecho procurado\n",
    "print(soup.find('p').get_text()) #procurando somente pela tag, como só existe uma, trouxe o texto correto, caso houvesse mais de uma, \n",
    "#traria a primeira a ser encontrada. Ele começa a verificar do topo da página até o fim.\n",
    "print(soup.find('h1', {'class': 'sub-header'}).get_text())"
   ]
  },
  {
   "cell_type": "markdown",
   "metadata": {},
   "source": [
    "---\n",
    "# <font color=green>2. OBTENDO E TRATANDO O CONTEÚDO DE UM HTML"
   ]
  },
  {
   "cell_type": "markdown",
   "metadata": {},
   "source": [
    "# 2.1. Entendendo a web"
   ]
  },
  {
   "cell_type": "markdown",
   "metadata": {},
   "source": [
    "<img src=\"./web/web.png\" width=\"700\">"
   ]
  },
  {
   "cell_type": "markdown",
   "metadata": {},
   "source": [
    "# 2.2. Obtendo o conteúdo HTML de um site"
   ]
  },
  {
   "cell_type": "markdown",
   "metadata": {},
   "source": [
    "# urllib.request\n",
    "## https://docs.python.org/3/library/urllib.html"
   ]
  },
  {
   "cell_type": "code",
   "execution_count": 3,
   "metadata": {
    "colab": {
     "base_uri": "https://localhost:8080/",
     "height": 54
    },
    "colab_type": "code",
    "id": "c1pKGnTpgvFU",
    "outputId": "b6b7e32d-4c3e-4f52-a8ba-0b1cbfe15ea4"
   },
   "outputs": [],
   "source": [
    "from urllib.request import urlopen\n",
    "\n",
    "url = 'http://alura-site-scraping.herokuapp.com/index.php'\n",
    "\n",
    "response = urlopen(url)\n",
    "html = response.read()"
   ]
  },
  {
   "cell_type": "markdown",
   "metadata": {},
   "source": [
    "## https://docs.python.org/3/library/urllib.request.html#urllib.request.Request"
   ]
  },
  {
   "cell_type": "code",
   "execution_count": 4,
   "metadata": {},
   "outputs": [
    {
     "name": "stdout",
     "output_type": "stream",
     "text": [
      "b'<!DOCTYPE html><html\\nlang=\"pt-BR\"><head><meta\\ncharset=\"UTF-8\"><meta\\nname=\"viewport\" content=\"width=device-width,initial-scale=1,minimum-scale=1.0\"><title>Alura | Cursos online de Tecnologia</title><meta\\nname=\"description\" content=\"Aprenda Programa\\xc3\\xa7\\xc3\\xa3o, Front-end, Back-end, Data Science, UX, DevOps, Inova\\xc3\\xa7\\xc3\\xa3o e Gest\\xc3\\xa3o na maior plataforma de tecnologia do Brasil\"><link\\nrel=\"canonical\" href=\"https://www.alura.com.br\"><link\\nrel=\"icon\" href=\"/assets/favicon.1647533642.ico\" /><link\\nhref=\"https://fonts.googleapis.com/css2?display=swap&family=Inter:wght@400;700;900&family=Roboto+Mono:wght@400;700&display=swap\" rel=\"stylesheet\" crossorigin><link\\nrel=\"preconnect\" href=\"https://fonts.gstatic.com/\" crossorigin><link\\nrel=\"stylesheet\" href=\"/bundle,base/_reset,base/base,base/buttons,base/colors-apostilas,base/colors,base/titulos.1653434924.css\"><link\\nrel=\"stylesheet\" href=\"/bundle,home/homeNova/career-colors,home/homeNova/careers,home/homeNova/cases,home/homeNova/companies,home/homeNova/features,home/homeNova/home,home/homeNova/mobile,home/homeNova/testimonies.1663012964.css\"><link\\nrel=\"stylesheet\" href=\"/assets/css/block/elasticMedia.1647533642.css\"><link\\nrel=\"stylesheet\" href=\"/assets/css/block/depoimentos-comunidade.1653936151.css\"><link\\nrel=\"stylesheet\" href=\"/assets/css/artigos/glider.min.1647533642.css\"><meta\\nproperty=\"og:locale\" content=\"pt_BR\"><meta\\nproperty=\"og:description\" content=\"Aprenda Programa\\xc3\\xa7\\xc3\\xa3o, Front-end, Back-end, Data Science, UX, DevOps, Inova\\xc3\\xa7\\xc3\\xa3o e Gest\\xc3\\xa3o na maior plataforma de tecnologia do Brasil\"><meta\\nproperty=\"og:title\" content=\"Alura | Cursos online de Tecnologia\"><meta\\nproperty=\"og:site_name\" content=\"Alura\"><meta\\nproperty=\"og:url\" content=\"https://www.alura.com.br/\"><meta\\nproperty=\"og:image\" content=\"https://www.alura.com.br/assets/img/alura-share.1647533642.png\"><meta\\nproperty=\"og:image:alt\" content=\"Alura logo\"><meta\\nproperty=\"fb:app_id\" content=\"140078819399376\"><meta\\nproperty=\"og:type\" content=\"website\"><meta\\nname=\"twitter:card\" content=\"summary_large_image\"><meta\\nname=\"theme-color\" content=\"#2A7AE4\"><meta\\nname=\"google-site-verification\" content=\"e-ieHUO1JHyNyCZv0Z8Nu-R3ECPykHiNHHEhPdF35Bk\" /> <script>;(function(w,d,s,l,i){w[l]=w[l]||[];w[l].push({\\'gtm.start\\':\\n                    new Date().getTime(),event:\\'gtm.js\\'});var f=d.getElementsByTagName(s)[0],\\n                j=d.createElement(s),dl=l!=\\'dataLayer\\'?\\'&l=\\'+l:\\'\\';j.async=true;j.src=\\n                \\'https://www.googletagmanager.com/gtm.js?id=\\'+i+dl;f.parentNode.insertBefore(j,f);\\n            })(window,document,\\'script\\',\\'dataLayer\\',\\'GTM-TN542JN\\');</script>  <script async src=\"https://www.googletagmanager.com/gtag/js?id=AW-980051072\"></script> <script>window.dataLayer = window.dataLayer || [];\\n            function gtag(){dataLayer.push(arguments);}\\n            gtag(\\'js\\', new Date());\\n            gtag(\\'config\\', \\'AW-980051072\\');</script> <script>!function (w, d, t) { w.TiktokAnalyticsObject=t;var ttq=w[t]=w[t]||[];ttq.methods=[\"page\",\"track\",\"identify\",\"instances\",\"debug\",\"on\",\"off\",\"once\",\"ready\",\"alias\",\"group\",\"enableCookie\",\"disableCookie\"],ttq.setAndDefer=function(t,e){t[e]=function(){t.push([e].concat(Array.prototype.slice.call(arguments,0)))}};for(var i=0;i<ttq.methods.length;i++)ttq.setAndDefer(ttq,ttq.methods[i]);ttq.instance=function(t){for(var e=ttq._i[t]||[],n=0;n<ttq.methods.length;n++ )ttq.setAndDefer(e,ttq.methods[n]);return e},ttq.load=function(e,n){var i=\"https://analytics.tiktok.com/i18n/pixel/events.js\";ttq._i=ttq._i||{},ttq._i[e]=[],ttq._i[e]._u=i,ttq._t=ttq._t||{},ttq._t[e]=+new Date,ttq._o=ttq._o||{},ttq._o[e]=n||{};n=document.createElement(\"script\");n.type=\"text/javascript\",n.async=!0,n.src=i+\"?sdkid=\"+e+\"&lib=\"+t;e=document.getElementsByTagName(\"script\")[0];e.parentNode.insertBefore(n,e)}; ttq.load(\"CASS65BC77UAKBUROQ2G\"); ttq.page(); }(window, document, \\'ttq\\');</script> <script async src=\\'//www.google-analytics.com/analytics.js\\'></script> <script>var userId = (document.cookie.match(\\'alura.userId=([^;]+)\\')||[null,null])[1];\\n            window.ga=window.ga || function () {\\n                (ga.q=ga.q||[]).push(arguments)\\n            };\\n            ga.l =+ new Date;\\n\\n                            ga(\\n                    \\'create\\', \\n                    \\'UA-42101548-1\\', \\n                    \\'alura.com.br\\', \\n                    \\'tracker0\\', \\n                    {\\'siteSpeedSampleRate\\': 50}\\n                );\\n\\n                if (userId) ga(\\'tracker0.set\\', \\'userId\\', userId);\\n\\n                ga(\\'tracker0.require\\', \\'displayfeatures\\');\\n                ga(\\'tracker0.send\\', \\'pageview\\');\\n                            ga(\\n                    \\'create\\', \\n                    \\'UA-42101548-9\\', \\n                    \\'alura.com.br\\', \\n                    \\'tracker1\\', \\n                    {\\'siteSpeedSampleRate\\': 50}\\n                );\\n\\n                if (userId) ga(\\'tracker1.set\\', \\'userId\\', userId);\\n\\n                ga(\\'tracker1.require\\', \\'displayfeatures\\');\\n                ga(\\'tracker1.send\\', \\'pageview\\');</script> </head><body\\nclass=\"dia-do-programador\"> <script src=\"/assets/js/avatarOnError.1647533644.js\"></script> <noscript><iframe\\nsrc=\"https://www.googletagmanager.com/ns.html?id=GTM-TN542JN\" height=\"0\" width=\"0\" style=\"display:none;visibility:hidden\"></iframe></noscript> <script>!function(f,b,e,v,n,t,s) {if(f.fbq)return;n=f.fbq=function(){n.callMethod? n.callMethod.apply(n,arguments):n.queue.push(arguments)}; if(!f._fbq)f._fbq=n;n.push=n;n.loaded=!0;n.version=\\'2.0\\'; n.queue=[];t=b.createElement(e);t.async=!0; t.src=v;s=b.getElementsByTagName(e)[0]; s.parentNode.insertBefore(t,s)}(window, document,\\'script\\', \\'https://connect.facebook.net/en_US/fbevents.js\\'); fbq(\\'init\\', \\'1067810189950610\\'); fbq(\\'track\\', \\'PageView\\');</script> <script src=\"/assets/js/courseIconFallback.1647533644.js\"></script>  <script type=\"application/ld+json\">{\\n      \"@context\": \"http://schema.org\",\\n      \"@type\": \"BreadcrumbList\",\\n\\n      \"itemListElement\": [{\\n        \"@type\": \"ListItem\",\\n        \"position\": 1,\\n        \"item\": {\\n          \"@id\": \"https://www.alura.com.br\",\\n          \"name\": \"Alura\"\\n        }\\n      }   \\n            ]\\n    }</script>  <script type=\"application/ld+json\">{\\n    \"@context\": \"https://schema.org\",\\n    \"@type\": \"WebSite\",\\n    \"url\": \"https://www.alura.com.br\",\\n    \"potentialAction\": {\\n      \"@type\": \"SearchAction\",\\n      \"target\": \"http://www.alura.com.br/busca?query={query}\",\\n      \"query-input\": \"required name=query\"\\n    }\\n}</script> <script>window.dataLayer.push({\\n                event: \\'view_item_list\\',\\n                value: 3540.00,\\n                items: [{\"id\":\"formacao-arquitetura-design-projetos-java\",\"google_business_vertical\":\"education\"},{\"id\":\"formacao-arquiteto-php\",\"google_business_vertical\":\"education\"},{\"id\":\"formacao-dotnet\",\"google_business_vertical\":\"education\"},{\"id\":\"formacao-avancando-c-sharp\",\"google_business_vertical\":\"education\"},{\"id\":\"formacao-avancando-nodejs\",\"google_business_vertical\":\"education\"},{\"id\":\"formacao-avancando-php\",\"google_business_vertical\":\"education\"},{\"id\":\"formacao-boas-praticas-c-sharp\",\"google_business_vertical\":\"education\"},{\"id\":\"formacao-boas-praticas-php\",\"google_business_vertical\":\"education\"},{\"id\":\"formacao-c-sharp-orientacao-objetos\",\"google_business_vertical\":\"education\"},{\"id\":\"formacao-carreira-tester-qa\",\"google_business_vertical\":\"education\"},{\"id\":\"formacao-certificacao-java\",\"google_business_vertical\":\"education\"},{\"id\":\"formacao-clojure\",\"google_business_vertical\":\"education\"},{\"id\":\"formacao-flask\",\"google_business_vertical\":\"education\"},{\"id\":\"formacao-django\",\"google_business_vertical\":\"education\"},{\"id\":\"formacao-django-rest\",\"google_business_vertical\":\"education\"},{\"id\":\"formacao-elixir\",\"google_business_vertical\":\"education\"},{\"id\":\"formacao-engenharia-software\",\"google_business_vertical\":\"education\"},{\"id\":\"formacao-go\",\"google_business_vertical\":\"education\"},{\"id\":\"formacao-programacao\",\"google_business_vertical\":\"education\"},{\"id\":\"formacao-internet-das-coisas-iot\",\"google_business_vertical\":\"education\"},{\"id\":\"formacao-java-microsservicos\",\"google_business_vertical\":\"education\"},{\"id\":\"formacao-java\",\"google_business_vertical\":\"education\"},{\"id\":\"formacao-js-backend\",\"google_business_vertical\":\"education\"},{\"id\":\"formacao-jogos-unity\",\"google_business_vertical\":\"education\"},{\"id\":\"formacao-kotlin\",\"google_business_vertical\":\"education\"},{\"id\":\"formacao-kotlin-spring-boot\",\"google_business_vertical\":\"education\"},{\"id\":\"formacao-linguagem-c-plus-plus\",\"google_business_vertical\":\"education\"},{\"id\":\"formacao-microcontroladores-eletronica-aplicada\",\"google_business_vertical\":\"education\"},{\"id\":\"formacao-dotnet-microsservicos\",\"google_business_vertical\":\"education\"},{\"id\":\"formacao-node-js-express\",\"google_business_vertical\":\"education\"},{\"id\":\"formacao-linguagem-php\",\"google_business_vertical\":\"education\"},{\"id\":\"formacao-Python-linguagem\",\"google_business_vertical\":\"education\"},{\"id\":\"formacao-raspberry-pi\",\"google_business_vertical\":\"education\"},{\"id\":\"formacao-spring-framework\",\"google_business_vertical\":\"education\"},{\"id\":\"formacao-symfony-e-doctrine\",\"google_business_vertical\":\"education\"},{\"id\":\"formacao-testes-em-dotnet\",\"google_business_vertical\":\"education\"},{\"id\":\"formacao-vb-net\",\"google_business_vertical\":\"education\"},{\"id\":\"formacao-windows-forms-csharp\",\"google_business_vertical\":\"education\"},{\"id\":\"formacao-wordpress\",\"google_business_vertical\":\"education\"},{\"id\":\"formacao-acessibilidade-web\",\"google_business_vertical\":\"education\"},{\"id\":\"formacao-angular\",\"google_business_vertical\":\"education\"},{\"id\":\"formacao-front-end\",\"google_business_vertical\":\"education\"},{\"id\":\"formacao-html-e-css\",\"google_business_vertical\":\"education\"},{\"id\":\"formacao-javascript-front-end\",\"google_business_vertical\":\"education\"},{\"id\":\"formacao-next-js\",\"google_business_vertical\":\"education\"},{\"id\":\"formacao-react-ts\",\"google_business_vertical\":\"education\"},{\"id\":\"formacao-svelte\",\"google_business_vertical\":\"education\"},{\"id\":\"formacao-typescript\",\"google_business_vertical\":\"education\"},{\"id\":\"formacao-vuejs3\",\"google_business_vertical\":\"education\"},{\"id\":\"formacao-apache-spark-python\",\"google_business_vertical\":\"education\"},{\"id\":\"formacao-business-intelligence-data-warehouse-pentaho\",\"google_business_vertical\":\"education\"},{\"id\":\"formacao-business-intelligence-data-warehouse\",\"google_business_vertical\":\"education\"},{\"id\":\"formacao-data-analysis-google-sheets\",\"google_business_vertical\":\"education\"},{\"id\":\"formacao-data-science\",\"google_business_vertical\":\"education\"},{\"id\":\"formacao-datomic\",\"google_business_vertical\":\"education\"},{\"id\":\"formacao-deep-learning-pytorch\",\"google_business_vertical\":\"education\"},{\"id\":\"formacao-estatistica-python\",\"google_business_vertical\":\"education\"},{\"id\":\"formacao-estatistica-r\",\"google_business_vertical\":\"education\"},{\"id\":\"formacao-excel-vba\",\"google_business_vertical\":\"education\"},{\"id\":\"formacao-google-bigquery-datastudio\",\"google_business_vertical\":\"education\"},{\"id\":\"formacao-iniciando-engenharia-dados\",\"google_business_vertical\":\"education\"},{\"id\":\"formacao-machine-learning\",\"google_business_vertical\":\"education\"},{\"id\":\"formacao-machine-learning-avancada\",\"google_business_vertical\":\"education\"},{\"id\":\"formacao-machine-learning-negocios-digitais\",\"google_business_vertical\":\"education\"},{\"id\":\"formacao-microstrategy-workstation\",\"google_business_vertical\":\"education\"},{\"id\":\"formacao-modelagem-dados\",\"google_business_vertical\":\"education\"},{\"id\":\"formacao-power-bi\",\"google_business_vertical\":\"education\"},{\"id\":\"formacao-python-data-science\",\"google_business_vertical\":\"education\"},{\"id\":\"formacao-qlik-sense\",\"google_business_vertical\":\"education\"},{\"id\":\"formacao-oracle-database-sql-plsql\",\"google_business_vertical\":\"education\"},{\"id\":\"formacao-microsoft-sql-server-2017\",\"google_business_vertical\":\"education\"},{\"id\":\"formacao-oracle-mysql\",\"google_business_vertical\":\"education\"},{\"id\":\"formacao-postgresql\",\"google_business_vertical\":\"education\"},{\"id\":\"formacao-tableau\",\"google_business_vertical\":\"education\"},{\"id\":\"formacao-tecnicas-processamento-linguagem-natural\",\"google_business_vertical\":\"education\"},{\"id\":\"formacao-redes\",\"google_business_vertical\":\"education\"},{\"id\":\"formacao-amazon-web-services\",\"google_business_vertical\":\"education\"},{\"id\":\"formacao-kafka\",\"google_business_vertical\":\"education\"},{\"id\":\"formacao-aws-certified-cloud-practitioner\",\"google_business_vertical\":\"education\"},{\"id\":\"formacao-aws-certified-solutions-architect-associate\",\"google_business_vertical\":\"education\"},{\"id\":\"formacao-certificacao-az-900-microsoft-azure-fundamentals\",\"google_business_vertical\":\"education\"},{\"id\":\"formacao-docker-dca\",\"google_business_vertical\":\"education\"},{\"id\":\"formacao-certificacao-lpi-linux-essentials\",\"google_business_vertical\":\"education\"},{\"id\":\"formacao-cloud-computing\",\"google_business_vertical\":\"education\"},{\"id\":\"formacao-primeiros-passos-devops\",\"google_business_vertical\":\"education\"},{\"id\":\"formacao-devops\",\"google_business_vertical\":\"education\"},{\"id\":\"formacao-google-certified-associate-cloud-engineer\",\"google_business_vertical\":\"education\"},{\"id\":\"formacao-infraestrutura-codigo\",\"google_business_vertical\":\"education\"},{\"id\":\"formacao-integracao-continua-entrega-continua\",\"google_business_vertical\":\"education\"},{\"id\":\"formacao-kubernetes\",\"google_business_vertical\":\"education\"},{\"id\":\"formacao-owasp\",\"google_business_vertical\":\"education\"},{\"id\":\"formacao-seguranca-de-aplicacoes\",\"google_business_vertical\":\"education\"},{\"id\":\"formacao-seguranca-ofensiva\",\"google_business_vertical\":\"education\"},{\"id\":\"formacao-sre\",\"google_business_vertical\":\"education\"},{\"id\":\"formacao-adobe-mobile\",\"google_business_vertical\":\"education\"},{\"id\":\"formacao-ui-adobe-xd\",\"google_business_vertical\":\"education\"},{\"id\":\"formacao-blender\",\"google_business_vertical\":\"education\"},{\"id\":\"formacao-canva\",\"google_business_vertical\":\"education\"},{\"id\":\"formacao-desenhohumano-photoshop\",\"google_business_vertical\":\"education\"},{\"id\":\"formacao-desenvolvimento-carreira-ux\",\"google_business_vertical\":\"education\"},{\"id\":\"formacao-design-de-jogos\",\"google_business_vertical\":\"education\"},{\"id\":\"formacao-design-grafico\",\"google_business_vertical\":\"education\"},{\"id\":\"formacao-design-system\",\"google_business_vertical\":\"education\"},{\"id\":\"formacao-editor-video\",\"google_business_vertical\":\"education\"},{\"id\":\"formacao-figma\",\"google_business_vertical\":\"education\"},{\"id\":\"formacao-fotografia\",\"google_business_vertical\":\"education\"},{\"id\":\"formacao-hq-narrativa-sequencial\",\"google_business_vertical\":\"education\"},{\"id\":\"formacao-identidadevisual\",\"google_business_vertical\":\"education\"},{\"id\":\"formacao-identidade-visual-softwares-free\",\"google_business_vertical\":\"education\"},{\"id\":\"formacao-ilustra-publicitaria\",\"google_business_vertical\":\"education\"},{\"id\":\"formacao-producao-indesign\",\"google_business_vertical\":\"education\"},{\"id\":\"formacao-motion-design\",\"google_business_vertical\":\"education\"},{\"id\":\"formacao-osteologia\",\"google_business_vertical\":\"education\"},{\"id\":\"formacao-ux-research-qualitativo\",\"google_business_vertical\":\"education\"},{\"id\":\"formacao-pinturadigital-photoshop\",\"google_business_vertical\":\"education\"},{\"id\":\"formacao-producao-com-photoshop\",\"google_business_vertical\":\"education\"},{\"id\":\"formacao-procucao-premiere\",\"google_business_vertical\":\"education\"},{\"id\":\"formacao-grafica-illustrator\",\"google_business_vertical\":\"education\"},{\"id\":\"formacao-produzindo-inkscape\",\"google_business_vertical\":\"education\"},{\"id\":\"formacao-produzindo-krita\",\"google_business_vertical\":\"education\"},{\"id\":\"formacao-props-para-games\",\"google_business_vertical\":\"education\"},{\"id\":\"formacao-ui-sketch\",\"google_business_vertical\":\"education\"},{\"id\":\"formacao-streaming\",\"google_business_vertical\":\"education\"},{\"id\":\"formacao-tratamento-de-imagem\",\"google_business_vertical\":\"education\"},{\"id\":\"formacao-ux\",\"google_business_vertical\":\"education\"},{\"id\":\"formacao-ux-research\",\"google_business_vertical\":\"education\"},{\"id\":\"formacao-estatistica-para-ux-research\",\"google_business_vertical\":\"education\"},{\"id\":\"formacao-android\",\"google_business_vertical\":\"education\"},{\"id\":\"formacao-android-kotlin\",\"google_business_vertical\":\"education\"},{\"id\":\"formacao-arquitetura-android\",\"google_business_vertical\":\"education\"},{\"id\":\"formacao-dart\",\"google_business_vertical\":\"education\"},{\"id\":\"formacao-firebase-android\",\"google_business_vertical\":\"education\"},{\"id\":\"formacao-flutter\",\"google_business_vertical\":\"education\"},{\"id\":\"formacao-ios\",\"google_business_vertical\":\"education\"},{\"id\":\"formacao-react-native\",\"google_business_vertical\":\"education\"},{\"id\":\"formacao-testes-automatizados-android\",\"google_business_vertical\":\"education\"},{\"id\":\"formacao-aprendizagem\",\"google_business_vertical\":\"education\"},{\"id\":\"formacao-business-agility\",\"google_business_vertical\":\"education\"},{\"id\":\"formacao-certificacao-cobit-5\",\"google_business_vertical\":\"education\"},{\"id\":\"formacao-certificacao-itil-foundation\",\"google_business_vertical\":\"education\"},{\"id\":\"formacao-certificacao-pmp-capm-pmi\",\"google_business_vertical\":\"education\"},{\"id\":\"formacao-comunicacao\",\"google_business_vertical\":\"education\"},{\"id\":\"formacao-comunicacao-lideres\",\"google_business_vertical\":\"education\"},{\"id\":\"formacao-conformidade-legal\",\"google_business_vertical\":\"education\"},{\"id\":\"formacao-criatividade\",\"google_business_vertical\":\"education\"},{\"id\":\"formacao-digital-e-agile-thinking\",\"google_business_vertical\":\"education\"},{\"id\":\"formacao-e-commerce\",\"google_business_vertical\":\"education\"},{\"id\":\"formacao-empreendedorismo-digital\",\"google_business_vertical\":\"education\"},{\"id\":\"formacao-ferramentas-indicadores-e-commerce\",\"google_business_vertical\":\"education\"},{\"id\":\"formacao-gerente-agil\",\"google_business_vertical\":\"education\"},{\"id\":\"formacao-certificacao-itil-4-foundation\",\"google_business_vertical\":\"education\"},{\"id\":\"formacao-gestao-qualidade\",\"google_business_vertical\":\"education\"},{\"id\":\"formacao-gestao-produtos\",\"google_business_vertical\":\"education\"},{\"id\":\"formacao-gestao-rh-tech\",\"google_business_vertical\":\"education\"},{\"id\":\"formacao-gestao-aplicacoes-sap\",\"google_business_vertical\":\"education\"},{\"id\":\"formacao-google-ads\",\"google_business_vertical\":\"education\"},{\"id\":\"formacao-governanca-corporativa\",\"google_business_vertical\":\"education\"},{\"id\":\"formacao-habilidades-comportamento\",\"google_business_vertical\":\"education\"},{\"id\":\"formacao-inovacao-para-lideres\",\"google_business_vertical\":\"education\"},{\"id\":\"formacao-lean-governanca-agilidade-escalada\",\"google_business_vertical\":\"education\"},{\"id\":\"formacao-lider-de-si\",\"google_business_vertical\":\"education\"},{\"id\":\"formacao-marketing-relacionamento\",\"google_business_vertical\":\"education\"},{\"id\":\"formacao-marketing-digital\",\"google_business_vertical\":\"education\"},{\"id\":\"formacao-minha-carreira\",\"google_business_vertical\":\"education\"},{\"id\":\"formacao-minha-primeira-lideranca\",\"google_business_vertical\":\"education\"},{\"id\":\"formacao-modelagem-melhorias-processos-negocios\",\"google_business_vertical\":\"education\"},{\"id\":\"formacao-negociacao\",\"google_business_vertical\":\"education\"},{\"id\":\"formacao-pensamento-estrategico\",\"google_business_vertical\":\"education\"},{\"id\":\"formacao-personal-branding\",\"google_business_vertical\":\"education\"},{\"id\":\"formacao-praticas-gestao-waterfall-hibridas\",\"google_business_vertical\":\"education\"},{\"id\":\"formacao-certificacao-pmi-acp\",\"google_business_vertical\":\"education\"},{\"id\":\"formacao-produtividade\",\"google_business_vertical\":\"education\"},{\"id\":\"formacao-rh-4-0-digital-agile-transforming-business-partner\",\"google_business_vertical\":\"education\"},{\"id\":\"formacao-seo\",\"google_business_vertical\":\"education\"},{\"id\":\"formacao-social-media\",\"google_business_vertical\":\"education\"},{\"id\":\"formacao-tecnicas-vendas\",\"google_business_vertical\":\"education\"},{\"id\":\"formacao-times-alta-performance\",\"google_business_vertical\":\"education\"},{\"id\":\"formacao-trafego-pago\",\"google_business_vertical\":\"education\"},{\"id\":\"formacao-transformacao-digital\",\"google_business_vertical\":\"education\"},{\"id\":\"formacao-vendas-de-alta-performance\",\"google_business_vertical\":\"education\"}]});</script> <div\\nclass=\"home\"><div\\nclass=\"home__header\"><link\\nrel=\"stylesheet\" href=\"/assets/css/block/header.1647533642.css\"><link\\nrel=\"stylesheet\" href=\"/assets/css/block/countdown.1647533642.css\"><link\\nrel=\"stylesheet\" href=\"/assets/css/block/headerHome.1647533642.css\"><style>@media (min-width: 1100px) {\\n\\t\\t\\t\\t.header-navegacao-cursos-lista {\\n\\t\\t\\t\\t\\tdisplay: none;\\n\\t\\t\\t\\t}\\n\\t\\t\\t\\t.header__nav {\\n\\t\\t\\t\\t\\tborder: none;\\n\\t\\t\\t\\t\\tmargin-top:10px;\\n\\t\\t\\t\\t}\\n\\t\\t\\t\\t.header {\\n\\t\\t\\t\\t\\tpadding-bottom: 0;\\n\\t\\t\\t\\t}\\n\\t\\t\\t}</style><link\\nrel=\"stylesheet\" href=\"/assets/css/block/dia-do-programador.1663334982.css\">\\n<a\\nhref=\"/promocao/semanadaprogramacao\" class=\"dia-do-programador__banner\"><div\\nclass=\"dia-do-programador__banner__wrapper\"><h2 class=\"dia-do-programador__banner__title\">Semana da Programa\\xc3\\xa7\\xc3\\xa3o</h2><div\\nclass=\"dia-do-programador__banner__description\"><span\\nclass=\"dia-do-programador__banner__percentage\">16%</span> de desconto!</div><div\\nclass=\"counter counter__main\" data-deadline=\"2022-09-18\"><div\\nclass=\"counter__wrapper\">\\n<span\\nclass=\"counter__number --days\">00</span><p\\nclass=\"counter__text\">DIAS</p></div><div\\nclass=\"counter__wrapper\">\\n<span\\nclass=\"counter__number --hours\">00</span><p\\nclass=\"counter__text\">HRS</p></div><div\\nclass=\"counter__wrapper\">\\n<span\\nclass=\"counter__number --minutes\">00</span><p\\nclass=\"counter__text\">MIN</p></div><div\\nclass=\"counter__wrapper\">\\n<span\\nclass=\"counter__number --seconds\">00</span><p\\nclass=\"counter__text\">SEG</p></div></div></div>\\n</a><header\\nclass=\"header--home\"><div\\nclass=\"container\"><nav\\nclass=\"header__nav--home\">\\n<a\\nhref=\"/\" class=\"header__nav__link--home header__nav__link--logo\">\\n<img\\nclass=\"header__nav__link__logo\" alt=\"Alura\"\\nsrc=\"/assets/img/home/alura-logo.1647533643.svg\">\\n</a><div\\nclass=\"header__nav__wrapper header__nav__wrapper--ctas\"><div\\nclass=\"header-utilitario-busca header-utilitario-busca--home\" aria-label=\"Busca\">\\n<svg\\nclass=\"header-utilitario-busca-icone--home\" xmlns:xlink=\"http://www.w3.org/1999/xlink\">\\n<use\\nxlink:href=\"/svg,1647533643/header#icon-header-busca-home\"/>\\n</svg></div>\\n<a\\nhref=\"https://cursos.alura.com.br/loginForm?urlAfterLogin=https://cursos.alura.com.br/dashboard\" class=\"header__nav__link header__nav__link--entrar\">Entrar</a>\\n<a\\nhref=\"/planos-cursos-online\" class=\"header__nav__link header__nav__link--cta\">Matricule-se</a></div><div\\nclass=\"header-barraBusca__wrapper\"><div\\nclass=\"header-barraBusca header-barraBusca--home\"><form\\naction=\"/busca\" class=\"header-barraBusca-form\">\\n<label\\nfor=\"header-barraBusca-form-campoBusca\">Qual curso procura?</label>\\n<input\\ntype=\"search\" id=\"header-barraBusca-form-campoBusca\" name=\"query\"\\nclass=\"header-barraBusca-form-serch-input header-barra-busca--home\" placeholder=\"O que voc\\xc3\\xaa quer aprender?\">\\n<button\\nclass=\"header-barraBusca-form-submit\" type=\"submit\"></button></form></div></div><div\\nclass=\"nav__courses__wrapper header__nav__wrapper header__nav__wrapper--menu\">\\n<a\\nhref=\"/formacoes\" class=\"nav__courses__link--home header__menu-options--home\">\\n<span>\\nNossas\\n</span>\\n<span>\\nForma\\xc3\\xa7\\xc3\\xb5es\\n</span>\\n</a>\\n<a\\nhref=\"/empresas\" class=\"nav__courses__link--home header__menu-options--home\">\\n<span>\\nPara\\n</span>\\n<span>\\nEmpresas\\n</span>\\n</a>\\n<a\\nhref=\"/dev-em-t\" class=\"nav__courses__link--home header__menu-options--home\">\\n<span>\\nDev\\n</span>\\n<span>\\nem  &lt;T&gt;\\n</span>\\n</a></div><ul\\nclass=\"header-navegacao-cursos-lista container header__menu-allcourses--home\"><li\\nclass=\"header-cursos-lista-categoria \">\\n<a\\nhref=\"/cursos-online-programacao\" class=\"unlinkify\">\\n<svg\\nclass=\"header-cursos-lista-categoria--icon\" style=\"fill: #ffffff\" xmlns:xlink=\"http://www.w3.org/1999/xlink\">\\n<use\\nxlink:href=\"/svg,1659989152/categorias#icon-categorias-programacao\"/>\\n</svg><div\\nclass=\"header-lista-categoria-nome--home\">\\n<span>Programa\\xc3\\xa7\\xc3\\xa3o</span></div>\\n</a></li><li\\nclass=\"header-cursos-lista-categoria \">\\n<a\\nhref=\"/cursos-online-front-end\" class=\"unlinkify\">\\n<svg\\nclass=\"header-cursos-lista-categoria--icon\" style=\"fill: #ffffff\" xmlns:xlink=\"http://www.w3.org/1999/xlink\">\\n<use\\nxlink:href=\"/svg,1659989152/categorias#icon-categorias-front-end\"/>\\n</svg><div\\nclass=\"header-lista-categoria-nome--home\">\\n<span>Front-end</span></div>\\n</a></li><li\\nclass=\"header-cursos-lista-categoria \">\\n<a\\nhref=\"/cursos-online-data-science\" class=\"unlinkify\">\\n<svg\\nclass=\"header-cursos-lista-categoria--icon\" style=\"fill: #ffffff\" xmlns:xlink=\"http://www.w3.org/1999/xlink\">\\n<use\\nxlink:href=\"/svg,1659989152/categorias#icon-categorias-data-science\"/>\\n</svg><div\\nclass=\"header-lista-categoria-nome--home\">\\n<span>Data Science</span></div>\\n</a></li><li\\nclass=\"header-cursos-lista-categoria \">\\n<a\\nhref=\"/cursos-online-devops\" class=\"unlinkify\">\\n<svg\\nclass=\"header-cursos-lista-categoria--icon\" style=\"fill: #ffffff\" xmlns:xlink=\"http://www.w3.org/1999/xlink\">\\n<use\\nxlink:href=\"/svg,1659989152/categorias#icon-categorias-devops\"/>\\n</svg><div\\nclass=\"header-lista-categoria-nome--home\">\\n<span>DevOps</span></div>\\n</a></li><li\\nclass=\"header-cursos-lista-categoria \">\\n<a\\nhref=\"/cursos-online-design-ux\" class=\"unlinkify\">\\n<svg\\nclass=\"header-cursos-lista-categoria--icon\" style=\"fill: #ffffff\" xmlns:xlink=\"http://www.w3.org/1999/xlink\">\\n<use\\nxlink:href=\"/svg,1659989152/categorias#icon-categorias-design-ux\"/>\\n</svg><div\\nclass=\"header-lista-categoria-nome--home\">\\n<span>UX & Design</span></div>\\n</a></li><li\\nclass=\"header-cursos-lista-categoria \">\\n<a\\nhref=\"/cursos-online-mobile\" class=\"unlinkify\">\\n<svg\\nclass=\"header-cursos-lista-categoria--icon\" style=\"fill: #ffffff\" xmlns:xlink=\"http://www.w3.org/1999/xlink\">\\n<use\\nxlink:href=\"/svg,1659989152/categorias#icon-categorias-mobile\"/>\\n</svg><div\\nclass=\"header-lista-categoria-nome--home\">\\n<span>Mobile</span></div>\\n</a></li><li\\nclass=\"header-cursos-lista-categoria \">\\n<a\\nhref=\"/cursos-online-inovacao-gestao\" class=\"unlinkify\">\\n<svg\\nclass=\"header-cursos-lista-categoria--icon\" style=\"fill: #ffffff\" xmlns:xlink=\"http://www.w3.org/1999/xlink\">\\n<use\\nxlink:href=\"/svg,1659989152/categorias#icon-categorias-inovacao-gestao\"/>\\n</svg><div\\nclass=\"header-lista-categoria-nome--home\">\\n<span>Inova\\xc3\\xa7\\xc3\\xa3o & Gest\\xc3\\xa3o</span></div>\\n</a></li></ul></nav></div></header><div\\nclass=\"container\"><div\\nclass=\"home--background\"><div\\nclass=\"home__titles\"><h1 class=\"home__titles__main-title\">Mergulhe em Tecnologia!</h1><p\\nclass=\"home__titles__sub-title\">Voc\\xc3\\xaa vai estudar, praticar, discutir e se aprofundar em uma plataforma que respira tecnologia.</p></div></div><link\\nrel=\"stylesheet\" href=\"/assets/css/block/categories.1647533642.css\"><link\\nrel=\"stylesheet\" href=\"/assets/css/block/navCategoriasHome.1654026505.css\"><link\\nrel=\"stylesheet\" href=\"/assets/css/block/navCategoriasHome.1654026505.css\"> <script>window.dataLayer.push({\\n                event: \\'view_item_list\\',\\n                value: 3540.00,\\n                items: [{\"id\":\"cursos-online-programacao\",\"google_business_vertical\":\"education\"},{\"id\":\"cursos-online-front-end\",\"google_business_vertical\":\"education\"},{\"id\":\"cursos-online-data-science\",\"google_business_vertical\":\"education\"},{\"id\":\"cursos-online-devops\",\"google_business_vertical\":\"education\"},{\"id\":\"cursos-online-design-ux\",\"google_business_vertical\":\"education\"},{\"id\":\"cursos-online-mobile\",\"google_business_vertical\":\"education\"},{\"id\":\"cursos-online-inovacao-gestao\",\"google_business_vertical\":\"education\"}]});</script> <nav\\nclass=\"categories--home\"><div\\nclass=\"categories__elements--home\"><div\\nclass=\"categories__wrapper__links--home --programacao\" style=\"--color-var: #00c86f\">\\n<a\\nclass=\"categories__link--home\" href=\"/escola-programacao\"><div\\nclass=\"categories__link-wrapper--home\"><div\\nclass=\"categories__svg-wrapper--home\" style=\"background:#00c86f52;\">\\n<svg\\nclass=\"pagina-categoria__svg--home categories__svg--home\" style=\"fill:#00c86f\" xmlns:xlink=\"http://www.w3.org/1999/xlink\">\\n<use\\nxlink:href=\"/svg,1659989152/categorias#icon-categorias-programacao\"/>\\n</svg></div><div\\nclass=\"categories__texts\" style=\"color:#00c86f;\">\\n<span\\nclass=\"categories__link__text\">Escola</span><h4 class=\"categories__link__category-name\">Programa\\xc3\\xa7\\xc3\\xa3o</h4></div></div>\\n</a><nav\\nclass=\"categories__calls--home\">\\n<a\\nhref=\"/cursos-online-programacao/logica\"\\nclass=\"categories__calls__description--home\">L\\xc3\\xb3gica</a><span\\nclass=\"categories__calls__description-separator\">, </span>\\n<a\\nhref=\"/cursos-online-programacao/python\"\\nclass=\"categories__calls__description--home\">Python</a><span\\nclass=\"categories__calls__description-separator\">, </span>\\n<a\\nhref=\"/cursos-online-programacao/php\"\\nclass=\"categories__calls__description--home\">PHP</a><span\\nclass=\"categories__calls__description-separator\">, </span>\\n<a\\nhref=\"/cursos-online-programacao/java\"\\nclass=\"categories__calls__description--home\">Java</a><span\\nclass=\"categories__calls__description-separator\">, </span>\\n<a\\nhref=\"/cursos-online-programacao/dotnet\"\\nclass=\"categories__calls__description--home\">.NET</a><span\\nclass=\"categories__calls__description-separator\">, </span>\\n<a\\nhref=\"/cursos-online-programacao/node-js\"\\nclass=\"categories__calls__description--home\">Node JS</a><span\\nclass=\"categories__calls__description-separator\">, </span>\\n<a\\nhref=\"/cursos-online-programacao/linguagem-c\"\\nclass=\"categories__calls__description--home\">C</a><span\\nclass=\"categories__calls__description-separator\">, </span>\\n<a\\nhref=\"/cursos-online-programacao/computacao\"\\nclass=\"categories__calls__description--home\">Computa\\xc3\\xa7\\xc3\\xa3o</a><span\\nclass=\"categories__calls__description-separator\">, </span>\\n<a\\nhref=\"/cursos-online-programacao/jogos\"\\nclass=\"categories__calls__description--home\">Jogos</a><span\\nclass=\"categories__calls__description-separator\">, </span>\\n<a\\nhref=\"/cursos-online-programacao/internet-das-coisas\"\\nclass=\"categories__calls__description--home\">IoT</a><span\\nclass=\"categories__calls__description-separator\"></span>\\n<a\\nhref=\"/cursos-online-programacao\"\\nclass=\"categories__calls__link-see-more--home\">e mais...</a></nav></div><div\\nclass=\"categories__wrapper__links--home --front-end\" style=\"--color-var: #6bd1ff\">\\n<a\\nclass=\"categories__link--home\" href=\"/escola-front-end\"><div\\nclass=\"categories__link-wrapper--home\"><div\\nclass=\"categories__svg-wrapper--home\" style=\"background:#6bd1ff52;\">\\n<svg\\nclass=\"pagina-categoria__svg--home categories__svg--home\" style=\"fill:#6bd1ff\" xmlns:xlink=\"http://www.w3.org/1999/xlink\">\\n<use\\nxlink:href=\"/svg,1659989152/categorias#icon-categorias-front-end\"/>\\n</svg></div><div\\nclass=\"categories__texts\" style=\"color:#6bd1ff;\">\\n<span\\nclass=\"categories__link__text\">Escola</span><h4 class=\"categories__link__category-name\">Front-end</h4></div></div>\\n</a><nav\\nclass=\"categories__calls--home\">\\n<a\\nhref=\"/cursos-online-front-end/front-end\"\\nclass=\"categories__calls__description--home\">HTML, CSS</a><span\\nclass=\"categories__calls__description-separator\">, </span>\\n<a\\nhref=\"/cursos-online-front-end/reactjs\"\\nclass=\"categories__calls__description--home\">React</a><span\\nclass=\"categories__calls__description-separator\">, </span>\\n<a\\nhref=\"/cursos-online-front-end/angular\"\\nclass=\"categories__calls__description--home\">Angular</a><span\\nclass=\"categories__calls__description-separator\">, </span>\\n<a\\nhref=\"/cursos-online-front-end/javascript\"\\nclass=\"categories__calls__description--home\">JavaScript</a><span\\nclass=\"categories__calls__description-separator\">, </span>\\n<a\\nhref=\"/cursos-online-front-end/jquery\"\\nclass=\"categories__calls__description--home\">jQuery</a><span\\nclass=\"categories__calls__description-separator\"></span>\\n<a\\nhref=\"/cursos-online-front-end\"\\nclass=\"categories__calls__link-see-more--home\">e mais...</a></nav></div><div\\nclass=\"categories__wrapper__links--home --data-science\" style=\"--color-var: #9cd33b\">\\n<a\\nclass=\"categories__link--home\" href=\"/escola-data-science\"><div\\nclass=\"categories__link-wrapper--home\"><div\\nclass=\"categories__svg-wrapper--home\" style=\"background:#9cd33b52;\">\\n<svg\\nclass=\"pagina-categoria__svg--home categories__svg--home\" style=\"fill:#9cd33b\" xmlns:xlink=\"http://www.w3.org/1999/xlink\">\\n<use\\nxlink:href=\"/svg,1659989152/categorias#icon-categorias-data-science\"/>\\n</svg></div><div\\nclass=\"categories__texts\" style=\"color:#9cd33b;\">\\n<span\\nclass=\"categories__link__text\">Escola</span><h4 class=\"categories__link__category-name\">Data Science</h4></div></div>\\n</a><nav\\nclass=\"categories__calls--home\">\\n<a\\nhref=\"/cursos-online-data-science/data-science\"\\nclass=\"categories__calls__description--home\">Ci\\xc3\\xaancia de dados</a><span\\nclass=\"categories__calls__description-separator\">, </span>\\n<a\\nhref=\"/cursos-online-data-science/business-intelligence\"\\nclass=\"categories__calls__description--home\">BI</a><span\\nclass=\"categories__calls__description-separator\">, </span>\\n<a\\nhref=\"/cursos-online-data-science/sql\"\\nclass=\"categories__calls__description--home\">SQL e Banco de Dados</a><span\\nclass=\"categories__calls__description-separator\">, </span>\\n<a\\nhref=\"/cursos-online-data-science/excel\"\\nclass=\"categories__calls__description--home\">Excel</a><span\\nclass=\"categories__calls__description-separator\">, </span>\\n<a\\nhref=\"/cursos-online-data-science/machine-learning\"\\nclass=\"categories__calls__description--home\">Machine Learning</a><span\\nclass=\"categories__calls__description-separator\">, </span>\\n<a\\nhref=\"/cursos-online-data-science/nosql\"\\nclass=\"categories__calls__description--home\">NoSQL</a><span\\nclass=\"categories__calls__description-separator\">, </span>\\n<a\\nhref=\"/cursos-online-data-science/estatistica\"\\nclass=\"categories__calls__description--home\">Estat\\xc3\\xadstica</a><span\\nclass=\"categories__calls__description-separator\"></span>\\n<a\\nhref=\"/cursos-online-data-science\"\\nclass=\"categories__calls__link-see-more--home\">e mais...</a></nav></div><div\\nclass=\"categories__wrapper__links--home --devops\" style=\"--color-var: #f16165\">\\n<a\\nclass=\"categories__link--home\" href=\"/escola-devops\"><div\\nclass=\"categories__link-wrapper--home\"><div\\nclass=\"categories__svg-wrapper--home\" style=\"background:#f1616552;\">\\n<svg\\nclass=\"pagina-categoria__svg--home categories__svg--home\" style=\"fill:#f16165\" xmlns:xlink=\"http://www.w3.org/1999/xlink\">\\n<use\\nxlink:href=\"/svg,1659989152/categorias#icon-categorias-devops\"/>\\n</svg></div><div\\nclass=\"categories__texts\" style=\"color:#f16165;\">\\n<span\\nclass=\"categories__link__text\">Escola</span><h4 class=\"categories__link__category-name\">DevOps</h4></div></div>\\n</a><nav\\nclass=\"categories__calls--home\">\\n<a\\nhref=\"/cursos-online-devops/aws\"\\nclass=\"categories__calls__description--home\">AWS</a><span\\nclass=\"categories__calls__description-separator\">, </span>\\n<a\\nhref=\"/cursos-online-devops/azure\"\\nclass=\"categories__calls__description--home\">Azure</a><span\\nclass=\"categories__calls__description-separator\">, </span>\\n<a\\nhref=\"/cursos-online-devops/containers\"\\nclass=\"categories__calls__description--home\">Docker</a><span\\nclass=\"categories__calls__description-separator\">, </span>\\n<a\\nhref=\"/cursos-online-devops/seguranca\"\\nclass=\"categories__calls__description--home\">Seguran\\xc3\\xa7a</a><span\\nclass=\"categories__calls__description-separator\">, </span>\\n<a\\nhref=\"/cursos-online-devops/infraestrutura-como-codigo\"\\nclass=\"categories__calls__description--home\">IaC</a><span\\nclass=\"categories__calls__description-separator\">, </span>\\n<a\\nhref=\"/cursos-online-devops/linux-comandos-e-processos\"\\nclass=\"categories__calls__description--home\">Linux</a><span\\nclass=\"categories__calls__description-separator\"></span>\\n<a\\nhref=\"/cursos-online-devops\"\\nclass=\"categories__calls__link-see-more--home\">e mais...</a></nav></div><div\\nclass=\"categories__wrapper__links--home --design-ux\" style=\"--color-var: #dc6ebe\">\\n<a\\nclass=\"categories__link--home\" href=\"/escola-design-ux\"><div\\nclass=\"categories__link-wrapper--home\"><div\\nclass=\"categories__svg-wrapper--home\" style=\"background:#dc6ebe52;\">\\n<svg\\nclass=\"pagina-categoria__svg--home categories__svg--home\" style=\"fill:#dc6ebe\" xmlns:xlink=\"http://www.w3.org/1999/xlink\">\\n<use\\nxlink:href=\"/svg,1659989152/categorias#icon-categorias-design-ux\"/>\\n</svg></div><div\\nclass=\"categories__texts\" style=\"color:#dc6ebe;\">\\n<span\\nclass=\"categories__link__text\">Escola</span><h4 class=\"categories__link__category-name\">UX & Design</h4></div></div>\\n</a><nav\\nclass=\"categories__calls--home\">\\n<a\\nhref=\"/cursos-online-design-ux/ux\"\\nclass=\"categories__calls__description--home\">Usabilidade e UX</a><span\\nclass=\"categories__calls__description-separator\">, </span>\\n<a\\nhref=\"/cursos-online-design-ux/video\"\\nclass=\"categories__calls__description--home\">V\\xc3\\xaddeo e Motion</a><span\\nclass=\"categories__calls__description-separator\">, </span>\\n<a\\nhref=\"/cursos-online-design-ux/3d\"\\nclass=\"categories__calls__description--home\">3D</a><span\\nclass=\"categories__calls__description-separator\"></span>\\n<a\\nhref=\"/cursos-online-design-ux\"\\nclass=\"categories__calls__link-see-more--home\">e mais...</a></nav></div><div\\nclass=\"categories__wrapper__links--home --mobile\" style=\"--color-var: #ffba05\">\\n<a\\nclass=\"categories__link--home\" href=\"/escola-mobile\"><div\\nclass=\"categories__link-wrapper--home\"><div\\nclass=\"categories__svg-wrapper--home\" style=\"background:#ffba0552;\">\\n<svg\\nclass=\"pagina-categoria__svg--home categories__svg--home\" style=\"fill:#ffba05\" xmlns:xlink=\"http://www.w3.org/1999/xlink\">\\n<use\\nxlink:href=\"/svg,1659989152/categorias#icon-categorias-mobile\"/>\\n</svg></div><div\\nclass=\"categories__texts\" style=\"color:#ffba05;\">\\n<span\\nclass=\"categories__link__text\">Escola</span><h4 class=\"categories__link__category-name\">Mobile</h4></div></div>\\n</a><nav\\nclass=\"categories__calls--home\">\\n<a\\nhref=\"/cursos-online-mobile/react-native\"\\nclass=\"categories__calls__description--home\">React Native</a><span\\nclass=\"categories__calls__description-separator\">, </span>\\n<a\\nhref=\"/cursos-online-mobile/flutter\"\\nclass=\"categories__calls__description--home\">Flutter</a><span\\nclass=\"categories__calls__description-separator\">, </span>\\n<a\\nhref=\"/cursos-online-mobile/ios\"\\nclass=\"categories__calls__description--home\">iOS e Swift</a><span\\nclass=\"categories__calls__description-separator\">, </span>\\n<a\\nhref=\"/cursos-online-mobile/android\"\\nclass=\"categories__calls__description--home\">Android, Kotlin</a><span\\nclass=\"categories__calls__description-separator\">, </span>\\n<a\\nhref=\"/cursos-online-mobile/jogos\"\\nclass=\"categories__calls__description--home\">Jogos</a><span\\nclass=\"categories__calls__description-separator\"></span>\\n<a\\nhref=\"/cursos-online-mobile\"\\nclass=\"categories__calls__link-see-more--home\">e mais...</a></nav></div><div\\nclass=\"categories__wrapper__links--home --inovacao-gestao\" style=\"--color-var: #ff8c2a\">\\n<a\\nclass=\"categories__link--home\" href=\"/escola-inovacao-gestao\"><div\\nclass=\"categories__link-wrapper--home\"><div\\nclass=\"categories__svg-wrapper--home\" style=\"background:#ff8c2a52;\">\\n<svg\\nclass=\"pagina-categoria__svg--home categories__svg--home\" style=\"fill:#ff8c2a\" xmlns:xlink=\"http://www.w3.org/1999/xlink\">\\n<use\\nxlink:href=\"/svg,1659989152/categorias#icon-categorias-inovacao-gestao\"/>\\n</svg></div><div\\nclass=\"categories__texts\" style=\"color:#ff8c2a;\">\\n<span\\nclass=\"categories__link__text\">Escola</span><h4 class=\"categories__link__category-name\">Inova\\xc3\\xa7\\xc3\\xa3o & Gest\\xc3\\xa3o</h4></div></div>\\n</a><nav\\nclass=\"categories__calls--home\">\\n<a\\nhref=\"/cursos-online-inovacao-gestao/agilidade\"\\nclass=\"categories__calls__description--home\">M\\xc3\\xa9todos \\xc3\\x81geis</a><span\\nclass=\"categories__calls__description-separator\">, </span>\\n<a\\nhref=\"/cursos-online-inovacao-gestao/softskills-carreira\"\\nclass=\"categories__calls__description--home\">Softskills</a><span\\nclass=\"categories__calls__description-separator\">, </span>\\n<a\\nhref=\"/cursos-online-inovacao-gestao/gestao-corporativa\"\\nclass=\"categories__calls__description--home\">Lideran\\xc3\\xa7a e Gest\\xc3\\xa3o</a><span\\nclass=\"categories__calls__description-separator\">, </span>\\n<a\\nhref=\"/cursos-online-inovacao-gestao/startup-empreendedorismo\"\\nclass=\"categories__calls__description--home\">Startups</a><span\\nclass=\"categories__calls__description-separator\">, </span>\\n<a\\nhref=\"/cursos-online-inovacao-gestao/vendas\"\\nclass=\"categories__calls__description--home\">Vendas</a><span\\nclass=\"categories__calls__description-separator\"></span>\\n<a\\nhref=\"/cursos-online-inovacao-gestao\"\\nclass=\"categories__calls__link-see-more--home\">e mais...</a></nav></div></div></nav></div></div></div><main\\nclass=\"home__main-content\"><section\\nclass=\"features container\"><aside\\nclass=\"features__video\"><div\\nclass=\"features__video-wrapper\"><div\\nclass=\"home-diferenciais-video\"><div\\nclass=\"home-diferenciais-video-wrapper\">\\n<iframe\\nwidth=\"100%\" height=\"315\" src=\"https://www.youtube.com/embed/2t8ycK8D4Rk\" title=\"YouTube video player\" frameborder=\"0\" allow=\"accelerometer; autoplay; clipboard-write; encrypted-media; gyroscope; picture-in-picture\" allowfullscreen></iframe></div></div></div>\\n<a\\nclass=\"features__video__link features--desktop\" href=\"/como-funciona\">Veja como funciona</a></aside><aside\\nclass=\"features__info\"><h2 class=\"features__info__title\">A maior escola online de tecnologia do Brasil.</h2>\\n<span\\nclass=\"features__info__subtitle\">Mergulhe com profundidade e navegue em outras \\xc3\\xa1reas de Tecnologia. Profissional em &lt;T&gt;. </span>\\n<a\\nclass=\"features__video__link features--mobile\" href=\"/como-funciona\">Veja como funciona</a></aside></section><section\\nclass=\"alura-benefits\"><div\\nclass=\"container\"><ul\\nclass=\"alura-benefits-list\"><li>\\n<img\\nsrc=\"/assets/img/home/icon-home-farol.1647533643.svg\" alt=\"\"><h2>Navegue sua carreira</h2><p>S\\xc3\\xa3o <strong>1406 cursos</strong> e novos lan\\xc3\\xa7amentos toda semana, al\\xc3\\xa9m de atualiza\\xc3\\xa7\\xc3\\xb5es e melhorias constantes.</p></li><li>\\n<img\\nsrc=\"/assets/img/home/icon-home-snorkel.1647533643.svg\" alt=\"\"><h2>Aprofunde-se de vez</h2><p>Garantimos conhecimento com profundidade e diversidade, para se tornar um profissional em T!</p></li><li>\\n<img\\nsrc=\"/assets/img/home/icon-home-onda.1647533643.svg\" alt=\"\"><h2>Conte\\xc3\\xbado imersivo</h2><p>Fa\\xc3\\xa7a parte de uma comunidade de apaixonados por tudo que \\xc3\\xa9 digital. Mergulhe na comunidade Alura.</p></li></ul></div></section><section\\nclass=\"degrees-list\"><div\\nclass=\"container --titles\"><h3>Nossas Forma\\xc3\\xa7\\xc3\\xb5es, Seu Guia</h3><h2>Sequ\\xc3\\xaancias de cursos organizados em Forma\\xc3\\xa7\\xc3\\xb5es</h2><p>Forma\\xc3\\xa7\\xc3\\xb5es com conte\\xc3\\xbado do mercado de trabalho: sequ\\xc3\\xaancias de cursos e conte\\xc3\\xbado para voc\\xc3\\xaa se capacitar em tecnologia e neg\\xc3\\xb3cios digitais.</p></div><div\\nclass=\"container --items\"><ul\\nclass=\"careers__list\"><style type=\"text/css\">.career-programacao-title:after {\\n                                background-color:#00c86f;\\n                            }</style><li\\nclass=\"careers__list__item --programacao \" style=\"color:#00c86f;\"><div\\nclass=\"careers__list__item__title-wrapper\"><div\\nclass=\"categories__svg-wrapper\" style=\"background-color:#00c86f52;\">\\n<svg\\nclass=\"pagina-categoria__svg svgFill-programacao categories__svg\" style=\"fill: #00c86f;\" xmlns:xlink=\"http://www.w3.org/1999/xlink\">\\n<use\\nxlink:href=\"/svg,1659989152/categorias#icon-categorias-programacao\"/>\\n</svg></div><h3 class=\"careers__list__item__title\">Programa\\xc3\\xa7\\xc3\\xa3o</h3></div><ul\\nclass=\"careers__list__item__list careers__list__item__list--formacoes\"><li\\nclass=\"careers__list__item__list__item\">\\n<a\\nclass=\"careers__list__item__list__item__link\" href=\"/formacao-arquitetura-design-projetos-java\">\\nArquitetura e Design de Projetos Java                                        </a></li><li\\nclass=\"careers__list__item__list__item\">\\n<a\\nclass=\"careers__list__item__list__item__link\" href=\"/formacao-arquiteto-php\">\\nArquitetura PHP                                        </a></li><li\\nclass=\"careers__list__item__list__item\">\\n<a\\nclass=\"careers__list__item__list__item__link\" href=\"/formacao-dotnet\">\\nASP.NET Core REST APIs                                        </a></li><li\\nclass=\"careers__list__item__list__item\">\\n<a\\nclass=\"careers__list__item__list__item__link\" href=\"/formacao-avancando-c-sharp\">\\nAvan\\xc3\\xa7ando em C#                                        </a></li><li\\nclass=\"careers__list__item__list__item\">\\n<a\\nclass=\"careers__list__item__list__item__link\" href=\"/formacao-avancando-nodejs\">\\nAvan\\xc3\\xa7ando em Node.js                                        </a></li><li\\nclass=\"careers__list__item__list__item\">\\n<a\\nclass=\"careers__list__item__list__item__link\" href=\"/formacao-avancando-php\">\\nAvan\\xc3\\xa7ando em PHP                                        </a></li><li\\nclass=\"careers__list__item__list__item\">\\n<a\\nclass=\"careers__list__item__list__item__link\" href=\"/formacao-boas-praticas-c-sharp\">\\nBoas pr\\xc3\\xa1ticas em C#                                        </a></li><li\\nclass=\"careers__list__item__list__item\">\\n<a\\nclass=\"careers__list__item__list__item__link\" href=\"/formacao-boas-praticas-php\">\\nBoas pr\\xc3\\xa1ticas em PHP                                        </a></li><li\\nclass=\"careers__list__item__see-more\">\\n<a\\nhref=\"/escola-programacao\" class=\"careers__list__item__see-more__link\">ver escola</a></li></ul></li><style type=\"text/css\">.career-front-end-title:after {\\n                                background-color:#6bd1ff;\\n                            }</style><li\\nclass=\"careers__list__item --front-end \" style=\"color:#6bd1ff;\"><div\\nclass=\"careers__list__item__title-wrapper\"><div\\nclass=\"categories__svg-wrapper\" style=\"background-color:#6bd1ff52;\">\\n<svg\\nclass=\"pagina-categoria__svg svgFill-front-end categories__svg\" style=\"fill: #6bd1ff;\" xmlns:xlink=\"http://www.w3.org/1999/xlink\">\\n<use\\nxlink:href=\"/svg,1659989152/categorias#icon-categorias-front-end\"/>\\n</svg></div><h3 class=\"careers__list__item__title\">Front-end</h3></div><ul\\nclass=\"careers__list__item__list careers__list__item__list--formacoes\"><li\\nclass=\"careers__list__item__list__item\">\\n<a\\nclass=\"careers__list__item__list__item__link\" href=\"/formacao-acessibilidade-web\">\\nAcessibilidade Web                                        </a></li><li\\nclass=\"careers__list__item__list__item\">\\n<a\\nclass=\"careers__list__item__list__item__link\" href=\"/formacao-angular\">\\nAngular                                        </a></li><li\\nclass=\"careers__list__item__list__item\">\\n<a\\nclass=\"careers__list__item__list__item__link\" href=\"/formacao-front-end\">\\nFront-end                                        </a></li><li\\nclass=\"careers__list__item__list__item\">\\n<a\\nclass=\"careers__list__item__list__item__link\" href=\"/formacao-html-e-css\">\\nHTML e CSS                                        </a></li><li\\nclass=\"careers__list__item__list__item\">\\n<a\\nclass=\"careers__list__item__list__item__link\" href=\"/formacao-javascript-front-end\">\\nJavaScript para Front-end                                        </a></li><li\\nclass=\"careers__list__item__list__item\">\\n<a\\nclass=\"careers__list__item__list__item__link\" href=\"/formacao-next-js\">\\nNext.JS                                        </a></li><li\\nclass=\"careers__list__item__list__item\">\\n<a\\nclass=\"careers__list__item__list__item__link\" href=\"/formacao-react-ts\">\\nReact com TypeScript                                        </a></li><li\\nclass=\"careers__list__item__list__item\">\\n<a\\nclass=\"careers__list__item__list__item__link\" href=\"/formacao-svelte\">\\nSvelte                                        </a></li><li\\nclass=\"careers__list__item__see-more\">\\n<a\\nhref=\"/escola-front-end\" class=\"careers__list__item__see-more__link\">ver escola</a></li></ul></li><style type=\"text/css\">.career-data-science-title:after {\\n                                background-color:#9cd33b;\\n                            }</style><li\\nclass=\"careers__list__item --data-science \" style=\"color:#9cd33b;\"><div\\nclass=\"careers__list__item__title-wrapper\"><div\\nclass=\"categories__svg-wrapper\" style=\"background-color:#9cd33b52;\">\\n<svg\\nclass=\"pagina-categoria__svg svgFill-data-science categories__svg\" style=\"fill: #9cd33b;\" xmlns:xlink=\"http://www.w3.org/1999/xlink\">\\n<use\\nxlink:href=\"/svg,1659989152/categorias#icon-categorias-data-science\"/>\\n</svg></div><h3 class=\"careers__list__item__title\">Data Science</h3></div><ul\\nclass=\"careers__list__item__list careers__list__item__list--formacoes\"><li\\nclass=\"careers__list__item__list__item\">\\n<a\\nclass=\"careers__list__item__list__item__link\" href=\"/formacao-apache-spark-python\">\\nApache Spark com Python                                        </a></li><li\\nclass=\"careers__list__item__list__item\">\\n<a\\nclass=\"careers__list__item__list__item__link\" href=\"/formacao-business-intelligence-data-warehouse-pentaho\">\\nBI e Data Warehouse com Pentaho                                        </a></li><li\\nclass=\"careers__list__item__list__item\">\\n<a\\nclass=\"careers__list__item__list__item__link\" href=\"/formacao-business-intelligence-data-warehouse\">\\nBI e Data Warehouse com SQL Server e Power BI                                        </a></li><li\\nclass=\"careers__list__item__list__item\">\\n<a\\nclass=\"careers__list__item__list__item__link\" href=\"/formacao-data-analysis-google-sheets\">\\nData Analysis com Google Sheets                                        </a></li><li\\nclass=\"careers__list__item__list__item\">\\n<a\\nclass=\"careers__list__item__list__item__link\" href=\"/formacao-data-science\">\\nData Science                                        </a></li><li\\nclass=\"careers__list__item__list__item\">\\n<a\\nclass=\"careers__list__item__list__item__link\" href=\"/formacao-datomic\">\\nDatomic                                        </a></li><li\\nclass=\"careers__list__item__list__item\">\\n<a\\nclass=\"careers__list__item__list__item__link\" href=\"/formacao-deep-learning-pytorch\">\\nDeep Learning com Pytorch                                        </a></li><li\\nclass=\"careers__list__item__list__item\">\\n<a\\nclass=\"careers__list__item__list__item__link\" href=\"/formacao-estatistica-python\">\\nEstat\\xc3\\xadstica com Python                                        </a></li><li\\nclass=\"careers__list__item__see-more\">\\n<a\\nhref=\"/escola-data-science\" class=\"careers__list__item__see-more__link\">ver escola</a></li></ul></li><style type=\"text/css\">.career-devops-title:after {\\n                                background-color:#f16165;\\n                            }</style><li\\nclass=\"careers__list__item --devops \" style=\"color:#f16165;\"><div\\nclass=\"careers__list__item__title-wrapper\"><div\\nclass=\"categories__svg-wrapper\" style=\"background-color:#f1616552;\">\\n<svg\\nclass=\"pagina-categoria__svg svgFill-devops categories__svg\" style=\"fill: #f16165;\" xmlns:xlink=\"http://www.w3.org/1999/xlink\">\\n<use\\nxlink:href=\"/svg,1659989152/categorias#icon-categorias-devops\"/>\\n</svg></div><h3 class=\"careers__list__item__title\">DevOps</h3></div><ul\\nclass=\"careers__list__item__list careers__list__item__list--formacoes\"><li\\nclass=\"careers__list__item__list__item\">\\n<a\\nclass=\"careers__list__item__list__item__link\" href=\"/formacao-redes\">\\nAdministra\\xc3\\xa7\\xc3\\xa3o de Redes                                        </a></li><li\\nclass=\"careers__list__item__list__item\">\\n<a\\nclass=\"careers__list__item__list__item__link\" href=\"/formacao-amazon-web-services\">\\nAmazon Web Services                                        </a></li><li\\nclass=\"careers__list__item__list__item\">\\n<a\\nclass=\"careers__list__item__list__item__link\" href=\"/formacao-kafka\">\\nApache Kafka                                        </a></li><li\\nclass=\"careers__list__item__list__item\">\\n<a\\nclass=\"careers__list__item__list__item__link\" href=\"/formacao-aws-certified-cloud-practitioner\">\\nAWS Certified Cloud Practitioner                                        </a></li><li\\nclass=\"careers__list__item__list__item\">\\n<a\\nclass=\"careers__list__item__list__item__link\" href=\"/formacao-aws-certified-solutions-architect-associate\">\\nAWS Certified Solutions Architect - Associate                                        </a></li><li\\nclass=\"careers__list__item__list__item\">\\n<a\\nclass=\"careers__list__item__list__item__link\" href=\"/formacao-certificacao-az-900-microsoft-azure-fundamentals\">\\nCertifica\\xc3\\xa7\\xc3\\xa3o AZ-900: Microsoft Azure Fundamentals                                        </a></li><li\\nclass=\"careers__list__item__list__item\">\\n<a\\nclass=\"careers__list__item__list__item__link\" href=\"/formacao-docker-dca\">\\nCertifica\\xc3\\xa7\\xc3\\xa3o Docker DCA                                        </a></li><li\\nclass=\"careers__list__item__list__item\">\\n<a\\nclass=\"careers__list__item__list__item__link\" href=\"/formacao-certificacao-lpi-linux-essentials\">\\nCertifica\\xc3\\xa7\\xc3\\xa3o LPI Linux Essentials                                        </a></li><li\\nclass=\"careers__list__item__see-more\">\\n<a\\nhref=\"/escola-devops\" class=\"careers__list__item__see-more__link\">ver escola</a></li></ul></li><style type=\"text/css\">.career-design-ux-title:after {\\n                                background-color:#dc6ebe;\\n                            }</style><li\\nclass=\"careers__list__item --design-ux \" style=\"color:#dc6ebe;\"><div\\nclass=\"careers__list__item__title-wrapper\"><div\\nclass=\"categories__svg-wrapper\" style=\"background-color:#dc6ebe52;\">\\n<svg\\nclass=\"pagina-categoria__svg svgFill-design-ux categories__svg\" style=\"fill: #dc6ebe;\" xmlns:xlink=\"http://www.w3.org/1999/xlink\">\\n<use\\nxlink:href=\"/svg,1659989152/categorias#icon-categorias-design-ux\"/>\\n</svg></div><h3 class=\"careers__list__item__title\">UX & Design</h3></div><ul\\nclass=\"careers__list__item__list careers__list__item__list--formacoes\"><li\\nclass=\"careers__list__item__list__item\">\\n<a\\nclass=\"careers__list__item__list__item__link\" href=\"/formacao-adobe-mobile\">\\nAdobe Mobile                                        </a></li><li\\nclass=\"careers__list__item__list__item\">\\n<a\\nclass=\"careers__list__item__list__item__link\" href=\"/formacao-ui-adobe-xd\">\\nAdobe XD                                        </a></li><li\\nclass=\"careers__list__item__list__item\">\\n<a\\nclass=\"careers__list__item__list__item__link\" href=\"/formacao-blender\">\\nBlender                                        </a></li><li\\nclass=\"careers__list__item__list__item\">\\n<a\\nclass=\"careers__list__item__list__item__link\" href=\"/formacao-canva\">\\nCanva                                        </a></li><li\\nclass=\"careers__list__item__list__item\">\\n<a\\nclass=\"careers__list__item__list__item__link\" href=\"/formacao-desenhohumano-photoshop\">\\nDesenho b\\xc3\\xa1sico                                        </a></li><li\\nclass=\"careers__list__item__list__item\">\\n<a\\nclass=\"careers__list__item__list__item__link\" href=\"/formacao-desenvolvimento-carreira-ux\">\\nDesenvolvimento de Carreira em UX                                        </a></li><li\\nclass=\"careers__list__item__list__item\">\\n<a\\nclass=\"careers__list__item__list__item__link\" href=\"/formacao-design-de-jogos\">\\nDesign de Jogos                                        </a></li><li\\nclass=\"careers__list__item__list__item\">\\n<a\\nclass=\"careers__list__item__list__item__link\" href=\"/formacao-design-grafico\">\\nDesign Gr\\xc3\\xa1fico                                        </a></li><li\\nclass=\"careers__list__item__see-more\">\\n<a\\nhref=\"/escola-design-ux\" class=\"careers__list__item__see-more__link\">ver escola</a></li></ul></li><style type=\"text/css\">.career-mobile-title:after {\\n                                background-color:#ffba05;\\n                            }</style><li\\nclass=\"careers__list__item --mobile \" style=\"color:#ffba05;\"><div\\nclass=\"careers__list__item__title-wrapper\"><div\\nclass=\"categories__svg-wrapper\" style=\"background-color:#ffba0552;\">\\n<svg\\nclass=\"pagina-categoria__svg svgFill-mobile categories__svg\" style=\"fill: #ffba05;\" xmlns:xlink=\"http://www.w3.org/1999/xlink\">\\n<use\\nxlink:href=\"/svg,1659989152/categorias#icon-categorias-mobile\"/>\\n</svg></div><h3 class=\"careers__list__item__title\">Mobile</h3></div><ul\\nclass=\"careers__list__item__list careers__list__item__list--formacoes\"><li\\nclass=\"careers__list__item__list__item\">\\n<a\\nclass=\"careers__list__item__list__item__link\" href=\"/formacao-android\">\\nAndroid                                        </a></li><li\\nclass=\"careers__list__item__list__item\">\\n<a\\nclass=\"careers__list__item__list__item__link\" href=\"/formacao-android-kotlin\">\\nAndroid com Kotlin                                        </a></li><li\\nclass=\"careers__list__item__list__item\">\\n<a\\nclass=\"careers__list__item__list__item__link\" href=\"/formacao-arquitetura-android\">\\nArquitetura Android                                        </a></li><li\\nclass=\"careers__list__item__list__item\">\\n<a\\nclass=\"careers__list__item__list__item__link\" href=\"/formacao-dart\">\\nDart                                        </a></li><li\\nclass=\"careers__list__item__list__item\">\\n<a\\nclass=\"careers__list__item__list__item__link\" href=\"/formacao-firebase-android\">\\nFirebase com Android                                        </a></li><li\\nclass=\"careers__list__item__list__item\">\\n<a\\nclass=\"careers__list__item__list__item__link\" href=\"/formacao-flutter\">\\nFlutter                                        </a></li><li\\nclass=\"careers__list__item__list__item\">\\n<a\\nclass=\"careers__list__item__list__item__link\" href=\"/formacao-ios\">\\niOS                                        </a></li><li\\nclass=\"careers__list__item__list__item\">\\n<a\\nclass=\"careers__list__item__list__item__link\" href=\"/formacao-react-native\">\\nReact Native                                        </a></li><li\\nclass=\"careers__list__item__see-more\">\\n<a\\nhref=\"/escola-mobile\" class=\"careers__list__item__see-more__link\">ver escola</a></li></ul></li><style type=\"text/css\">.career-inovacao-gestao-title:after {\\n                                background-color:#ff8c2a;\\n                            }</style><li\\nclass=\"careers__list__item --inovacao-gestao \" style=\"color:#ff8c2a;\"><div\\nclass=\"careers__list__item__title-wrapper\"><div\\nclass=\"categories__svg-wrapper\" style=\"background-color:#ff8c2a52;\">\\n<svg\\nclass=\"pagina-categoria__svg svgFill-inovacao-gestao categories__svg\" style=\"fill: #ff8c2a;\" xmlns:xlink=\"http://www.w3.org/1999/xlink\">\\n<use\\nxlink:href=\"/svg,1659989152/categorias#icon-categorias-inovacao-gestao\"/>\\n</svg></div><h3 class=\"careers__list__item__title\">Inova\\xc3\\xa7\\xc3\\xa3o & Gest\\xc3\\xa3o</h3></div><ul\\nclass=\"careers__list__item__list careers__list__item__list--formacoes\"><li\\nclass=\"careers__list__item__list__item\">\\n<a\\nclass=\"careers__list__item__list__item__link\" href=\"/formacao-aprendizagem\">\\nAprendizagem                                        </a></li><li\\nclass=\"careers__list__item__list__item\">\\n<a\\nclass=\"careers__list__item__list__item__link\" href=\"/formacao-business-agility\">\\nBusiness Agility                                        </a></li><li\\nclass=\"careers__list__item__list__item\">\\n<a\\nclass=\"careers__list__item__list__item__link\" href=\"/formacao-certificacao-cobit-5\">\\nCertifica\\xc3\\xa7\\xc3\\xa3o Cobit 5                                        </a></li><li\\nclass=\"careers__list__item__list__item\">\\n<a\\nclass=\"careers__list__item__list__item__link\" href=\"/formacao-certificacao-itil-foundation\">\\nCertifica\\xc3\\xa7\\xc3\\xa3o da biblioteca de infraestrutura de tecnologia da informa\\xc3\\xa7\\xc3\\xa3o - Fundamentos v3                                        </a></li><li\\nclass=\"careers__list__item__list__item\">\\n<a\\nclass=\"careers__list__item__list__item__link\" href=\"/formacao-certificacao-pmp-capm-pmi\">\\nCertifica\\xc3\\xa7\\xc3\\xa3o PMP e CAPM do PMI                                        </a></li><li\\nclass=\"careers__list__item__list__item\">\\n<a\\nclass=\"careers__list__item__list__item__link\" href=\"/formacao-comunicacao\">\\nComunica\\xc3\\xa7\\xc3\\xa3o                                        </a></li><li\\nclass=\"careers__list__item__list__item\">\\n<a\\nclass=\"careers__list__item__list__item__link\" href=\"/formacao-comunicacao-lideres\">\\nComunica\\xc3\\xa7\\xc3\\xa3o para l\\xc3\\xadderes                                        </a></li><li\\nclass=\"careers__list__item__list__item\">\\n<a\\nclass=\"careers__list__item__list__item__link\" href=\"/formacao-conformidade-legal\">\\nConformidade legal                                        </a></li><li\\nclass=\"careers__list__item__see-more\">\\n<a\\nhref=\"/escola-inovacao-gestao\" class=\"careers__list__item__see-more__link\">ver escola</a></li></ul></li></ul></div></section><link\\nrel=\"stylesheet\" href=\"/assets/css/block/destaqueAlunos.1647533642.css\"><section\\nclass=\"depoimentos-alunos\"><div\\nclass=\"container\"><div\\nclass=\"depoimentos-area\"><div\\nclass=\"titles\"><h3>Nossos mergulhadores</h3><h2>A maior escola online de tecnologia do Brasil.</h2><p>S\\xc3\\xa3o 1406 cursos, 100% em portugu\\xc3\\xaas. E novos lan\\xc3\\xa7amentos todas as semanas.</p></div><div\\nclass=\"depoimentos-wrapper b2c\"><ul><li>\\n<img\\nsrc=\"/assets/img/aluno-destaque/genilton-souza.1647533642.jpg\"/><p\\nclass=\"depoimento__text\">Se voc\\xc3\\xaa n\\xc3\\xa3o sabe a ordem do que deve aprender e praticar para dominar uma tecnologia, <strong>a forma como os cursos est\\xc3\\xa3o organizados e estruturados na Alura ajuda muito</strong>. Aprendi C# aqui e pago minhas contas com isso hoje em dia.</p><p\\nclass=\"depoimento__author\">Genilton Souza</p></li><li>\\n<img\\nsrc=\"/assets/img/aluno-destaque/leandro-silva.1647533642.jpg\" /><p\\nclass=\"depoimento__text\">Passei dois anos e meio desempregado e foi onde conheci os cursos da Alura. <strong>Consegui fazer uma mudan\\xc3\\xa7a de carreira em uma \\xc3\\xa1rea muito disputada e estou muito feliz</strong>: passei em um processo seletivo como Agente de Inova\\xc3\\xa7\\xc3\\xa3o, e muito do que aprendi tanto para a prova quanto para a etapa presencial foi gra\\xc3\\xa7as a Alura.</p><p\\nclass=\"depoimento__author\">Leandro da Silva</p></li><li>\\n<img\\nsrc=\"/assets/img/aluno-destaque/nadia-oliveira.1647533642.jpg\" /><p\\nclass=\"depoimento__text\">A plataforma \\xc3\\xa9 incr\\xc3\\xadvel. Al\\xc3\\xa9m das metodologias do curso serem de alcance para quem est\\xc3\\xa1 come\\xc3\\xa7ando ou quem j\\xc3\\xa1 est\\xc3\\xa1 avan\\xc3\\xa7ado em alguma tecnologia, no f\\xc3\\xb3rum de d\\xc3\\xbavidas sempre algum instrutor ou aluno te responde em um curto espa\\xc3\\xa7o de tempo. <strong>Na Alura, seu conhecimento \\xc3\\xa9 prioridade</strong>.</p><p\\nclass=\"depoimento__author\">N\\xc3\\xa1dia Oliveira</p></li></ul></div></div></div></section><section\\nclass=\"depoimentos-videos\"><div\\nclass=\"container\"><div\\nclass=\"testimony-container-header\"><h3 class=\"testimony-container-firstTitle\">A Alura vale a pena?</h3><h2 class=\"testimony-container-title\"> Conhe\\xc3\\xa7a os depoimentos e historias de quem estuda com a gente</h2></div><div\\nclass=\"testimony-container-card\"><article\\nclass=\"testimony-student-card --videos\"><div\\nclass=\"testimony-container-box\" style=\"border-top-color:#051933;\"><div\\nclass=\"testimony-container-flex\">\\n<img\\nclass=\"testimony-icon\" src=\"/assets/img/depoimentos/alunos/fiama-de-capua.1647533643.jpeg\" alt=\"Foto de Fiama de C\\xc3\\xa1pua\"><p\\nclass=\"testimony-social-media\" style=\"border-color:#051933; background-color:#051933;\">YouTube</p></div><div\\nclass=\"testimony-container-text-student\"><h3 class=\"testimony-name-student\">Fiama de C\\xc3\\xa1pua</h3><div\\nclass=\"testimony-video-preview\" data-src=\"-80eLO36is0\" style=\"background-image: url(\\'https://i3.ytimg.com/vi/-80eLO36is0/hqdefault.jpg\\')\"></div><p\\nclass=\"testimony-student-details\">Eu consegui mudar de emprego e a quest\\xc3\\xa3o de (aumento da) confian\\xc3\\xa7a ...</p>\\n<a\\nhref=\"https://www.youtube.com/watch?v=-80eLO36is0\" target=\"_blank\" rel=\\xe2\\x80\\x9dnoopener\\xe2\\x80\\x9d class=\"testimony-link-social-media\">Ver depoimento completo no YouTube</a></div></div></article><article\\nclass=\"testimony-student-card --videos\"><div\\nclass=\"testimony-container-box\" style=\"border-top-color:#051933;\"><div\\nclass=\"testimony-container-flex\">\\n<img\\nclass=\"testimony-icon\" src=\"/assets/img/depoimentos/alunos/jennifer-bittencourt.1647533643.jpeg\" alt=\"Foto de Jennifer Bittencourt\"><p\\nclass=\"testimony-social-media\" style=\"border-color:#051933; background-color:#051933;\">YouTube</p></div><div\\nclass=\"testimony-container-text-student\"><h3 class=\"testimony-name-student\">Jennifer Bittencourt</h3><div\\nclass=\"testimony-video-preview\" data-src=\"JPfyh5XOaec\" style=\"background-image: url(\\'https://i3.ytimg.com/vi/JPfyh5XOaec/hqdefault.jpg\\')\"></div><p\\nclass=\"testimony-student-details\">A Quarentena Dev foi o que \\xe2\\x80\\x9cstartou\\xe2\\x80\\x9d a minha carreira como desenvolvedora...</p>\\n<a\\nhref=\"https://www.youtube.com/watch?v=JPfyh5XOaec\" target=\"_blank\" rel=\\xe2\\x80\\x9dnoopener\\xe2\\x80\\x9d class=\"testimony-link-social-media\">Ver depoimento completo no YouTube</a></div></div></article><article\\nclass=\"testimony-student-card --videos\"><div\\nclass=\"testimony-container-box\" style=\"border-top-color:#051933;\"><div\\nclass=\"testimony-container-flex\">\\n<img\\nclass=\"testimony-icon\" src=\"/assets/img/depoimentos/alunos/joao-vitor-perez.1647533643.jpeg\" alt=\"Foto de Jo\\xc3\\xa3o Vitor Perez\"><p\\nclass=\"testimony-social-media\" style=\"border-color:#051933; background-color:#051933;\">YouTube</p></div><div\\nclass=\"testimony-container-text-student\"><h3 class=\"testimony-name-student\">Jo\\xc3\\xa3o Vitor Perez</h3><div\\nclass=\"testimony-video-preview\" data-src=\"BXhtLcHVejI\" style=\"background-image: url(\\'https://i3.ytimg.com/vi/BXhtLcHVejI/hqdefault.jpg\\')\"></div><p\\nclass=\"testimony-student-details\">Fui convidado por um grupo de pesquisa internacional para trabalhar como Cientista de Dados Jr...</p>\\n<a\\nhref=\"https://www.youtube.com/watch?v=BXhtLcHVejI\" target=\"_blank\" rel=\\xe2\\x80\\x9dnoopener\\xe2\\x80\\x9d class=\"testimony-link-social-media\">Ver depoimento completo no YouTube</a></div></div></article></div><div\\nclass=\"testimony-container-card\"><article\\nclass=\"testimony-student-card\"><div\\nclass=\"testimony-container-box\" style=\"border-top-color:#0966c1;\"><div\\nclass=\"testimony-container-flex\">\\n<img\\nclass=\"testimony-icon\" src=\"/assets/img/depoimentos/alunos/laiza-pimentel.1647533643.jpeg\" alt=\"Foto de La\\xc3\\xadza Pimentel\"><p\\nclass=\"testimony-social-media\" style=\"border-color:#0966c1; background-color:#0966c1;\">LinkedIn</p></div><div\\nclass=\"testimony-container-text-student\"><h3 class=\"testimony-name-student\">La\\xc3\\xadza Pimentel</h3><p\\nclass=\"testimony-student-details\">Estou amando a plataforma da Alura, consigo me empenhar e praticar os exerc\\xc3\\xadcios, professor totalmente did\\xc3\\xa1tico e bem explicativo para n\\xc3\\xa3o deixar nenhuma d\\xc3\\xbavida...</p>\\n<a\\nhref=\"https://www.linkedin.com/feed/update/urn:li:activity:6801182949632020480/?actorCompanyId=3824181\" target=\"_blank\" rel=\\xe2\\x80\\x9dnoopener\\xe2\\x80\\x9d class=\"testimony-link-social-media\">Ver depoimento completo no LinkedIn</a></div></div></article><article\\nclass=\"testimony-student-card\"><div\\nclass=\"testimony-container-box\" style=\"border-top-color:#1da1f2;\"><div\\nclass=\"testimony-container-flex\">\\n<img\\nclass=\"testimony-icon\" src=\"/assets/img/depoimentos/alunos/caroline-araujo.1647533643.jpeg\" alt=\"Foto de Caroline Araujo\"><p\\nclass=\"testimony-social-media\" style=\"border-color:#1da1f2; background-color:#1da1f2;\">Twitter</p></div><div\\nclass=\"testimony-container-text-student\"><h3 class=\"testimony-name-student\">Caroline Araujo</h3><p\\nclass=\"testimony-student-details\">Todas as aulas s\\xc3\\xa3o din\\xc3\\xa2micas, os tempos de cada aula s\\xc3\\xa3o de uma dura\\xc3\\xa7\\xc3\\xa3o ideal para vc n\\xc3\\xa3o dispersar...</p>\\n<a\\nhref=\"https://twitter.com/bidungona/status/1305787155713843201\" target=\"_blank\" rel=\\xe2\\x80\\x9dnoopener\\xe2\\x80\\x9d class=\"testimony-link-social-media\">Ver depoimento completo no Twitter</a></div></div></article><article\\nclass=\"testimony-student-card\"><div\\nclass=\"testimony-container-box\" style=\"border-top-color:#0966c1;\"><div\\nclass=\"testimony-container-flex\">\\n<img\\nclass=\"testimony-icon\" src=\"/assets/img/depoimentos/alunos/felipe-lemes-min.1647533643.jpeg\" alt=\"Foto de Felipe Lemes\"><p\\nclass=\"testimony-social-media\" style=\"border-color:#0966c1; background-color:#0966c1;\">LinkedIn</p></div><div\\nclass=\"testimony-container-text-student\"><h3 class=\"testimony-name-student\">Felipe Lemes</h3><p\\nclass=\"testimony-student-details\">Eu automatizei grande parte do meu trabalho como engenheiro ambiental com Python...</p>\\n<a\\nhref=\"https://www.linkedin.com/pulse/como-utilizei-programa%25C3%25A7%25C3%25A3o-para-otimizar-meu-trabalho-engenheiro/\" target=\"_blank\" rel=\\xe2\\x80\\x9dnoopener\\xe2\\x80\\x9d class=\"testimony-link-social-media\">Ver depoimento completo no LinkedIn</a></div></div></article></div></div><div\\nclass=\"planos-depoimentos__lerMais\">\\n<a\\nhref=\"/depoimentos\">Conhe\\xc3\\xa7a mais dezenas de hist\\xc3\\xb3rias de alunos e alunas da Alura!</a></div></section><section\\nclass=\"depoimentos-empresas\"><div\\nclass=\"container\">\\n<img\\nsrc=\"/assets/img/home/alura-para-empresas.1647533643.svg\" class=\"aluracorp-logo\"><div\\nclass=\"depoimentos-empresas__wrapper\"><div\\nclass=\"depoimentos-empressas__header\"><h3>Alura na medida</h3><h2>Para a sua Empresa</h2><p>Capacite suas equipes com forma\\xc3\\xa7\\xc3\\xb5es continuadas, lan\\xc3\\xa7amentos semanais, dashboards e\\nrelat\\xc3\\xb3rios de engajamento al\\xc3\\xa9m de guias de estudos customizados de acordo com sua necessidade.</p><p>Conhe\\xc3\\xa7a nossa proposta para sua empresa:</p>\\n<a\\nhref=\"/empresas\" class=\"depoimentos__buttons --desktop\">Conhe\\xc3\\xa7a os recursos</a></div><div\\nclass=\"depoimentos-wrapper b2b\"><ul><li>\\n<img\\nsrc=\"/assets/img/home/homeNova/testimonies/getninjas.1647533643.png\"/><p\\nclass=\"depoimento__text\">O time conseguiu aprender muito e um dos diferenciais para n\\xc3\\xb3s foi a l\\xc3\\xadngua, com conte\\xc3\\xbado de qualidade em portugu\\xc3\\xaas. Na Alura, a equipe conseguiu estudar pela plataforma online e aplicar tudo de maneira estruturada.</p><p\\nclass=\"depoimento__author\">Lucas Souza <span\\nclass=\"depoimento__company\">- GetNinjas</span></p></li><li>\\n<img\\nsrc=\"/assets/img/home/homeNova/testimonies/grendene.1647533643.png\"/><p\\nclass=\"depoimento__text\">Temos um padr\\xc3\\xa3o m\\xc3\\xadnimo de conhecimento para atuar na empresa. Este padr\\xc3\\xa3o \\xc3\\xa9 garantido aos nossos profissionais pelos cursos de nivelamento que disponibilizamos com a Alura.</p><p\\nclass=\"depoimento__author\">Vladimir Giovani Ferreira <span\\nclass=\"depoimento__company\">- Grendene</span></p></li><li>\\n<img\\nsrc=\"/assets/img/home/homeNova/testimonies/sompo-seguros.1647533643.png\"/><p\\nclass=\"depoimento__text\">A experi\\xc3\\xaancia com a Alura \\xc3\\xa9 muito boa: a equipe consegue estar sempre atualizada sobre as novas tecnologias, agregar conhecimentos e se aperfei\\xc3\\xa7oar. O acompanhamento mensal da equipe ajudou bastante, tanto como os relat\\xc3\\xb3rios gerenciais da plataforma.</p><p\\nclass=\"depoimento__author\">Marcelo Poubel Tatagiba <span\\nclass=\"depoimento__company\">- SOMPO Seguros</span></p></li>\\n<a\\nhref=\"/empresas\" class=\"depoimentos__buttons --mobile\">Conhe\\xc3\\xa7a os recursos</a></ul></div></div></div></section><section\\nclass=\"companies__using-alura\"><div\\nclass=\"container\"><h2 class=\"companies__using-alura__title\">Empresas que j\\xc3\\xa1 contam com a gente</h2><ul\\nclass=\"companies__using-alura__list\"><li\\nclass=\"companies__using-alura__list__item\">\\n<img\\nclass=\"companies__using-alura__list__item__image\"\\nsrc=\"/assets/img/home/homeNova/logo-empresas/logo-sulamerica.1649172966.svg\" alt=\"Amil\"></li><li\\nclass=\"companies__using-alura__list__item\">\\n<img\\nclass=\"companies__using-alura__list__item__image\"\\nsrc=\"/assets/img/home/homeNova/logo-empresas/logo-empresa-samsung.1649172966.svg\" alt=\"Samsung\"></li><li\\nclass=\"companies__using-alura__list__item\">\\n<img\\nclass=\"companies__using-alura__list__item__image\"\\nsrc=\"/assets/img/home/homeNova/logo-empresas/logo-empresa-santander.1649172966.svg\" alt=\"Santander\"></li><li\\nclass=\"companies__using-alura__list__item\">\\n<img\\nclass=\"companies__using-alura__list__item__image\"\\nsrc=\"/assets/img/home/homeNova/logo-empresas/logo-mercadolivre.1649172966.svg\" alt=\"Cielo\"></li><li\\nclass=\"companies__using-alura__list__item\">\\n<img\\nclass=\"companies__using-alura__list__item__image\"\\nsrc=\"/assets/img/home/homeNova/logo-empresas/logo-empresa-algar.1649172966.svg\" alt=\"Algar\"></li><li\\nclass=\"companies__using-alura__list__item\">\\n<img\\nclass=\"companies__using-alura__list__item__image\"\\nsrc=\"/assets/img/home/homeNova/logo-empresas/logo-empresa-caixa.1649172966.svg\" alt=\"Caixa\"></li><li\\nclass=\"companies__using-alura__list__item\">\\n<img\\nclass=\"companies__using-alura__list__item__image\"\\nsrc=\"/assets/img/home/homeNova/logo-empresas/logo-empresa-globo.1649172966.svg\" alt=\"Globo.com\"></li><li\\nclass=\"companies__using-alura__list__item\">\\n<img\\nclass=\"companies__using-alura__list__item__image\"\\nsrc=\"/assets/img/home/homeNova/logo-empresas/logo-nubank.1647533643.png\" alt=\"Nuank\"></li><li\\nclass=\"companies__using-alura__list__item\">\\n<img\\nclass=\"companies__using-alura__list__item__image\"\\nsrc=\"/assets/img/home/homeNova/logo-empresas/logo-totvs.1647533643.png\" alt=\"Totvs\"></li><li\\nclass=\"companies__using-alura__list__item\">\\n<img\\nclass=\"companies__using-alura__list__item__image\"\\nsrc=\"/assets/img/home/homeNova/logo-empresas/logo-tw.1647533643.png\" alt=\"ThoughtWorks\"></li><li\\nclass=\"companies__using-alura__list__item --small-logo\">\\n<img\\nclass=\"companies__using-alura__list__item__image\"\\nsrc=\"/assets/img/home/homeNova/logo-empresas/logo-itau.1647533643.png\" alt=\"Itau\"></li><li\\nclass=\"companies__using-alura__list__item\">\\n<img\\nclass=\"companies__using-alura__list__item__image\"\\nsrc=\"/assets/img/home/homeNova/logo-empresas/logo-porto.1647533643.png\" alt=\"Porto Seguro\"></li><li\\nclass=\"companies__using-alura__list__item --small-logo\">\\n<img\\nclass=\"companies__using-alura__list__item__image\"\\nsrc=\"/assets/img/home/homeNova/logo-empresas/logo-brq.1647533643.png\" alt=\"BRQ Digital Solutions\"></li><li\\nclass=\"companies__using-alura__list__item\">\\n<img\\nclass=\"companies__using-alura__list__item__image\"\\nsrc=\"/assets/img/home/homeNova/logo-empresas/logo-stone.1647533643.png\" alt=\"Stone\"></li><li\\nclass=\"companies__using-alura__list__item\">\\n<img\\nclass=\"companies__using-alura__list__item__image\"\\nsrc=\"/assets/img/home/homeNova/logo-empresas/logo-picpay.1649172966.svg\" alt=\"PicPay\"></li><li\\nclass=\"companies__using-alura__list__item\">\\n<img\\nclass=\"companies__using-alura__list__item__image\"\\nsrc=\"/assets/img/home/homeNova/logo-empresas/logo-bradesco.1649172966.svg\" alt=\"Bradesco\"></li></ul>\\n<a\\nhref=\"/empresas\" class=\"companies__using-alura__cta\">Confira o que oferecemos para empresas</a></div></section><div\\nclass=\"alura-cases\"><div\\nclass=\"container alura-cases-container\"><div\\nclass=\"alura-cases-content\">\\n<img\\nsrc=\"/assets/img/home/homeNova/cases/logo-cases.1647533643.svg\" alt=\"Alura Cases\" class=\"alura-cases-logo\"><h2 class=\"alura-cases-title\">Estudos avan\\xc3\\xa7ados de tecnologia</h2><p\\nclass=\"alura-cases-text\">Conversas aprofundadas com l\\xc3\\xadderes  em tecnologia para voc\\xc3\\xaa aprender com situa\\xc3\\xa7\\xc3\\xb5es reais.</p>\\n<a\\nhref=\"/cases\" class=\"alura-cases-button cases-button-desktop\">\\n<span>CONHE\\xc3\\x87A O ALURA CASES</span>\\n</a></div><div\\nclass=\"alura-cases-list-scrollArea\"><div\\nclass=\"alura-cases-slideLeft glider-prev\" aria-label=\"Previous\">\\n<img\\nsrc=\"/assets/img/home/homeNova/cases/arrow-left.1647533643.svg\" alt=\"Arrow left\"></div><ul\\nclass=\"alura-cases-list-cards\"><li\\nclass=\"alura-cases-item\"><article\\nclass=\"alura-cases-card\" style=\"background-image: url(\\'/assets/img/home/homeNova/cases/roberta_arcoverde.1647533643.jpg\\');\"><h3 class=\"alura-cases-card-name\">Roberta Arcoverde</h3><h3 class=\"alura-cases-card-role\">Tech Lead na Stack Overflow</h3><div\\nclass=\"alura-cases-card-logo\">\\n<img\\nsrc=\"/assets/img/home/homeNova/cases/logo-stack.1647533643.svg\" alt=\"Logotipo stackoverflow\"></div>\\n<a\\nclass=\"alura-cases-card-link\" href=\"https://www.alura.com.br/cases/stack-overflow-e-a-aplicacao-web-monolitica-de-alta-performance-z1069\"></a></article></li><li\\nclass=\"alura-cases-item\"><article\\nclass=\"alura-cases-card\" style=\"background-image: url(\\'/assets/img/home/homeNova/cases/isabela_goncalves.1647533643.jpg\\');\"><h3 class=\"alura-cases-card-name\">Isabel Gon\\xc3\\xa7alves</h3><h3 class=\"alura-cases-card-role\">Software Engineer no Nubank</h3><div\\nclass=\"alura-cases-card-logo\">\\n<img\\nsrc=\"/assets/img/home/homeNova/cases/logo-nubank.1647533643.svg\" alt=\"Logotipo NuBank\"></div>\\n<a\\nclass=\"alura-cases-card-link\" href=\"https://www.alura.com.br/cases/nubank-e-a-plataformizacao-do-fluxo-de-emissao-de-cartoes-z1074\"></a></article></li><li\\nclass=\"alura-cases-item\"><article\\nclass=\"alura-cases-card\" style=\"background-image: url(\\'/assets/img/home/homeNova/cases/renan_martins.1647533643.jpg\\');\"><h3 class=\"alura-cases-card-name\">Renan Martins</h3><h3 class=\"alura-cases-card-role\">Engineering Manager no Luizalabs</h3><div\\nclass=\"alura-cases-card-logo\">\\n<img\\nsrc=\"/assets/img/home/homeNova/cases/logo-luiza.1647533643.svg\" alt=\"Logotipo luizalabs\"></div>\\n<a\\nclass=\"alura-cases-card-link\" href=\"https://www.alura.com.br/cases/luizalabs-e-a-evolucao-da-arquitetura-legado-monolitica-para-microsservicos-e-apis-z1059\"></a></article></li><li\\nclass=\"alura-cases-item\"><article\\nclass=\"alura-cases-card\" style=\"background-image: url(\\'/assets/img/home/homeNova/cases/marco_aurelio.1647533643.jpg\\');\"><h3 class=\"alura-cases-card-name\">MARCO AUR\\xc3\\x89LIO</h3><h3 class=\"alura-cases-card-role\">Development Specialist na Hotmart</h3><div\\nclass=\"alura-cases-card-logo\">\\n<img\\nsrc=\"/assets/img/home/homeNova/cases/logo-hotmart.1647533643.svg\" alt=\"Logotipo hotmart\"></div>\\n<a\\nclass=\"alura-cases-card-link\" href=\"https://www.alura.com.br/cases/hotmart-e-a-evolucao-da-arquitetura-java-z1068\"></a></article></li><li\\nclass=\"alura-cases-item\"><article\\nclass=\"alura-cases-card\" style=\"background-image: url(\\'/assets/img/home/homeNova/cases/ana_genari.1647533643.jpg\\');\"><h3 class=\"alura-cases-card-name\">ANA GENARI</h3><h3 class=\"alura-cases-card-role\">Tech Manager no Ita\\xc3\\xba</h3><div\\nclass=\"alura-cases-card-logo\">\\n<img\\nsrc=\"/assets/img/home/homeNova/cases/logo-itau.1647533643.svg\" alt=\"Logotipo Ita\\xc3\\xba\"></div>\\n<a\\nclass=\"alura-cases-card-link\" href=\"https://www.alura.com.br/cases/itau-e-o-desafio-das-metricas-em-um-ambiente-cloud-z1285\"></a></article></li><li\\nclass=\"alura-cases-item\"><article\\nclass=\"alura-cases-card\" style=\"background-image: url(\\'/assets/img/home/homeNova/cases/eduardo_amaral.1647533643.jpg\\');\"><h3 class=\"alura-cases-card-name\">EDUARDO AMARAL</h3><h3 class=\"alura-cases-card-role\">AdTech Senior Manager na Globo</h3><div\\nclass=\"alura-cases-card-logo\">\\n<img\\nsrc=\"/assets/img/home/homeNova/cases/logo-globo.1647533643.svg\" alt=\"Logotipo Globo\"></div>\\n<a\\nclass=\"alura-cases-card-link\" href=\"https://www.alura.com.br/cases/globo-e-a-evolucao-dos-dados-de-negocios-z1287\"></a></article></li></ul></div>\\n<a\\nhref=\"/cases\" class=\"alura-cases-button cases-button-mobile\">\\n<span>CONHE\\xc3\\x87A O ALURA CASES</span>\\n</a></div><div\\nclass=\"alura-cases-slideRight glider-next\" aria-label=\"Pr\\xc3\\xb3ximo\">\\n<img\\nsrc=\"/assets/img/home/homeNova/cases/arrow-right.1647533643.svg\" alt=\"Arrow right\"></div></div><section\\nclass=\"mobile\"><div\\nclass=\"container\"><div\\nclass=\"mobile__wrapper-info\"><div\\nclass=\"mobile__info mobile__info--forum\">\\n<img\\nsrc=\"/assets/img/home/icon-home-reload.1647533643.svg\" alt=\"\"/>\\n<strong>1406 cursos</strong><p>com lan\\xc3\\xa7amentos toda semana e atualiza\\xc3\\xa7\\xc3\\xb5es constantes</p></div><div\\nclass=\"mobile__info mobile__info--app\">\\n<img\\nsrc=\"/assets/img/home/icon-home-apps.1647533643.svg\" alt=\"\"/>\\n<strong>Aplicativos</strong><p>para Android e iOS, para voc\\xc3\\xaa baixar e estudar offline.</p></div></div><nav\\nclass=\"mobile__apps-download\">\\n<a\\nhref=\"https://play.google.com/store/apps/details?id=br.com.alura.mobi&hl=pt_BR\"\\nclass=\"mobile__apps-download__item mobile__apps-download__item--google-play\">Google\\nPlay</a>\\n<a\\nhref=\"https://itunes.apple.com/br/app/alura-cursos-online/id1225776635\"\\nclass=\"mobile__apps-download__item mobile__apps-download__item--app-store\">App\\nStore</a></nav></div></section><link\\nrel=\"stylesheet\" href=\"/assets/css/block/planosPagamentoOld.1647533642.css\"><section\\nclass=\"planos-pagamento\" id=\"planos-cursos-online\"><h2 class=\"planos-pagamento__titulo\">\\nSabe quando voc\\xc3\\xaa pode come\\xc3\\xa7ar? <span\\nclass=\"planos-pagamento__titulo--bold\">Agora!</span></h2><div\\nclass=\"container\"><div\\nclass=\"planos-pagamento__planos planos-pagamento__planos--descontado\"><div\\nclass=\"animation-trigger --animate\"></div><div\\nclass=\"planos-pagamento__plano planos-pagamento__plano--plus \"\\ndata-payment-plan  data-payment-plan-price=\"856,80\"><div\\nclass=\"planos-pagamento__header\"><h3 class=\"planos-pagamento__nome\">Plus</h3><span\\nclass=\"planos-pagamento__label-desconto\">Desconto 16%</span></div><ul\\nclass=\"planos-pagamento__vantagens\"><li\\nclass=\"planos-pagamento__vantagem\"><div\\nclass=\"planos-pagamento__wrapper planos-pagamento__wrapper--com-descricao\">\\n<span\\nclass=\"planos-pagamento__label\">Acesso a TODOS os cursos da plataforma</span><div\\nclass=\"planos-pagamento__legenda-tooltip\"><p\\nclass=\"planos-pagamento__legenda-descricao\">Mais de 1200 cursos completamente atualizados, com novos lan\\xc3\\xa7amentos todas as semanas, em\\nPrograma\\xc3\\xa7\\xc3\\xa3o, Front-end, UX & Design, Data Science, Mobile, DevOps e Inova\\xc3\\xa7\\xc3\\xa3o & Gest\\xc3\\xa3o.</p></div></div><div\\nclass=\"planos-pagamento__checkmark planos-pagamento__checkmark--ativo\">\\n<svg><use\\nxlink:href=\"/svg,1647533644/planosPagamento#icon-planosPagamento-checked\" /></svg></div></li><li\\nclass=\"planos-pagamento__vantagem\"><div\\nclass=\"planos-pagamento__wrapper planos-pagamento__wrapper--com-descricao\">\\n<span\\nclass=\"planos-pagamento__label\">Alura Challenges</span><div\\nclass=\"planos-pagamento__legenda-tooltip\"><p\\nclass=\"planos-pagamento__legenda-descricao\">Desafios tem\\xc3\\xa1ticos para voc\\xc3\\xaa turbinar seu portf\\xc3\\xb3lio. Voc\\xc3\\xaa aprende na pr\\xc3\\xa1tica, com exerc\\xc3\\xadcios e projetos que simulam o dia a dia profissional.</p></div></div><div\\nclass=\"planos-pagamento__checkmark planos-pagamento__checkmark--ativo\">\\n<svg><use\\nxlink:href=\"/svg,1647533644/planosPagamento#icon-planosPagamento-checked\" /></svg></div></li><li\\nclass=\"planos-pagamento__vantagem\"><div\\nclass=\"planos-pagamento__wrapper planos-pagamento__wrapper--com-descricao\">\\n<span\\nclass=\"planos-pagamento__label\">Alura Cases</span><div\\nclass=\"planos-pagamento__legenda-tooltip\"><p\\nclass=\"planos-pagamento__legenda-descricao\">Webs\\xc3\\xa9ries exclusivas com discuss\\xc3\\xb5es avan\\xc3\\xa7adas sobre arquitetura de sistemas com  profissionais de grandes corpora\\xc3\\xa7\\xc3\\xb5es e startups.</p></div></div><div\\nclass=\"planos-pagamento__checkmark planos-pagamento__checkmark--ativo\">\\n<svg><use\\nxlink:href=\"/svg,1647533644/planosPagamento#icon-planosPagamento-checked\" /></svg></div></li><li\\nclass=\"planos-pagamento__vantagem\"><div\\nclass=\"planos-pagamento__wrapper planos-pagamento__wrapper--com-descricao\">\\n<span\\nclass=\"planos-pagamento__label\">Certificado</span><div\\nclass=\"planos-pagamento__legenda-tooltip\"><p\\nclass=\"planos-pagamento__legenda-descricao\">Emitimos certificados para atestar que voc\\xc3\\xaa finalizou nossos cursos e forma\\xc3\\xa7\\xc3\\xb5es.</p></div></div><div\\nclass=\"planos-pagamento__checkmark planos-pagamento__checkmark--ativo\">\\n<svg><use\\nxlink:href=\"/svg,1647533644/planosPagamento#icon-planosPagamento-checked\" /></svg></div></li><li\\nclass=\"planos-pagamento__vantagem\"><div\\nclass=\"planos-pagamento__wrapper planos-pagamento__wrapper--com-descricao\">\\n<span\\nclass=\"planos-pagamento__label\">Alura L\\xc3\\xadngua (incluindo curso Ingl\\xc3\\xaas para Devs)</span><div\\nclass=\"planos-pagamento__legenda-tooltip\"><p\\nclass=\"planos-pagamento__legenda-descricao\">Estude a l\\xc3\\xadngua inglesa com um curso 100% focado em tecnologia e expanda seus horizontes profissionais.</p></div></div><div\\nclass=\"planos-pagamento__checkmark \">\\n<svg><use\\nxlink:href=\"/svg,1647533644/planosPagamento#icon-planosPagamento-checked\" /></svg></div></li></ul><div\\nclass=\"planos-pagamento__precos planos-pagamento__precos--descontado\">\\n<span\\nclass=\"planos-pagamento__numero-parcelas\">\\n12X\\n</span><div\\nclass=\"planos-pagamento__preco-parcela\\nplanos-pagamento__valor-parcela--decimal\">\\n<span\\nclass=\"planos-pagamento__parcela-riscada\">R$85</span>\\n<span\\nclass=\"planos-pagamento__valor-parcela\">R$71,40</span></div><div\\nclass=\"planos-pagamento__preco-vista\">\\n<span\\nclass=\"planos-pagamento__label-vista\">\\xc3\\xa0 vista</span>\\n<span\\nclass=\"planos-pagamento__vista-riscada\">R$1.020</span>\\n<span\\nclass=\"planos-pagamento__valor-vista\">R$856,80</span></div></div><a\\nclass=\"planos-pagamento__cta\"\\nid=\"subscribe-link-Plus\"\\ndata-price=71,40                            href=\"/compra/plus/\"\\n>\\nMatricule-se\\n</a></div><div\\nclass=\"planos-pagamento__plano planos-pagamento__plano--pro planos-pagamento__plano--best\"\\ndata-payment-plan  data-payment-plan-price=\"1.209,60\"><div\\nclass=\"planos-pagamento__header\"><h3 class=\"planos-pagamento__nome\">Pro</h3><span\\nclass=\"planos-pagamento__label-desconto\">Desconto 16%</span></div><ul\\nclass=\"planos-pagamento__vantagens\"><li\\nclass=\"planos-pagamento__vantagem\"><div\\nclass=\"planos-pagamento__wrapper planos-pagamento__wrapper--com-descricao\">\\n<span\\nclass=\"planos-pagamento__label\">Acesso a TODOS os cursos da plataforma</span><div\\nclass=\"planos-pagamento__legenda-tooltip\"><p\\nclass=\"planos-pagamento__legenda-descricao\">Mais de 1200 cursos completamente atualizados, com novos lan\\xc3\\xa7amentos todas as semanas, em\\nPrograma\\xc3\\xa7\\xc3\\xa3o, Front-end, UX & Design, Data Science, Mobile, DevOps e Inova\\xc3\\xa7\\xc3\\xa3o & Gest\\xc3\\xa3o.</p></div></div><div\\nclass=\"planos-pagamento__checkmark planos-pagamento__checkmark--ativo\">\\n<svg><use\\nxlink:href=\"/svg,1647533644/planosPagamento#icon-planosPagamento-checked\" /></svg></div></li><li\\nclass=\"planos-pagamento__vantagem\"><div\\nclass=\"planos-pagamento__wrapper planos-pagamento__wrapper--com-descricao\">\\n<span\\nclass=\"planos-pagamento__label\">Alura Challenges</span><div\\nclass=\"planos-pagamento__legenda-tooltip\"><p\\nclass=\"planos-pagamento__legenda-descricao\">Desafios tem\\xc3\\xa1ticos para voc\\xc3\\xaa turbinar seu portf\\xc3\\xb3lio. Voc\\xc3\\xaa aprende na pr\\xc3\\xa1tica, com exerc\\xc3\\xadcios e projetos que simulam o dia a dia profissional.</p></div></div><div\\nclass=\"planos-pagamento__checkmark planos-pagamento__checkmark--ativo\">\\n<svg><use\\nxlink:href=\"/svg,1647533644/planosPagamento#icon-planosPagamento-checked\" /></svg></div></li><li\\nclass=\"planos-pagamento__vantagem\"><div\\nclass=\"planos-pagamento__wrapper planos-pagamento__wrapper--com-descricao\">\\n<span\\nclass=\"planos-pagamento__label\">Alura Cases</span><div\\nclass=\"planos-pagamento__legenda-tooltip\"><p\\nclass=\"planos-pagamento__legenda-descricao\">Webs\\xc3\\xa9ries exclusivas com discuss\\xc3\\xb5es avan\\xc3\\xa7adas sobre arquitetura de sistemas com  profissionais de grandes corpora\\xc3\\xa7\\xc3\\xb5es e startups.</p></div></div><div\\nclass=\"planos-pagamento__checkmark planos-pagamento__checkmark--ativo\">\\n<svg><use\\nxlink:href=\"/svg,1647533644/planosPagamento#icon-planosPagamento-checked\" /></svg></div></li><li\\nclass=\"planos-pagamento__vantagem\"><div\\nclass=\"planos-pagamento__wrapper planos-pagamento__wrapper--com-descricao\">\\n<span\\nclass=\"planos-pagamento__label\">Certificado</span><div\\nclass=\"planos-pagamento__legenda-tooltip\"><p\\nclass=\"planos-pagamento__legenda-descricao\">Emitimos certificados para atestar que voc\\xc3\\xaa finalizou nossos cursos e forma\\xc3\\xa7\\xc3\\xb5es.</p></div></div><div\\nclass=\"planos-pagamento__checkmark planos-pagamento__checkmark--ativo\">\\n<svg><use\\nxlink:href=\"/svg,1647533644/planosPagamento#icon-planosPagamento-checked\" /></svg></div></li><li\\nclass=\"planos-pagamento__vantagem\"><div\\nclass=\"planos-pagamento__wrapper planos-pagamento__wrapper--com-descricao\">\\n<span\\nclass=\"planos-pagamento__label\">Alura L\\xc3\\xadngua (incluindo curso Ingl\\xc3\\xaas para Devs)</span><div\\nclass=\"planos-pagamento__legenda-tooltip\"><p\\nclass=\"planos-pagamento__legenda-descricao\">Estude a l\\xc3\\xadngua inglesa com um curso 100% focado em tecnologia e expanda seus horizontes profissionais.</p></div></div><div\\nclass=\"planos-pagamento__checkmark planos-pagamento__checkmark--ativo\">\\n<svg><use\\nxlink:href=\"/svg,1647533644/planosPagamento#icon-planosPagamento-checked\" /></svg></div></li></ul><div\\nclass=\"planos-pagamento__precos planos-pagamento__precos--descontado\">\\n<span\\nclass=\"planos-pagamento__numero-parcelas\">\\n12X\\n</span><div\\nclass=\"planos-pagamento__preco-parcela\\nplanos-pagamento__valor-parcela--decimal\">\\n<span\\nclass=\"planos-pagamento__parcela-riscada\">R$120</span>\\n<span\\nclass=\"planos-pagamento__valor-parcela\">R$100,80</span></div><div\\nclass=\"planos-pagamento__preco-vista\">\\n<span\\nclass=\"planos-pagamento__label-vista\">\\xc3\\xa0 vista</span>\\n<span\\nclass=\"planos-pagamento__vista-riscada\">R$1.440</span>\\n<span\\nclass=\"planos-pagamento__valor-vista\">R$1.209,60</span></div></div><a\\nclass=\"planos-pagamento__cta\"\\nid=\"subscribe-link-Pro\"\\ndata-price=100,80                            href=\"/compra/pro/\"\\n>\\nMatricule-se\\n</a></div></div></div><a\\nclass=\"planos-pagamento__b2b\" href=\"/empresas\">\\n<span>Conhe\\xc3\\xa7a os <strong>Planos para Empresas</strong></span>\\n</a><div\\nclass=\"planosPagamento-vantagens\"><div\\nclass=\"container\"><div\\nclass=\"planosPagamento-vantagens-vantagem acesso\">\\n<img\\nsrc=\"/assets/img/home/icon-plan-calendar.1647533643.svg\"><p>Acesso completo <br\\n/> durante 1 ano</p></div><div\\nclass=\"planosPagamento-vantagens-vantagem horas\">\\n<img\\nsrc=\"/assets/img/home/icon-plan-moon.1647533643.svg\"><p>Estude 24h/dia <br\\n/> onde e quando quiser</p></div><div\\nclass=\"planosPagamento-vantagens-vantagem novos\">\\n<img\\nsrc=\"/assets/img/home/icon-plan-reload.1647533643.svg\"><p>Novos cursos <br\\n/> todas as semanas</p></div></div></div></section> <script src=\"/assets/js/planosPagamentoOld.1659108696.js\"></script> </main><div\\nid=\"videoModalWindow\"><div\\nclass=\"closeModal\"></div>\\n<iframe\\nid=\"videoIframe\" width=\"100%\" height=\"400\" src=\"\" title=\"YouTube video player\" frameborder=\"0\" allow=\"accelerometer; autoplay; clipboard-write; encrypted-media; gyroscope; picture-in-picture\" allow=\"autoplay; encrypted-media\" allowfullscreen></iframe></div><link\\nrel=\"stylesheet\" href=\"/assets/css/block/footer.1662756777.css\"><footer\\nclass=\"footer\"><div\\nclass=\"container\"><div\\nclass=\"footer-info flex-row\"><div\\nclass=\"footer-logos\">\\n<a\\nclass=\"footer-logos-home\" gtm-data=\\'footer_primeira_secao_050\\' href=\"/\">\\n<img\\nsrc=\"/assets/img/home/alura-logo.1647533643.svg\" alt=\"Alura\" class=\"footer-logo\" loading=\"lazy\">\\n</a><p\\nclass=\"footer-navegue-lista-link --description\">\\n<span\\nclass=\"footer-empresa-item\">AOVS Sistemas de Inform\\xc3\\xa1tica S.A</span>\\n<span\\nclass=\"footer-empresa-item\">CNPJ 05.555.382/0001-33</span></p></div><div\\nclass=\"footer-card-hotLinks social-desktop\"><h2 class=\"footer-card-hotLinks-titulo\">Nossas redes e apps</h2><div\\nclass=\"footer-card-hotLinks-info footer-card-redes\">\\n<a\\nhref=\"https://www.youtube.com/alura\" gtm-data=\\'footer_primeira_secao_065\\' class=\"footer-card-hotLinks-link\"\\ntarget=\"_blank\" rel=\"noopener\" title=\"YouTube da Alura\">\\n<svg\\nclass=\"footer-card-hotLinks-icon footer-card-hotLinks-youtube\">\\n<use\\nxlink:href=\"/svg,1647533643/footer#icon-footer-youtube\" />\\n</svg>\\n<span>YouTube</span>\\n</a>\\n<a\\nhref=\"https://www.facebook.com/AluraCursosOnline/\" gtm-data=\\'footer_primeira_secao_066\\'\\nclass=\"footer-card-hotLinks-link\" target=\"_blank\" rel=\"noopener\" title=\"Facebook da Alura\">\\n<svg\\nclass=\"footer-card-hotLinks-icon footer-card-hotLinks-facebook\">\\n<use\\nxlink:href=\"/svg,1647533643/footer#icon-footer-facebook\" />\\n</svg>\\n<span>Facebook</span>\\n</a>\\n<a\\nhref=\"https://twitter.com/aluraonline\" gtm-data=\\'footer_primeira_secao_067\\' class=\"footer-card-hotLinks-link\"\\ntarget=\"_blank\" rel=\"noopener\" title=\"Twitter da Alura\">\\n<svg\\nclass=\"footer-card-hotLinks-icon footer-card-hotLinks-twitter\">\\n<use\\nxlink:href=\"/svg,1647533643/footer#icon-footer-twitter\" />\\n</svg>\\n<span>Twitter</span>\\n</a>\\n<a\\nhref=\"https://instagram.com/aluraonline\" class=\"footer-card-hotLinks-link\" gtm-data=\\'footer_primeira_secao_073\\'\\ntarget=\"_blank\" rel=\"noopener\" title=\"Instagram da Alura\">\\n<svg\\nclass=\"footer-card-hotLinks-icon footer-card-hotLinks-instagram\">\\n<use\\nxlink:href=\"/svg,1647533643/footer#icon-footer-instagram\" />\\n</svg>\\n<span>Instagram</span>\\n</a>\\n<a\\nhref=\"https://play.google.com/store/apps/details?id=br.com.alura.mobi&hl=pt_BR\"\\ngtm-data=\\'footer_primeira_secao_069\\' class=\"footer-card-hotLinks-link\" target=\"_blank\" rel=\"noopener\"\\ntitle=\"Baixar na Google Play Store\">\\n<svg\\nclass=\"footer-card-hotLinks-icon footer-card-hotLinks-mobile\">\\n<use\\nxlink:href=\"/svg,1647533643/footer#icon-footer-googleplay\" />\\n</svg>\\n<span>Google Play Store</span>\\n</a>\\n<a\\nhref=\"https://itunes.apple.com/br/app/alura-cursos-online/id1225776635\" gtm-data=\\'footer_primeira_secao_070\\'\\nclass=\"footer-card-hotLinks-link\" target=\"_blank\" rel=\"noopener\" title=\"Baixar na AppStore\">\\n<svg\\nclass=\"footer-card-hotLinks-icon footer-card-hotLinks-mobile\">\\n<use\\nxlink:href=\"/svg,1647533643/footer#icon-footer-appstore\" />\\n</svg>\\n<span>AppStore</span>\\n</a></div></div><div\\nclass=\"footer-card-hotLinks social-mobile\"><h2 class=\"footer-card-hotLinks-titulo\">Nossas redes e apps</h2><div\\nclass=\"footer-card-hotLinks-info footer-card-redes\">\\n<a\\nhref=\"https://www.youtube.com/alura\" gtm-data=\\'footer_primeira_secao_065\\' class=\"footer-card-hotLinks-link\"\\ntarget=\"_blank\" rel=\"noopener\" title=\"YouTube da Alura\">\\n<svg\\nclass=\"footer-card-hotLinks-icon footer-card-hotLinks-youtube\">\\n<use\\nxlink:href=\"/svg,1647533643/footer#icon-footer-youtube\" />\\n</svg>\\n<span>YouTube</span>\\n</a>\\n<a\\nhref=\"https://www.facebook.com/AluraCursosOnline/\" gtm-data=\\'footer_primeira_secao_066\\'\\nclass=\"footer-card-hotLinks-link\" target=\"_blank\" rel=\"noopener\" title=\"Facebook da Alura\">\\n<svg\\nclass=\"footer-card-hotLinks-icon footer-card-hotLinks-facebook\">\\n<use\\nxlink:href=\"/svg,1647533643/footer#icon-footer-facebook\" />\\n</svg>\\n<span>Facebook</span>\\n</a>\\n<a\\nhref=\"https://twitter.com/aluraonline\" gtm-data=\\'footer_primeira_secao_067\\' class=\"footer-card-hotLinks-link\"\\ntarget=\"_blank\" rel=\"noopener\" title=\"Twitter da Alura\">\\n<svg\\nclass=\"footer-card-hotLinks-icon footer-card-hotLinks-twitter\">\\n<use\\nxlink:href=\"/svg,1647533643/footer#icon-footer-twitter\" />\\n</svg>\\n<span>Twitter</span>\\n</a>\\n<a\\nhref=\"https://instagram.com/aluraonline\" class=\"footer-card-hotLinks-link\" gtm-data=\\'footer_primeira_secao_073\\'\\ntarget=\"_blank\" rel=\"noopener\" title=\"Instagram da Alura\">\\n<svg\\nclass=\"footer-card-hotLinks-icon footer-card-hotLinks-instagram\">\\n<use\\nxlink:href=\"/svg,1647533643/footer#icon-footer-instagram\" />\\n</svg>\\n<span>Instagram</span>\\n</a>\\n<a\\nhref=\"https://play.google.com/store/apps/details?id=br.com.alura.mobi&hl=pt_BR\"\\ngtm-data=\\'footer_primeira_secao_069\\' class=\"footer-card-hotLinks-link\" target=\"_blank\" rel=\"noopener\"\\ntitle=\"Baixar na Google Play Store\">\\n<svg\\nclass=\"footer-card-hotLinks-icon footer-card-hotLinks-mobile\">\\n<use\\nxlink:href=\"/svg,1647533643/footer#icon-footer-googleplay\" />\\n</svg>\\n<span>Google Play Store</span>\\n</a>\\n<a\\nhref=\"https://itunes.apple.com/br/app/alura-cursos-online/id1225776635\" gtm-data=\\'footer_primeira_secao_070\\'\\nclass=\"footer-card-hotLinks-link\" target=\"_blank\" rel=\"noopener\" title=\"Baixar na AppStore\">\\n<svg\\nclass=\"footer-card-hotLinks-icon footer-card-hotLinks-mobile\">\\n<use\\nxlink:href=\"/svg,1647533643/footer#icon-footer-appstore\" />\\n</svg>\\n<span>AppStore</span>\\n</a></div></div></div><div\\nclass=\"footer-navegue\"><div\\nclass=\"navegue-column\"><h2 class=\"footer-navegacao-titulo\">Institucional</h2><ul\\nclass=\"footer-navegue-lista\"><li\\nclass=\"footer-navegue-lista-link\"><a\\nhref=\"/sobre\" gtm-data=\\'footer_primeira_secao_063\\'>Sobre n\\xc3\\xb3s</a></li><li\\nclass=\"footer-navegue-lista-link\"><a\\nhref=\"https://grupoalura.gupy.io\">Trabalhe conosco</a></li><li\\nclass=\"footer-navegue-lista-link\"><a\\nhref=\"https://www.alura.com.br/empresas\">Para\\nEmpresas</a></li><li\\nclass=\"footer-navegue-lista-link\"><a\\nhref=\"/escolas\">Para Escolas</a></li><li\\nclass=\"footer-navegue-lista-link\"><a\\nhref=\"/politica-de-privacidade\"\\ngtm-data=\\'footer_primeira_secao_061\\'>Pol\\xc3\\xadtica de Privacidade</a></li><li\\nclass=\"footer-navegue-lista-link\"><a\\nhref=\"/politica-de-integridade\">Pol\\xc3\\xadtica de Integridade</a></li><li\\nclass=\"footer-navegue-lista-link\"><a\\nhref=\"/termos-de-uso\" gtm-data=\\'footer_primeira_secao_062\\'>Termos\\nde\\nUso</a></li><li\\nclass=\"footer-navegue-lista-link\"><a\\nhref=\"https://status.alura.com.br/\">Status</a></li></ul></div><div\\nclass=\"navegue-column\"><h2 class=\"footer-navegacao-titulo\">A Alura</h2><ul\\nclass=\"footer-navegue-lista\"><li\\nclass=\"footer-navegue-lista-link\"><a\\nhref=\"/como-funciona\" gtm-data=\\'footer_primeira_secao_064\\'>Como\\nFunciona</a></li><li\\nclass=\"footer-navegue-lista-link\"><a\\nhref=\"/cursos-online-tecnologia\"\\ngtm-data=\\'footer_primeira_secao_054\\'>Todos os cursos</a></li><li\\nclass=\"footer-navegue-lista-link\"><a\\nhref=\"/depoimentos\"\\ngtm-data=\"footer_primeira_secao_069\">Depoimentos</a></li><li\\nclass=\"footer-navegue-lista-link\"><a\\nhref=\"/instrutores\"\\ngtm-data=\"footer_primeira_secao_061\">Instrutores(as)</a></li><li\\nclass=\"footer-navegue-lista-link\"><a\\nhref=\"/dev-em-t\" gtm-data=\\'footer_primeira_secao_065\\'>Dev em\\n&lt;T&gt;</a></li></ul></div><div\\nclass=\"navegue-column\"><h2 class=\"footer-navegacao-titulo\">Conte\\xc3\\xbados</h2><ul\\nclass=\"footer-navegue-lista\"><li\\nclass=\"footer-navegue-lista-link\"><a\\nhref=\"/cases\">Alura Cases</a></li><li\\nclass=\"footer-navegue-lista-link\"><a\\nhref=\"/imersao\" gtm-data=\"footer_primeira_secao_068\">Imers\\xc3\\xb5es</a></li><li\\nclass=\"footer-navegue-lista-link\"><a\\nhref=\"/artigos\" gtm-data=\\'footer_primeira_secao_058\\'>Artigos</a></li><li\\nclass=\"footer-navegue-lista-link\"><a\\nhref=\"/podcasts\">Podcasts</a></li><li\\nclass=\"footer-navegue-lista-link\"><a\\nhref=\"/empresas/artigos\">Artigos de educa\\xc3\\xa7\\xc3\\xa3o <br> corporativa</a></li></ul></div><div\\nclass=\"navegue-column\"><h2 class=\"footer-navegacao-titulo\">Fale Conosco</h2><ul\\nclass=\"footer-navegue-lista\"><li\\nclass=\"footer-navegue-lista-link\"><a\\nhref=\"https://www.alura.com.br/contato\">Email e telefone</a></li><li\\nclass=\"footer-navegue-lista-link\"><a\\nhref=\"https://suporte.alura.com.br/\"\\ngtm-data=\\'footer_primeira_secao_066\\'>Perguntas frequentes</a></li></ul></div><div\\nclass=\"footer-column footer-column-cards\"><div\\nclass=\"newsletter\"><h2 class=\"newsletter-titulo\">Novidades e Lan\\xc3\\xa7amentos</h2><div\\nclass=\"hubspot-form newsletter-form\"> <script charset=\"utf-8\" type=\"text/javascript\" src=\"//js.hsforms.net/forms/v2.js?pre=1\"></script> <script>hbspt.forms.create({\\n                region: \"na1\",\\n                portalId: \"21748317\",\\n                formId: \"39a8f8bd-d48f-4f45-8ed4-d26366176d39\"\\n              });</script> </div></div></div></div><div\\nclass=\"parceiros flex-column\"><h2 class=\"footer-navegacao-titulo\">Parceiros</h2><ul\\nclass=\"footer-navegue-lista flex-row\"><li\\nclass=\"footer-navegue-lista-link --description footer-column-cards\">\\n<img\\nsrc=\"/assets/img/footer/scale-up-endeavor.1647533643.png\" alt=\"Programa de acelera\\xc3\\xa7\\xc3\\xa3o Scale-Up Endeavor\"\\nclass=\"footer-navegue-lista__image\" loading=\"lazy\">\\n<span\\nclass=\"footer-navegue-lista-link --description --partners\">N\\xc3\\xb3s, da Alura, somos uma das Scale-Ups\\nselecionadas pela Endeavor, programa de acelera\\xc3\\xa7\\xc3\\xa3o das empresas que\\nmais crescem no pa\\xc3\\xads.</span></li><li\\nclass=\"footer-navegue-lista-link --description footer-column-cards\">\\n<img\\nsrc=\"/assets/img/footer/google-alumni-2021.1647533643.png\" alt=\"Growth Academy 2021 do Google For Startups\"\\nclass=\"footer-navegue-lista__image\" loading=\"lazy\">\\n<span\\nclass=\"footer-navegue-lista-link --description --partners\">Fomos uma das 7 startups selecionadas pelo\\nGoogle For Startups a participar do programa Growth Academy em\\n2021.</span></li></ul></div></div></footer><section\\nclass=\"footer_categorias-formacoes\"><div\\nclass=\"container\"><div\\nclass=\"footer_categorias_wrapper\"><h2 class=\"footer_categorias_title\">Cursos</h2><div\\nclass=\"footer_categorias_categorias footer-navegue-lista-link\"><div\\nclass=\"footer_categorias_categoria\">\\n<a\\nhref=\"/cursos-online-programacao\">Cursos de Programa\\xc3\\xa7\\xc3\\xa3o</a><div\\nclass=\"footer_categorias_subcategorias\">\\n<a\\nhref=\"/cursos-online-programacao/logica\">\\nL\\xc3\\xb3gica            </a>\\n|                        <a\\nhref=\"/cursos-online-programacao/python\">\\nPython            </a>\\n|                        <a\\nhref=\"/cursos-online-programacao/php\">\\nPHP            </a>\\n|                        <a\\nhref=\"/cursos-online-programacao/java\">\\nJava            </a>\\n|                        <a\\nhref=\"/cursos-online-programacao/dotnet\">\\n.NET            </a>\\n|                        <a\\nhref=\"/cursos-online-programacao/node-js\">\\nNode JS            </a>\\n|                        <a\\nhref=\"/cursos-online-programacao/linguagem-c\">\\nC            </a>\\n|                        <a\\nhref=\"/cursos-online-programacao/computacao\">\\nComputa\\xc3\\xa7\\xc3\\xa3o            </a>\\n|                        <a\\nhref=\"/cursos-online-programacao/jogos\">\\nJogos            </a>\\n|                        <a\\nhref=\"/cursos-online-programacao/internet-das-coisas\">\\nIoT            </a></div></div><div\\nclass=\"footer_categorias_categoria\">\\n<a\\nhref=\"/cursos-online-front-end\">Cursos de Front-end</a><div\\nclass=\"footer_categorias_subcategorias\">\\n<a\\nhref=\"/cursos-online-front-end/front-end\">\\nHTML, CSS            </a>\\n|                        <a\\nhref=\"/cursos-online-front-end/reactjs\">\\nReact            </a>\\n|                        <a\\nhref=\"/cursos-online-front-end/angular\">\\nAngular            </a>\\n|                        <a\\nhref=\"/cursos-online-front-end/javascript\">\\nJavaScript            </a>\\n|                        <a\\nhref=\"/cursos-online-front-end/jquery\">\\njQuery            </a></div></div><div\\nclass=\"footer_categorias_categoria\">\\n<a\\nhref=\"/cursos-online-data-science\">Cursos de Data Science</a><div\\nclass=\"footer_categorias_subcategorias\">\\n<a\\nhref=\"/cursos-online-data-science/data-science\">\\nCi\\xc3\\xaancia de dados            </a>\\n|                        <a\\nhref=\"/cursos-online-data-science/business-intelligence\">\\nBI            </a>\\n|                        <a\\nhref=\"/cursos-online-data-science/sql\">\\nSQL e Banco de Dados            </a>\\n|                        <a\\nhref=\"/cursos-online-data-science/excel\">\\nExcel            </a>\\n|                        <a\\nhref=\"/cursos-online-data-science/machine-learning\">\\nMachine Learning            </a>\\n|                        <a\\nhref=\"/cursos-online-data-science/nosql\">\\nNoSQL            </a>\\n|                        <a\\nhref=\"/cursos-online-data-science/estatistica\">\\nEstat\\xc3\\xadstica            </a></div></div><div\\nclass=\"footer_categorias_categoria\">\\n<a\\nhref=\"/cursos-online-devops\">Cursos de DevOps</a><div\\nclass=\"footer_categorias_subcategorias\">\\n<a\\nhref=\"/cursos-online-devops/aws\">\\nAWS            </a>\\n|                        <a\\nhref=\"/cursos-online-devops/azure\">\\nAzure            </a>\\n|                        <a\\nhref=\"/cursos-online-devops/containers\">\\nDocker            </a>\\n|                        <a\\nhref=\"/cursos-online-devops/seguranca\">\\nSeguran\\xc3\\xa7a            </a>\\n|                        <a\\nhref=\"/cursos-online-devops/infraestrutura-como-codigo\">\\nIaC            </a>\\n|                        <a\\nhref=\"/cursos-online-devops/linux-comandos-e-processos\">\\nLinux            </a></div></div><div\\nclass=\"footer_categorias_categoria\">\\n<a\\nhref=\"/cursos-online-design-ux\">Cursos de UX & Design</a><div\\nclass=\"footer_categorias_subcategorias\">\\n<a\\nhref=\"/cursos-online-design-ux/ux\">\\nUsabilidade e UX            </a>\\n|                        <a\\nhref=\"/cursos-online-design-ux/video\">\\nV\\xc3\\xaddeo e Motion            </a>\\n|                        <a\\nhref=\"/cursos-online-design-ux/3d\">\\n3D            </a></div></div><div\\nclass=\"footer_categorias_categoria\">\\n<a\\nhref=\"/cursos-online-mobile\">Cursos de Mobile</a><div\\nclass=\"footer_categorias_subcategorias\">\\n<a\\nhref=\"/cursos-online-mobile/react-native\">\\nReact Native            </a>\\n|                        <a\\nhref=\"/cursos-online-mobile/flutter\">\\nFlutter            </a>\\n|                        <a\\nhref=\"/cursos-online-mobile/ios\">\\niOS e Swift            </a>\\n|                        <a\\nhref=\"/cursos-online-mobile/android\">\\nAndroid, Kotlin            </a>\\n|                        <a\\nhref=\"/cursos-online-mobile/jogos\">\\nJogos            </a></div></div><div\\nclass=\"footer_categorias_categoria\">\\n<a\\nhref=\"/cursos-online-inovacao-gestao\">Cursos de Inova\\xc3\\xa7\\xc3\\xa3o & Gest\\xc3\\xa3o</a><div\\nclass=\"footer_categorias_subcategorias\">\\n<a\\nhref=\"/cursos-online-inovacao-gestao/agilidade\">\\nM\\xc3\\xa9todos \\xc3\\x81geis            </a>\\n|                        <a\\nhref=\"/cursos-online-inovacao-gestao/softskills-carreira\">\\nSoftskills            </a>\\n|                        <a\\nhref=\"/cursos-online-inovacao-gestao/gestao-corporativa\">\\nLideran\\xc3\\xa7a e Gest\\xc3\\xa3o            </a>\\n|                        <a\\nhref=\"/cursos-online-inovacao-gestao/startup-empreendedorismo\">\\nStartups            </a>\\n|                        <a\\nhref=\"/cursos-online-inovacao-gestao/vendas\">\\nVendas            </a></div></div></div></div></div></section><style>@media not all and (min-width: 1000px){\\n\\t\\t.grupoCaelum{\\n\\t\\t\\tdisplay: none;\\n\\t\\t}\\n\\t}\\n\\n\\t.grupoCaelum{\\n\\t\\tbackground: #fff;\\n\\t\\theight: 400px;\\n\\t\\tborder-top: 1px solid #EBEBEE;\\n\\t}\\n\\n\\t.grupoCaelum .container{\\n\\t\\tdisplay: flex;\\n\\t\\tjustify-content: space-between;\\n\\t\\talign-items: flex-start;\\n\\t\\tpadding-top: 0;\\n\\t\\tpadding-bottom: 0;\\n\\t\\theight: 100%;\\n\\t}\\n\\n\\t\\t.grupoCaelum-list{\\n\\t\\t\\tdisplay: flex;\\n\\t\\t\\tlist-style: none;\\n\\t\\t\\twidth: 60%;\\n\\t\\t\\tjustify-content: space-between;\\n\\t\\t\\talign-items: flex-start;\\n\\t\\t\\tmargin-top: 20px;\\n\\t\\t}\\n\\n\\t\\t.grupoCaelum-title{\\n\\t\\t\\twidth: 20%;\\n\\t\\t}\\n\\n\\t\\t.grupoCaelum-column {\\n\\t\\t\\tdisplay: inline-block;\\n\\t\\t\\tpadding-left: 19px;\\n\\t\\t\\twidth: 240px;\\n\\t\\t\\theight: 350px;\\n\\t\\t\\tmin-width: 160px;\\n\\t\\t}\\n\\t\\t\\t.grupoCaelum-column-title {\\n\\t\\t\\t\\tfont-size: 10px;\\n\\t\\t\\t\\tcolor: #d7e0e5;\\n\\t\\t\\t\\ttext-transform: uppercase;\\n\\t\\t\\t\\tfont-weight: 600;\\n\\t\\t\\t\\tmargin-bottom: 19px;\\n\\t\\t\\t}\\n\\n\\t\\t\\t.grupoCaelum-column-list {\\n\\t\\t\\t\\tlist-style: none;\\n\\t\\t\\t}\\n\\n\\t\\t\\t.column-item-title {\\n\\t\\t\\t\\tfont-size: 11px;\\n\\t\\t\\t\\ttext-align: center;\\n\\t\\t\\t\\tvertical-align: middle;\\n\\t\\t\\t\\tdisplay: inline-block;\\n\\t\\t\\t\\tmargin-left: 6.5px;\\n\\t\\t\\t}\\n\\n\\t\\t.grupoCaelum-column:not(:first-child) {\\n\\t\\t\\tborder-left: solid 1px #e3e9ed;\\n\\t\\t}\\n\\n\\t\\t.grupoCaelum-title {\\n\\t\\t\\tdisplay: inline-block;\\n\\t\\t\\ttext-decoration: none;\\n\\t\\t\\tcolor: #657176;\\n\\t\\t\\tletter-spacing: normal;\\n\\t\\t\\tfont-size: 18px;\\n\\t\\t\\tmargin-top: 54px;\\n\\t\\t}\\n\\n\\t.column-item-logo {\\n\\t\\twidth: 30px;\\n\\t\\theight: 30px;\\n\\t\\tvertical-align: middle;\\n\\t\\tdisplay: inline-block;\\n\\t}\\n\\n\\t.column-item {\\n\\t\\tmargin-bottom: 17px;\\n\\t}\\n\\n\\t.column-item a{\\n\\t\\ttext-decoration: none;\\n\\t\\tcolor: #657176;\\n\\t}</style><footer\\nclass=\"caelum-footer\"><div\\nclass=\"grupoCaelum\"><div\\nclass=\"container\"><p\\nclass=\"grupoCaelum-title\">Grupo Alura</p><ul\\nclass=\"grupoCaelum-list\"><li\\nclass=\"grupoCaelum-column\"><p\\nclass=\"grupoCaelum-column-title\">Educa\\xc3\\xa7\\xc3\\xa3o</p><ul\\nclass=\"grupoCaelum-column-list\"><li\\nclass=\"column-item\">\\n<a\\ntarget=\"_blank\" href=\"https://www.caelum.com.br\">\\n<svg\\nclass=\"column-item-logo\">\\n<use\\nxlink:href=\"/svg,1647533642/caelumFooter#icon-caelumFooter-novo-logo-caelum\">\\n<span\\nclass=\"column-item-title\">Caelum</span>\\n</svg>\\n</a></li><li\\nclass=\"column-item\">\\n<a\\ntarget=\"_blank\" href=\"https://www.casadocodigo.com.br\">\\n<svg\\nclass=\"column-item-logo\"><use\\nxlink:href=\"/svg,1647533642/caelumFooter#icon-caelumFooter-cdc\"><span\\nclass=\"column-item-title\">Casa do C\\xc3\\xb3digo</span></svg>\\n</a></li></ul></li><li\\nclass=\"grupoCaelum-column\"><p\\nclass=\"grupoCaelum-column-title\">Educa\\xc3\\xa7\\xc3\\xa3o Online</p><ul\\nclass=\"grupoCaelum-column-list\"><li\\nclass=\"column-item\">\\n<a\\ntarget=\"_blank\" href=\"https://www.alura.com.br\">\\n<svg\\nclass=\"column-item-logo\"><use\\nxlink:href=\"/svg,1647533642/caelumFooter#icon-caelumFooter-alura\"><span\\nclass=\"column-item-title\">Alura</span></svg>\\n</a></li><li\\nclass=\"column-item\">\\n<a\\ntarget=\"_blank\" href=\"https://www.alura.com.br/empresas\">\\n<svg\\nclass=\"column-item-logo\" style=\"fill: white;\"><use\\nxlink:href=\"/svg,1647533642/caelumFooter#icon-caelumFooter-alura\"><span\\nclass=\"column-item-title\">Alura Para Empresas</span></svg>\\n</a></li><li\\nclass=\"column-item\">\\n<a\\ntarget=\"_blank\" href=\"https://www.aluracursos.com\">\\n<svg\\nclass=\"column-item-logo\"><use\\nxlink:href=\"/svg,1647533642/caelumFooter#icon-caelumFooter-alura\"><span\\nclass=\"column-item-title\">Alura LATAM</span></svg>\\n</a></li><li\\nclass=\"column-item\">\\n<a\\ntarget=\"_blank\" href=\"https://www.alurastart.com.br\">\\n<svg\\nclass=\"column-item-logo\"><use\\nxlink:href=\"/svg,1647533642/caelumFooter#icon-caelumFooter-alurastart\"><span\\nclass=\"column-item-title\">Alura Start</span></svg>\\n</a></li><li\\nclass=\"column-item\">\\n<a\\ntarget=\"_blank\" href=\"https://www.musicdot.com.br\">\\n<svg\\nclass=\"column-item-logo\"><use\\nxlink:href=\"/svg,1647533642/caelumFooter#icon-caelumFooter-musicdot\"><span\\nclass=\"column-item-title\">MusicDot</span></svg>\\n</a></li><li\\nclass=\"column-item\">\\n<a\\ntarget=\"_blank\" href=\"https://www.aluralingua.com.br\">\\n<svg\\nclass=\"column-item-logo\"><use\\nxlink:href=\"/svg,1647533642/caelumFooter#icon-caelumFooter-aluralingua\"><span\\nclass=\"column-item-title\">Alura L\\xc3\\xadngua</span></svg>\\n</a></li><li\\nclass=\"column-item\">\\n<a\\ntarget=\"_blank\" style=\"fill: #657176\" href=\"https://www.cursospm3.com.br/\">\\n<svg\\nclass=\"column-item-logo\"><use\\nxlink:href=\"/svg,1647533642/caelumFooter#icon-caelumFooter-pm3\"><span\\nclass=\"column-item-title\">PM3 - Cursos de Produto</span></svg>\\n</a></li></ul></li><li\\nclass=\"grupoCaelum-column\"><p\\nclass=\"grupoCaelum-column-title\">Comunidade</p><ul\\nclass=\"grupoCaelum-column-list\"><li\\nclass=\"column-item\">\\n<a\\ntarget=\"_blank\" href=\"https://hipsters.tech\">\\n<svg\\nclass=\"column-item-logo\"><use\\nxlink:href=\"/svg,1647533642/caelumFooter#icon-caelumFooter-hipsterstech\"><span\\nclass=\"column-item-title\">Hipsters ponto Tech</span></svg>\\n</a></li><li\\nclass=\"column-item\">\\n<a\\ntarget=\"_blank\" href=\"https://scuba.dev.br\">\\n<svg\\nclass=\"column-item-logo\" style=\"fill: #657176\"><use\\nxlink:href=\"/svg,1647533642/caelumFooter#icon-caelumFooter-scubadev\"><span\\nclass=\"column-item-title\">Scuba Dev</span></svg>\\n</a></li><li\\nclass=\"column-item\">\\n<a\\ntarget=\"_blank\" href=\"https://layerspontotech.com.br\">\\n<svg\\nclass=\"column-item-logo\"><use\\nxlink:href=\"/svg,1647533642/caelumFooter#icon-caelumFooter-layerstech\"><span\\nclass=\"column-item-title\">Layers ponto Tech</span></svg>\\n</a></li><li\\nclass=\"column-item\">\\n<a\\ntarget=\"_blank\" href=\"https://likeaboss.com.br\">\\n<svg\\nclass=\"column-item-logo\" style=\"fill: #657176\"><use\\nxlink:href=\"/svg,1647533642/caelumFooter#icon-caelumFooter-likeaboss\"><span\\nclass=\"column-item-title\">Like a Boss</span></svg>\\n</a></li><li\\nclass=\"column-item\">\\n<a\\ntarget=\"_blank\" href=\"https://www.carreirasemfronteiras.com.br\">\\n<svg\\nclass=\"column-item-logo\" style=\"fill: #657176\"><use\\nxlink:href=\"/svg,1647533642/caelumFooter#icon-caelumFooter-carreira-sem-fronteiras\"><span\\nclass=\"column-item-title\">Carreira sem Fronteiras</span></svg>\\n</a></li><li\\nclass=\"column-item\">\\n<a\\ntarget=\"_blank\" href=\"https://hipsters.jobs\">\\n<svg\\nclass=\"column-item-logo\"><use\\nxlink:href=\"/svg,1647533642/caelumFooter#icon-caelumFooter-hipstersjobs\"><span\\nclass=\"column-item-title\">Hipsters ponto Jobs</span></svg>\\n</a></li><li\\nclass=\"column-item\">\\n<a\\ntarget=\"_blank\" href=\"https://www.guj.com.br\">\\n<svg\\nclass=\"column-item-logo\"><use\\nxlink:href=\"/svg,1647533642/caelumFooter#icon-caelumFooter-guj\"><span\\nclass=\"column-item-title\">GUJ</span></svg>\\n</a></li></ul></li></ul></div></div></footer> <script>(function(){\\n    var match = location.pathname.match(/\\\\/(bf-|black-?friday\\\\/)([^\\\\/]+)/);\\n    if (match != null) {\\n        var links = document.querySelectorAll(\\'a[href]\\');\\n        for (var i = 0; i < links.length; i++) {\\n            var href = links[i].getAttribute(\\'href\\');\\n            if (href[0] === \\'/\\') {\\n                links[i].setAttribute(\\'href\\', \\'/bf-\\' + match[2] + href);\\n            }\\n        }\\n    }\\n})();</script> <script src=\"https://ajax.googleapis.com/ajax/libs/jquery/3.6.0/jquery.min.js\"></script> <script src=\"/assets/js/lib/svg4everybody.min.1647533644.js\" async></script> <script src=\"/assets/js/header/menu.1647533644.js\" async></script> <script src=\"/assets/js/header/busca.1647533644.js\" async></script> <script src=\"/assets/js/header/cursos.1647533644.js\" async></script> <script src=\"/assets/js/detect.1647533644.js\" async></script> <script src=\"/assets/js/video.1647533644.js\" async></script> <script src=\"/assets/js/Countdown.1662983702.js\" async></script> <script src=\"/assets/js/footer/footer.1647533644.js\" async></script> <script src=\"/assets/js/tiktokpixel.1661520093.js\"></script> <script src=\"//cdnjs.cloudflare.com/ajax/libs/highlight.js/10.4.0/highlight.min.js\"></script> <script>hljs.initHighlightingOnLoad();</script> <script src=\"https://static.criteo.net/js/ld/ld.js\" async></script> <script>function criteoPush(event, data){\\n\\t\\tvar isAluno = document.cookie.match(\\'alura.userId=([^;]+)\\') != null;\\n\\t\\tif(isAluno) return;\\n\\n\\t\\twindow.criteo_q = window.criteo_q || [];\\n\\t\\t\\n\\t\\tif (event == \\'viewHome\\')\\n\\t\\t\\tvar dt = { event: event}\\n\\t\\telse\\n\\t\\t\\tvar dt = { event: event, item: data};\\n\\n\\t\\twindow.criteo_q.push(\\n\\t\\t\\t{ event: \"setAccount\", account: 28037 },\\n\\t\\t\\t{ event: \"setEmail\", email: \"\" },\\n\\t\\t\\t{ event: \"setSiteType\", type: (/iPad/.test(navigator.userAgent) ? \"t\" : (/Mobile|iP(hone|od)|Android|BlackBerry|IEMobile/.test(navigator.userAgent) ? \"m\" : \"d\")) },\\n\\t\\t\\tdt\\n\\t\\t);\\t\\n\\t};\\n\\n\\t\\t\\tcriteoPush(\"viewHome\", \"\");\\n\\t\\t\\n\\t\\tvar criteoIdEl = document.querySelector(\\'[data-criteo-id]\\');\\n\\tif (criteoIdEl) {\\n        var products = JSON.parse(criteoIdEl.dataset.criteoId);\\n        var planos = document.querySelectorAll(\\'[data-payment-plan]\\');\\n\\n        planos.forEach(function (plano) {\\n            plano.addEventListener(\\'click\\', function (event) {\\n\\t\\t\\t\\tvar price = plano.dataset.paymentPlanPrice;\\n                var totalProducts = products.length;\\n\\t\\t\\t\\tvar productIds = \\'\\';\\n\\n                for(var i = 0; i < totalProducts; i++){\\n                    products[i][\\'price\\'] = price;\\n                    products[i][\\'quantity\\'] = 1;\\n\\t\\t\\t\\t\\tproductIds += \\',\\' + products[i][\\'id\\'];\\n                }\\n\\n\\t\\t\\t\\tproductIds = productIds.substr(1);\\n\\n\\t\\t\\t\\t// monta cookie pro Cart indicando quais cursos foram clicados\\n        \\t\\tdocument.cookie = \"criteo.productIds=\" + productIds + \"; path=/; domain=.alura.com.br\";\\n\\n\\t\\t\\t\\t// manda pro criteo\\n                criteoPush(\"viewBasket\", products);\\n            });\\n        });\\n\\n\\n\\t}</script> <script>(function(h,o,t,j,a,r){\\n        h.hj=h.hj||function(){(h.hj.q=h.hj.q||[]).push(arguments)};\\n        h._hjSettings={hjid:2983364,hjsv:6};\\n        a=o.getElementsByTagName(\\'head\\')[0];\\n        r=o.createElement(\\'script\\');r.async=1;\\n        r.src=t+h._hjSettings.hjid+j+h._hjSettings.hjsv;\\n        a.appendChild(r);\\n    })(window,document,\\'https://static.hotjar.com/c/hotjar-\\',\\'.js?sv=\\');</script> <script type=\"text/javascript\">_linkedin_partner_id = \"465017\";\\n\\t\\t\\twindow._linkedin_data_partner_ids = window._linkedin_data_partner_ids || [];\\n\\t\\t\\twindow._linkedin_data_partner_ids.push(_linkedin_partner_id);</script> <script type=\"text/javascript\">(function(){var s = document.getElementsByTagName(\"script\")[0];\\n\\t\\t\\tvar b = document.createElement(\"script\");\\n\\t\\t\\tb.type = \"text/javascript\";b.async = true;\\n\\t\\t\\tb.src = \"https://snap.licdn.com/li.lms-analytics/insight.min.js\";\\n\\t\\t\\ts.parentNode.insertBefore(b, s);})();</script> <noscript>\\n<img\\nheight=\"1\" width=\"1\" style=\"display:none;\" alt=\"\"\\nsrc=\"https://dc.ads.linkedin.com/collect/?pid=465017&fmt=gif\" />\\n</noscript> <script src=\"/assets/js/home/animations.js\" async></script> <script src=\"/assets/js/comunidade/depoimentos.1647533644.js\" async></script> <script src=\"/assets/js/artigos/glider.min.1647533644.js\" async></script> <script src=\"/assets/js/home/slideCases.1647533644.js\" async></script> </body></html>'\n"
     ]
    }
   ],
   "source": [
    "#Em alguns casos será necessário utilizar outras bibliotecas para fazer o webscraping, pois essas páginas possuem\n",
    "#particularidades.\n",
    "\n",
    "#Para tal, iremos usar essas bibliotecas:\n",
    "from urllib.request import Request, urlopen\n",
    "from urllib.error import URLError, HTTPError #Bibliotecas que capturam erros que podem retornar ao fazer requisição\n",
    "\n",
    "#Iremos utilizar o site da alura para teste\n",
    "\n",
    "url = 'https://www.alura.com.br'\n",
    "#Se fizermos o mesmo processo realizado acima será retornado erro 403: forbiden, pois esse site exige que informemos que estamos acessando\n",
    "#a página a partir de um navegador padrão, conhecido como User-Agent, essa informação é possível obter através da opção de desevolvedores da\n",
    "#página, na aba network, na lista de requisições que irá retornar escolhemos uma, em gera o index.php e depois ir na guia Headers, será \n",
    "#apresentado as guias General, Response Headers e o Request Headers, dentro de Request Headers haverá a informação do User-Agent.\n",
    "#Dentro de Request Headers tem os cabeçalhos da requisição que fizemos para obter a página HTML.\n",
    "\n",
    "#Inicia dicionário com a informação do User-Agent, onde a chave é User-Agent e o valor é o conteúdo do user-agent\n",
    "#Esse useragent informa que estamos acessando essa página a partir de um desses navegadores.    \n",
    "user_agent = {'User-Agent': 'Mozilla/5.0 (X11; Linux x86_64) AppleWebKit/537.36 (KHTML, like Gecko) Chrome/105.0.0.0 Safari/537.36'}\n",
    "\n",
    "#tratando os possíveis erros\n",
    "try:\n",
    "    req = Request(url, headers = user_agent) #Cria a variável de requisição, onde o parametro headers recebe o dicionário user_agent.\n",
    "    response = urlopen(req)\n",
    "    print(response.read())\n",
    "\n",
    "#Caso haja erro na requisição\n",
    "except HTTPError as e:\n",
    "    print(e.status, e.reason)\n",
    "    \n",
    "#Caso haja erro na url\n",
    "except URLError as e:\n",
    "    print(e.reason)\n",
    "\n",
    "#No tratamento de erro é importante colocar na ordem que está, pois caso a ordem esteja inversa, caso haja erro na requisição, esse não\n",
    "#retornará\n"
   ]
  },
  {
   "cell_type": "markdown",
   "metadata": {},
   "source": [
    "# 2.3. Tratamento de string"
   ]
  },
  {
   "cell_type": "code",
   "execution_count": null,
   "metadata": {},
   "outputs": [],
   "source": [
    "from urllib.request import urlopen\n",
    "\n",
    "url = 'http://alura-site-scraping.herokuapp.com/index.php'\n",
    "\n",
    "response = urlopen(url)\n",
    "html = response.read()\n",
    "html"
   ]
  },
  {
   "cell_type": "markdown",
   "metadata": {},
   "source": [
    "### Convertando o tipo bytes para string"
   ]
  },
  {
   "cell_type": "code",
   "execution_count": 39,
   "metadata": {},
   "outputs": [
    {
     "data": {
      "text/plain": [
       "bytes"
      ]
     },
     "execution_count": 39,
     "metadata": {},
     "output_type": "execute_result"
    }
   ],
   "source": [
    "type(html)"
   ]
  },
  {
   "cell_type": "code",
   "execution_count": 40,
   "metadata": {},
   "outputs": [],
   "source": [
    "html = html.decode('utf-8') #converte o html de byte para string"
   ]
  },
  {
   "cell_type": "code",
   "execution_count": 41,
   "metadata": {},
   "outputs": [
    {
     "data": {
      "text/plain": [
       "str"
      ]
     },
     "execution_count": 41,
     "metadata": {},
     "output_type": "execute_result"
    }
   ],
   "source": [
    "type(html)"
   ]
  },
  {
   "cell_type": "code",
   "execution_count": null,
   "metadata": {},
   "outputs": [],
   "source": [
    "html"
   ]
  },
  {
   "cell_type": "markdown",
   "metadata": {},
   "source": [
    "### Eliminando os caracteres de tabulação, quebra de linha etc."
   ]
  },
  {
   "cell_type": "code",
   "execution_count": null,
   "metadata": {},
   "outputs": [],
   "source": [
    "html.split() #gera uma lista com o conteúdo separados\n",
    "\n",
    "#o \\n e \\t são considerados espaço."
   ]
  },
  {
   "cell_type": "code",
   "execution_count": null,
   "metadata": {
    "scrolled": true
   },
   "outputs": [],
   "source": [
    "\" \".join(html.split()) #Usando join, assim irá retornar o conteúdo sequencial separado por esapaço"
   ]
  },
  {
   "cell_type": "markdown",
   "metadata": {},
   "source": [
    "### Eliminando os espaços em branco entre as TAGS"
   ]
  },
  {
   "cell_type": "code",
   "execution_count": null,
   "metadata": {
    "scrolled": true
   },
   "outputs": [],
   "source": [
    "\" \".join(html.split()).replace('> <', '><')"
   ]
  },
  {
   "cell_type": "markdown",
   "metadata": {},
   "source": [
    "### Função de tratamento de strings"
   ]
  },
  {
   "cell_type": "code",
   "execution_count": 42,
   "metadata": {},
   "outputs": [],
   "source": [
    "def trata_html(input):\n",
    "    return \" \".join(input.split()).replace('> <', '><')"
   ]
  },
  {
   "cell_type": "code",
   "execution_count": 43,
   "metadata": {},
   "outputs": [],
   "source": [
    "html = trata_html(html)"
   ]
  },
  {
   "cell_type": "code",
   "execution_count": null,
   "metadata": {
    "scrolled": true
   },
   "outputs": [],
   "source": [
    "html"
   ]
  },
  {
   "cell_type": "markdown",
   "metadata": {
    "colab": {},
    "colab_type": "code",
    "id": "BsfhL3sZFRZu"
   },
   "source": [
    "---\n",
    "# <font color=green>3. INTRODUÇÃO AO BEAUTIFULSOUP"
   ]
  },
  {
   "cell_type": "markdown",
   "metadata": {
    "colab": {},
    "colab_type": "code",
    "id": "BsfhL3sZFRZu"
   },
   "source": [
    "# 3.1. HTML da nossa página"
   ]
  },
  {
   "cell_type": "markdown",
   "metadata": {},
   "source": [
    "**HTML** (*HyperText Markup Language*) é uma linguagem de marcação composta por **tags** que deteminam o papel que cada parte do documento vai assumir. As **tags** são formadas pelo seu nome e atributos. Os atributos servem para configurar e também modificar as características padrões de uma **tag**.\n",
    "\n",
    "## Estrutura básica\n",
    "\n",
    "```html\n",
    "<html>\n",
    "    <head>\n",
    "        <meta charset=\"utf-8\" />\n",
    "        <title>Alura Motors</title>\n",
    "    </head>\n",
    "    <body>\n",
    "        <div id=\"container\">\n",
    "            <h1>Alura</h1>\n",
    "            <h2 class=\"formato\">Cursos de Tecnologia</h2>\n",
    "            <p>Você vai estudar, praticar, discutir e aprender.</p>\n",
    "            <a href=\"https://www.alura.com.br/\">Clique aqui</a>\n",
    "        </div>\n",
    "    </body>\n",
    "</html>\n",
    "```\n",
    "\n",
    "```<html>``` - determina o início do documento.\n",
    "\n",
    "```<head>``` - cabeçalho. Contém informações e configurações do documento.\n",
    "\n",
    "```<body>``` - é o corpo do documento, onde todo o conteúdo é colocado. Esta é a parte visível em um navegador.\n",
    "\n",
    "## Tags mais comuns\n",
    "\n",
    "```<div>``` - define uma divisão da página. Pode ser formatada de diversas maneiras.\n",
    "\n",
    "```<h1>, <h2>, <h3>, <h4>, <h5>, <h6>``` - marcadores de títulos.\n",
    "\n",
    "```<p>``` - marcador de parágrafo.\n",
    "\n",
    "```<a>``` - hiperlink.\n",
    "\n",
    "```<img>``` - exibição de imagens.\n",
    "\n",
    "```<table>``` - definição de tabelas.\n",
    "\n",
    "```<ul>, <li>``` - definição de listas.\n"
   ]
  },
  {
   "cell_type": "markdown",
   "metadata": {},
   "source": [
    "# 3.2. Criando um objeto BeautifulSoup"
   ]
  },
  {
   "cell_type": "markdown",
   "metadata": {},
   "source": [
    "## https://www.crummy.com/software/BeautifulSoup/\n",
    "\n",
    "### Sobre parser ver: https://www.crummy.com/software/BeautifulSoup/bs4/doc/#parser-installation"
   ]
  },
  {
   "cell_type": "code",
   "execution_count": 45,
   "metadata": {
    "colab": {
     "base_uri": "https://localhost:8080/",
     "height": 316
    },
    "colab_type": "code",
    "id": "5Oxx_d0BCWGa",
    "outputId": "4d2c4e2b-57fe-413d-9521-91711e0e5fdc",
    "scrolled": true
   },
   "outputs": [
    {
     "data": {
      "text/plain": [
       "<!DOCTYPE html>\n",
       "<html lang=\"pt-br\"><head><meta charset=\"utf-8\"/><meta content=\"width=device-width, initial-scale=1, shrink-to-fit=no\" name=\"viewport\"/><title>Alura Motors</title><style> /*Regra para a animacao*/ @keyframes spin { 0% { transform: rotate(0deg); } 100% { transform: rotate(360deg); } } /*Mudando o tamanho do icone de resposta*/ div.glyphicon { color:#6B8E23; font-size: 38px; } /*Classe que mostra a animacao 'spin'*/ .loader { border: 16px solid #f3f3f3; border-radius: 50%; border-top: 16px solid #3498db; width: 80px; height: 80px; -webkit-animation: spin 2s linear infinite; animation: spin 2s linear infinite; } </style><link crossorigin=\"anonymous\" href=\"https://maxcdn.bootstrapcdn.com/bootstrap/3.3.7/css/bootstrap.min.css\" integrity=\"sha384-BVYiiSIFeK1dGmJRAkycuHAHRg32OmUcww7on3RYdg4Va+PmSTsz/K68vbdEjh4u\" rel=\"stylesheet\"/><link href=\"css/styles.css\" media=\"all\" rel=\"stylesheet\"/><script src=\"https://code.jquery.com/jquery-1.12.4.js\"></script><script crossorigin=\"anonymous\" integrity=\"sha384-Tc5IQib027qvyjSMfHjOMaLkfuWVxZxUPnCJA7l2mCWNIpG9mGCD8wGNIcPD7Txa\" src=\"https://maxcdn.bootstrapcdn.com/bootstrap/3.3.7/js/bootstrap.min.js\"></script><script src=\"js/index.js\" type=\"text/javascript\"></script><script> requisitar(\"https://alura-scraping.herokuapp.com/produtos?_page=\"+1+\"&_limit=10\") </script></head><body cz-shortcut-listen=\"true\"><noscript>You need to enable JavaScript to run this app.</noscript><div aria-labelledby=\"loadingModal_label\" class=\"modal fade\" data-backdrop=\"static\" id=\"loadingModal\" role=\"dialog\" tabindex=\"-1\"><div class=\"modal-dialog\" role=\"document\"><div class=\"modal-content\"><div class=\"modal-header\"><h5 class=\"modal-title\" id=\"loadingModal_label\"><span class=\"glyphicon glyphicon-refresh\"></span>Aguarde... </h5></div><div class=\"modal-body\"><div class=\"alert\" role=\"alert\"><center><div class=\"loader\" id=\"loader\"></div><br/><h4><b id=\"loadingModal_content\"></b></h4></center></div></div></div></div></div><div id=\"root\"><header><nav class=\"navbar navbar-inverse\" style=\"margin-bottom: 0;\"><div class=\"container\" style=\"margin-bottom: -20px;\"><div class=\"navbar\"><a class=\"navbar-brand\" href=\"./index.php\" title=\"Alura Motors\"><img alt=\"Alura\" class=\"d-inline-block align-top\" src=\"img/alura-logo.svg\"/>Motors </a><ul class=\"nav navbar-nav\" style=\"margin-top: 35px;\"><li><a href=\"./hello-world.php\">Hello World</a></li><li><a href=\"./index.php\">Anúncios</a></li></ul></div></div></nav></header><div class=\"container\"><h1 class=\"sub-header\">Veículos de Luxo Novos e Usados - Todas as Marcas</h1><div class=\"row\"><div class=\"col-md-12\"><div class=\"container\" style=\"width: 100%\"><div class=\"type-select\">246 veículos encontrados</div><div class=\"container-pagination\" style=\"float: right\"><span class=\"info-pages\">Página 1 de 25</span></div></div><div id=\"container-cards\" style=\"height: 100%\"><div class=\"well card\"><div class=\"col-md-3 image-card\"><img alt=\"Foto\" height=\"155\" src=\"https://caelum-online-public.s3.amazonaws.com/1381-scraping/01/img-cars/lamborghini-aventador/lamborghini-aventador-2932196__340.jpg\" width=\"220\"/></div><div class=\"col-md-6 body-card\"><p class=\"txt-name inline\">LAMBORGHINI AVENTADOR</p><p class=\"txt-category badge badge-secondary inline\">USADO</p><p class=\"txt-motor\">Motor 1.8 16v</p><p class=\"txt-description\">Ano 1993 - 55.286 km</p><ul class=\"lst-items\"><li class=\"txt-items\">► 4 X 4</li><li class=\"txt-items\">► Câmera de estacionamento</li><li class=\"txt-items\">► Controle de tração</li><li class=\"txt-items\">► Sensor de estacionamento</li><li class=\"txt-items\">...</li></ul><p class=\"txt-location\">Belo Horizonte - MG</p></div><div class=\"col-md-3 value-card\"><div class=\"value\"><p class=\"txt-value\">R$ 338.000</p></div></div></div><div class=\"well card\"><div class=\"col-md-3 image-card\"><img alt=\"Foto\" height=\"155\" src=\"https://caelum-online-public.s3.amazonaws.com/1381-scraping/01/img-cars/bmw-m2/bmw-m2-2970882__340.jpg\" width=\"220\"/></div><div class=\"col-md-6 body-card\"><p class=\"txt-name inline\">BMW M2</p><p class=\"txt-category badge badge-secondary inline\">USADO</p><p class=\"txt-motor\">Motor 3.0 32v</p><p class=\"txt-description\">Ano 2018 - 83.447 km</p><ul class=\"lst-items\"><li class=\"txt-items\">► Câmera de estacionamento</li><li class=\"txt-items\">► Controle de estabilidade</li><li class=\"txt-items\">► Travas elétricas</li><li class=\"txt-items\">► Freios ABS</li><li class=\"txt-items\">...</li></ul><p class=\"txt-location\">Belo Horizonte - MG</p></div><div class=\"col-md-3 value-card\"><div class=\"value\"><p class=\"txt-value\">R$ 346.000</p></div></div></div><div class=\"well card\"><div class=\"col-md-3 image-card\"><img alt=\"Foto\" height=\"155\" src=\"https://caelum-online-public.s3.amazonaws.com/1381-scraping/01/img-cars/alfa/alfa-1823056__340.jpg\" width=\"220\"/></div><div class=\"col-md-6 body-card\"><p class=\"txt-name inline\">ALFA</p><p class=\"txt-category badge badge-secondary inline\">USADO</p><p class=\"txt-motor\">Motor 1.8 16v</p><p class=\"txt-description\">Ano 2004 - 19.722 km</p><ul class=\"lst-items\"><li class=\"txt-items\">► Central multimídia</li><li class=\"txt-items\">► Bancos de couro</li><li class=\"txt-items\">► Rodas de liga</li><li class=\"txt-items\">► Câmera de estacionamento</li><li class=\"txt-items\">...</li></ul><p class=\"txt-location\">Rio de Janeiro - RJ</p></div><div class=\"col-md-3 value-card\"><div class=\"value\"><p class=\"txt-value\">R$ 480.000</p></div></div></div><div class=\"well card\"><div class=\"col-md-3 image-card\"><img alt=\"Foto\" height=\"155\" src=\"https://caelum-online-public.s3.amazonaws.com/1381-scraping/01/img-cars/puech/puech-4055386__340.jpg\" width=\"220\"/></div><div class=\"col-md-6 body-card\"><p class=\"txt-name inline\">PUECH</p><p class=\"txt-category badge badge-secondary inline\">USADO</p><p class=\"txt-motor\">Motor Diesel V8</p><p class=\"txt-description\">Ano 1992 - 34.335 km</p><ul class=\"lst-items\"><li class=\"txt-items\">► Bancos de couro</li><li class=\"txt-items\">► Freios ABS</li><li class=\"txt-items\">► Rodas de liga</li><li class=\"txt-items\">► Câmbio automático</li><li class=\"txt-items\">...</li></ul><p class=\"txt-location\">São Paulo - SP</p></div><div class=\"col-md-3 value-card\"><div class=\"value\"><p class=\"txt-value\">R$ 133.000</p></div></div></div><div class=\"well card\"><div class=\"col-md-3 image-card\"><img alt=\"Foto\" height=\"155\" src=\"https://caelum-online-public.s3.amazonaws.com/1381-scraping/01/img-cars/lamborghini-murcielago/lamborghini-murcielago-2872974__340.jpg\" width=\"220\"/></div><div class=\"col-md-6 body-card\"><p class=\"txt-name inline\">LAMBORGHINI MURCIELAGO</p><p class=\"txt-category badge badge-secondary inline\">USADO</p><p class=\"txt-motor\">Motor 1.0 8v</p><p class=\"txt-description\">Ano 1991 - 464 km</p><ul class=\"lst-items\"><li class=\"txt-items\">► Central multimídia</li><li class=\"txt-items\">► Teto panorâmico</li><li class=\"txt-items\">► Sensor crepuscular</li><li class=\"txt-items\">► Piloto automático</li><li class=\"txt-items\">...</li></ul><p class=\"txt-location\">Belo Horizonte - MG</p></div><div class=\"col-md-3 value-card\"><div class=\"value\"><p class=\"txt-value\">R$ 175.000</p></div></div></div><div class=\"well card\"><div class=\"col-md-3 image-card\"><img alt=\"Foto\" height=\"155\" src=\"https://caelum-online-public.s3.amazonaws.com/1381-scraping/01/img-cars/aston-martin/aston-martin-2977916__340.jpg\" width=\"220\"/></div><div class=\"col-md-6 body-card\"><p class=\"txt-name inline\">ASTON MARTIN</p><p class=\"txt-category badge badge-secondary inline\">USADO</p><p class=\"txt-opportunity badge badge-danger inline\">OPORTUNIDADE</p><p class=\"txt-motor\">Motor Diesel V6</p><p class=\"txt-description\">Ano 2004 - 50.189 km</p><ul class=\"lst-items\"><li class=\"txt-items\">► Painel digital</li><li class=\"txt-items\">► Controle de tração</li><li class=\"txt-items\">► Teto panorâmico</li><li class=\"txt-items\">► Central multimídia</li><li class=\"txt-items\">...</li></ul><p class=\"txt-location\">Belo Horizonte - MG</p></div><div class=\"col-md-3 value-card\"><div class=\"value\"><p class=\"txt-value\">R$ 239.000</p></div></div></div><div class=\"well card\"><div class=\"col-md-3 image-card\"><img alt=\"Foto\" height=\"155\" src=\"https://caelum-online-public.s3.amazonaws.com/1381-scraping/01/img-cars/tvr/tvr-2943925__340.jpg\" width=\"220\"/></div><div class=\"col-md-6 body-card\"><p class=\"txt-name inline\">TVR</p><p class=\"txt-category badge badge-secondary inline\">USADO</p><p class=\"txt-motor\">Motor 4.0 Turbo</p><p class=\"txt-description\">Ano 2014 - 17.778 km</p><ul class=\"lst-items\"><li class=\"txt-items\">► 4 X 4</li><li class=\"txt-items\">► Teto panorâmico</li><li class=\"txt-items\">► Central multimídia</li><li class=\"txt-items\">► Controle de estabilidade</li><li class=\"txt-items\">...</li></ul><p class=\"txt-location\">Belo Horizonte - MG</p></div><div class=\"col-md-3 value-card\"><div class=\"value\"><p class=\"txt-value\">R$ 115.000</p></div></div></div><div class=\"well card\"><div class=\"col-md-3 image-card\"><img alt=\"Foto\" height=\"155\" src=\"https://caelum-online-public.s3.amazonaws.com/1381-scraping/01/img-cars/excalibur/excalibur-2916730__340.jpg\" width=\"220\"/></div><div class=\"col-md-6 body-card\"><p class=\"txt-name inline\">EXCALIBUR</p><p class=\"txt-category badge badge-secondary inline\">USADO</p><p class=\"txt-motor\">Motor 3.0 32v</p><p class=\"txt-description\">Ano 2009 - 81.251 km</p><ul class=\"lst-items\"><li class=\"txt-items\">► Painel digital</li><li class=\"txt-items\">► Câmbio automático</li><li class=\"txt-items\">► Sensor de chuva</li><li class=\"txt-items\">► Travas elétricas</li><li class=\"txt-items\">...</li></ul><p class=\"txt-location\">Rio de Janeiro - RJ</p></div><div class=\"col-md-3 value-card\"><div class=\"value\"><p class=\"txt-value\">R$ 114.000</p></div></div></div><div class=\"well card\"><div class=\"col-md-3 image-card\"><img alt=\"Foto\" height=\"155\" src=\"https://caelum-online-public.s3.amazonaws.com/1381-scraping/01/img-cars/mclaren/mclaren-2855240__340.jpg\" width=\"220\"/></div><div class=\"col-md-6 body-card\"><p class=\"txt-name inline\">MCLAREN</p><p class=\"txt-category badge badge-secondary inline\">NOVO</p><p class=\"txt-motor\">Motor Diesel</p><p class=\"txt-description\">Ano 2019 - 0 km</p><ul class=\"lst-items\"><li class=\"txt-items\">► Central multimídia</li><li class=\"txt-items\">► Câmera de estacionamento</li><li class=\"txt-items\">► Câmbio automático</li><li class=\"txt-items\">► Ar condicionado</li><li class=\"txt-items\">...</li></ul><p class=\"txt-location\">São Paulo - SP</p></div><div class=\"col-md-3 value-card\"><div class=\"value\"><p class=\"txt-value\">R$ 75.000</p></div></div></div><div class=\"well card\"><div class=\"col-md-3 image-card\"><img alt=\"Foto\" height=\"155\" src=\"https://caelum-online-public.s3.amazonaws.com/1381-scraping/01/img-cars/toyota/toyota-3245397__340.jpg\" width=\"220\"/></div><div class=\"col-md-6 body-card\"><p class=\"txt-name inline\">TOYOTA</p><p class=\"txt-category badge badge-secondary inline\">USADO</p><p class=\"txt-opportunity badge badge-danger inline\">OPORTUNIDADE</p><p class=\"txt-motor\">Motor 4.0 Turbo</p><p class=\"txt-description\">Ano 1999 - 12.536 km</p><ul class=\"lst-items\"><li class=\"txt-items\">► Bancos de couro</li><li class=\"txt-items\">► Freios ABS</li><li class=\"txt-items\">► Piloto automático</li><li class=\"txt-items\">► Controle de estabilidade</li><li class=\"txt-items\">...</li></ul><p class=\"txt-location\">São Paulo - SP</p></div><div class=\"col-md-3 value-card\"><div class=\"value\"><p class=\"txt-value\">R$ 117.000</p></div></div></div></div><div class=\"type-select\">246 veículos encontrados</div><div class=\"container-pagination\" style=\"float: right\"><span class=\"info-pages\">Página 1 de 25</span></div></div></div></div></div><footer><nav class=\"navbar navbar-inverse\"><div class=\"container\" style=\"margin-bottom: 10px;\"><div class=\"navbar\"><a class=\"navbar-brand\" href=\"./index.php\" title=\"Alura Motors\"><img alt=\"Alura\" class=\"d-inline-block align-top\" src=\"img/alura-logo.svg\"/>Motors </a><p style=\"color: #fff; text-align: center; margin-top: 40px;\">Aplicação para treinamento de web scraping</p></div></div></nav></footer></body></html>"
      ]
     },
     "execution_count": 45,
     "metadata": {},
     "output_type": "execute_result"
    }
   ],
   "source": [
    "from bs4 import BeautifulSoup\n",
    "\n",
    "soup = BeautifulSoup(html, 'html.parser')\n",
    "\n",
    "#O parser é justamente responsável pela interpretação do documento no formato HTML, para que então o BeautifulSoup \n",
    "#entenda cada tipo de elemento presente no texto, como tags, classes e etc.\n",
    "\n",
    "soup"
   ]
  },
  {
   "cell_type": "code",
   "execution_count": 46,
   "metadata": {
    "scrolled": true
   },
   "outputs": [
    {
     "data": {
      "text/plain": [
       "bs4.BeautifulSoup"
      ]
     },
     "execution_count": 46,
     "metadata": {},
     "output_type": "execute_result"
    }
   ],
   "source": [
    "type(soup)\n",
    "bs4.BeautifulSoup"
   ]
  },
  {
   "cell_type": "code",
   "execution_count": 47,
   "metadata": {},
   "outputs": [
    {
     "name": "stdout",
     "output_type": "stream",
     "text": [
      "<!DOCTYPE html>\n",
      "<html lang=\"pt-br\">\n",
      " <head>\n",
      "  <meta charset=\"utf-8\"/>\n",
      "  <meta content=\"width=device-width, initial-scale=1, shrink-to-fit=no\" name=\"viewport\"/>\n",
      "  <title>\n",
      "   Alura Motors\n",
      "  </title>\n",
      "  <style>\n",
      "   /*Regra para a animacao*/ @keyframes spin { 0% { transform: rotate(0deg); } 100% { transform: rotate(360deg); } } /*Mudando o tamanho do icone de resposta*/ div.glyphicon { color:#6B8E23; font-size: 38px; } /*Classe que mostra a animacao 'spin'*/ .loader { border: 16px solid #f3f3f3; border-radius: 50%; border-top: 16px solid #3498db; width: 80px; height: 80px; -webkit-animation: spin 2s linear infinite; animation: spin 2s linear infinite; }\n",
      "  </style>\n",
      "  <link crossorigin=\"anonymous\" href=\"https://maxcdn.bootstrapcdn.com/bootstrap/3.3.7/css/bootstrap.min.css\" integrity=\"sha384-BVYiiSIFeK1dGmJRAkycuHAHRg32OmUcww7on3RYdg4Va+PmSTsz/K68vbdEjh4u\" rel=\"stylesheet\"/>\n",
      "  <link href=\"css/styles.css\" media=\"all\" rel=\"stylesheet\"/>\n",
      "  <script src=\"https://code.jquery.com/jquery-1.12.4.js\">\n",
      "  </script>\n",
      "  <script crossorigin=\"anonymous\" integrity=\"sha384-Tc5IQib027qvyjSMfHjOMaLkfuWVxZxUPnCJA7l2mCWNIpG9mGCD8wGNIcPD7Txa\" src=\"https://maxcdn.bootstrapcdn.com/bootstrap/3.3.7/js/bootstrap.min.js\">\n",
      "  </script>\n",
      "  <script src=\"js/index.js\" type=\"text/javascript\">\n",
      "  </script>\n",
      "  <script>\n",
      "   requisitar(\"https://alura-scraping.herokuapp.com/produtos?_page=\"+1+\"&_limit=10\")\n",
      "  </script>\n",
      " </head>\n",
      " <body cz-shortcut-listen=\"true\">\n",
      "  <noscript>\n",
      "   You need to enable JavaScript to run this app.\n",
      "  </noscript>\n",
      "  <div aria-labelledby=\"loadingModal_label\" class=\"modal fade\" data-backdrop=\"static\" id=\"loadingModal\" role=\"dialog\" tabindex=\"-1\">\n",
      "   <div class=\"modal-dialog\" role=\"document\">\n",
      "    <div class=\"modal-content\">\n",
      "     <div class=\"modal-header\">\n",
      "      <h5 class=\"modal-title\" id=\"loadingModal_label\">\n",
      "       <span class=\"glyphicon glyphicon-refresh\">\n",
      "       </span>\n",
      "       Aguarde...\n",
      "      </h5>\n",
      "     </div>\n",
      "     <div class=\"modal-body\">\n",
      "      <div class=\"alert\" role=\"alert\">\n",
      "       <center>\n",
      "        <div class=\"loader\" id=\"loader\">\n",
      "        </div>\n",
      "        <br/>\n",
      "        <h4>\n",
      "         <b id=\"loadingModal_content\">\n",
      "         </b>\n",
      "        </h4>\n",
      "       </center>\n",
      "      </div>\n",
      "     </div>\n",
      "    </div>\n",
      "   </div>\n",
      "  </div>\n",
      "  <div id=\"root\">\n",
      "   <header>\n",
      "    <nav class=\"navbar navbar-inverse\" style=\"margin-bottom: 0;\">\n",
      "     <div class=\"container\" style=\"margin-bottom: -20px;\">\n",
      "      <div class=\"navbar\">\n",
      "       <a class=\"navbar-brand\" href=\"./index.php\" title=\"Alura Motors\">\n",
      "        <img alt=\"Alura\" class=\"d-inline-block align-top\" src=\"img/alura-logo.svg\"/>\n",
      "        Motors\n",
      "       </a>\n",
      "       <ul class=\"nav navbar-nav\" style=\"margin-top: 35px;\">\n",
      "        <li>\n",
      "         <a href=\"./hello-world.php\">\n",
      "          Hello World\n",
      "         </a>\n",
      "        </li>\n",
      "        <li>\n",
      "         <a href=\"./index.php\">\n",
      "          Anúncios\n",
      "         </a>\n",
      "        </li>\n",
      "       </ul>\n",
      "      </div>\n",
      "     </div>\n",
      "    </nav>\n",
      "   </header>\n",
      "   <div class=\"container\">\n",
      "    <h1 class=\"sub-header\">\n",
      "     Veículos de Luxo Novos e Usados - Todas as Marcas\n",
      "    </h1>\n",
      "    <div class=\"row\">\n",
      "     <div class=\"col-md-12\">\n",
      "      <div class=\"container\" style=\"width: 100%\">\n",
      "       <div class=\"type-select\">\n",
      "        246 veículos encontrados\n",
      "       </div>\n",
      "       <div class=\"container-pagination\" style=\"float: right\">\n",
      "        <span class=\"info-pages\">\n",
      "         Página 1 de 25\n",
      "        </span>\n",
      "       </div>\n",
      "      </div>\n",
      "      <div id=\"container-cards\" style=\"height: 100%\">\n",
      "       <div class=\"well card\">\n",
      "        <div class=\"col-md-3 image-card\">\n",
      "         <img alt=\"Foto\" height=\"155\" src=\"https://caelum-online-public.s3.amazonaws.com/1381-scraping/01/img-cars/lamborghini-aventador/lamborghini-aventador-2932196__340.jpg\" width=\"220\"/>\n",
      "        </div>\n",
      "        <div class=\"col-md-6 body-card\">\n",
      "         <p class=\"txt-name inline\">\n",
      "          LAMBORGHINI AVENTADOR\n",
      "         </p>\n",
      "         <p class=\"txt-category badge badge-secondary inline\">\n",
      "          USADO\n",
      "         </p>\n",
      "         <p class=\"txt-motor\">\n",
      "          Motor 1.8 16v\n",
      "         </p>\n",
      "         <p class=\"txt-description\">\n",
      "          Ano 1993 - 55.286 km\n",
      "         </p>\n",
      "         <ul class=\"lst-items\">\n",
      "          <li class=\"txt-items\">\n",
      "           ► 4 X 4\n",
      "          </li>\n",
      "          <li class=\"txt-items\">\n",
      "           ► Câmera de estacionamento\n",
      "          </li>\n",
      "          <li class=\"txt-items\">\n",
      "           ► Controle de tração\n",
      "          </li>\n",
      "          <li class=\"txt-items\">\n",
      "           ► Sensor de estacionamento\n",
      "          </li>\n",
      "          <li class=\"txt-items\">\n",
      "           ...\n",
      "          </li>\n",
      "         </ul>\n",
      "         <p class=\"txt-location\">\n",
      "          Belo Horizonte - MG\n",
      "         </p>\n",
      "        </div>\n",
      "        <div class=\"col-md-3 value-card\">\n",
      "         <div class=\"value\">\n",
      "          <p class=\"txt-value\">\n",
      "           R$ 338.000\n",
      "          </p>\n",
      "         </div>\n",
      "        </div>\n",
      "       </div>\n",
      "       <div class=\"well card\">\n",
      "        <div class=\"col-md-3 image-card\">\n",
      "         <img alt=\"Foto\" height=\"155\" src=\"https://caelum-online-public.s3.amazonaws.com/1381-scraping/01/img-cars/bmw-m2/bmw-m2-2970882__340.jpg\" width=\"220\"/>\n",
      "        </div>\n",
      "        <div class=\"col-md-6 body-card\">\n",
      "         <p class=\"txt-name inline\">\n",
      "          BMW M2\n",
      "         </p>\n",
      "         <p class=\"txt-category badge badge-secondary inline\">\n",
      "          USADO\n",
      "         </p>\n",
      "         <p class=\"txt-motor\">\n",
      "          Motor 3.0 32v\n",
      "         </p>\n",
      "         <p class=\"txt-description\">\n",
      "          Ano 2018 - 83.447 km\n",
      "         </p>\n",
      "         <ul class=\"lst-items\">\n",
      "          <li class=\"txt-items\">\n",
      "           ► Câmera de estacionamento\n",
      "          </li>\n",
      "          <li class=\"txt-items\">\n",
      "           ► Controle de estabilidade\n",
      "          </li>\n",
      "          <li class=\"txt-items\">\n",
      "           ► Travas elétricas\n",
      "          </li>\n",
      "          <li class=\"txt-items\">\n",
      "           ► Freios ABS\n",
      "          </li>\n",
      "          <li class=\"txt-items\">\n",
      "           ...\n",
      "          </li>\n",
      "         </ul>\n",
      "         <p class=\"txt-location\">\n",
      "          Belo Horizonte - MG\n",
      "         </p>\n",
      "        </div>\n",
      "        <div class=\"col-md-3 value-card\">\n",
      "         <div class=\"value\">\n",
      "          <p class=\"txt-value\">\n",
      "           R$ 346.000\n",
      "          </p>\n",
      "         </div>\n",
      "        </div>\n",
      "       </div>\n",
      "       <div class=\"well card\">\n",
      "        <div class=\"col-md-3 image-card\">\n",
      "         <img alt=\"Foto\" height=\"155\" src=\"https://caelum-online-public.s3.amazonaws.com/1381-scraping/01/img-cars/alfa/alfa-1823056__340.jpg\" width=\"220\"/>\n",
      "        </div>\n",
      "        <div class=\"col-md-6 body-card\">\n",
      "         <p class=\"txt-name inline\">\n",
      "          ALFA\n",
      "         </p>\n",
      "         <p class=\"txt-category badge badge-secondary inline\">\n",
      "          USADO\n",
      "         </p>\n",
      "         <p class=\"txt-motor\">\n",
      "          Motor 1.8 16v\n",
      "         </p>\n",
      "         <p class=\"txt-description\">\n",
      "          Ano 2004 - 19.722 km\n",
      "         </p>\n",
      "         <ul class=\"lst-items\">\n",
      "          <li class=\"txt-items\">\n",
      "           ► Central multimídia\n",
      "          </li>\n",
      "          <li class=\"txt-items\">\n",
      "           ► Bancos de couro\n",
      "          </li>\n",
      "          <li class=\"txt-items\">\n",
      "           ► Rodas de liga\n",
      "          </li>\n",
      "          <li class=\"txt-items\">\n",
      "           ► Câmera de estacionamento\n",
      "          </li>\n",
      "          <li class=\"txt-items\">\n",
      "           ...\n",
      "          </li>\n",
      "         </ul>\n",
      "         <p class=\"txt-location\">\n",
      "          Rio de Janeiro - RJ\n",
      "         </p>\n",
      "        </div>\n",
      "        <div class=\"col-md-3 value-card\">\n",
      "         <div class=\"value\">\n",
      "          <p class=\"txt-value\">\n",
      "           R$ 480.000\n",
      "          </p>\n",
      "         </div>\n",
      "        </div>\n",
      "       </div>\n",
      "       <div class=\"well card\">\n",
      "        <div class=\"col-md-3 image-card\">\n",
      "         <img alt=\"Foto\" height=\"155\" src=\"https://caelum-online-public.s3.amazonaws.com/1381-scraping/01/img-cars/puech/puech-4055386__340.jpg\" width=\"220\"/>\n",
      "        </div>\n",
      "        <div class=\"col-md-6 body-card\">\n",
      "         <p class=\"txt-name inline\">\n",
      "          PUECH\n",
      "         </p>\n",
      "         <p class=\"txt-category badge badge-secondary inline\">\n",
      "          USADO\n",
      "         </p>\n",
      "         <p class=\"txt-motor\">\n",
      "          Motor Diesel V8\n",
      "         </p>\n",
      "         <p class=\"txt-description\">\n",
      "          Ano 1992 - 34.335 km\n",
      "         </p>\n",
      "         <ul class=\"lst-items\">\n",
      "          <li class=\"txt-items\">\n",
      "           ► Bancos de couro\n",
      "          </li>\n",
      "          <li class=\"txt-items\">\n",
      "           ► Freios ABS\n",
      "          </li>\n",
      "          <li class=\"txt-items\">\n",
      "           ► Rodas de liga\n",
      "          </li>\n",
      "          <li class=\"txt-items\">\n",
      "           ► Câmbio automático\n",
      "          </li>\n",
      "          <li class=\"txt-items\">\n",
      "           ...\n",
      "          </li>\n",
      "         </ul>\n",
      "         <p class=\"txt-location\">\n",
      "          São Paulo - SP\n",
      "         </p>\n",
      "        </div>\n",
      "        <div class=\"col-md-3 value-card\">\n",
      "         <div class=\"value\">\n",
      "          <p class=\"txt-value\">\n",
      "           R$ 133.000\n",
      "          </p>\n",
      "         </div>\n",
      "        </div>\n",
      "       </div>\n",
      "       <div class=\"well card\">\n",
      "        <div class=\"col-md-3 image-card\">\n",
      "         <img alt=\"Foto\" height=\"155\" src=\"https://caelum-online-public.s3.amazonaws.com/1381-scraping/01/img-cars/lamborghini-murcielago/lamborghini-murcielago-2872974__340.jpg\" width=\"220\"/>\n",
      "        </div>\n",
      "        <div class=\"col-md-6 body-card\">\n",
      "         <p class=\"txt-name inline\">\n",
      "          LAMBORGHINI MURCIELAGO\n",
      "         </p>\n",
      "         <p class=\"txt-category badge badge-secondary inline\">\n",
      "          USADO\n",
      "         </p>\n",
      "         <p class=\"txt-motor\">\n",
      "          Motor 1.0 8v\n",
      "         </p>\n",
      "         <p class=\"txt-description\">\n",
      "          Ano 1991 - 464 km\n",
      "         </p>\n",
      "         <ul class=\"lst-items\">\n",
      "          <li class=\"txt-items\">\n",
      "           ► Central multimídia\n",
      "          </li>\n",
      "          <li class=\"txt-items\">\n",
      "           ► Teto panorâmico\n",
      "          </li>\n",
      "          <li class=\"txt-items\">\n",
      "           ► Sensor crepuscular\n",
      "          </li>\n",
      "          <li class=\"txt-items\">\n",
      "           ► Piloto automático\n",
      "          </li>\n",
      "          <li class=\"txt-items\">\n",
      "           ...\n",
      "          </li>\n",
      "         </ul>\n",
      "         <p class=\"txt-location\">\n",
      "          Belo Horizonte - MG\n",
      "         </p>\n",
      "        </div>\n",
      "        <div class=\"col-md-3 value-card\">\n",
      "         <div class=\"value\">\n",
      "          <p class=\"txt-value\">\n",
      "           R$ 175.000\n",
      "          </p>\n",
      "         </div>\n",
      "        </div>\n",
      "       </div>\n",
      "       <div class=\"well card\">\n",
      "        <div class=\"col-md-3 image-card\">\n",
      "         <img alt=\"Foto\" height=\"155\" src=\"https://caelum-online-public.s3.amazonaws.com/1381-scraping/01/img-cars/aston-martin/aston-martin-2977916__340.jpg\" width=\"220\"/>\n",
      "        </div>\n",
      "        <div class=\"col-md-6 body-card\">\n",
      "         <p class=\"txt-name inline\">\n",
      "          ASTON MARTIN\n",
      "         </p>\n",
      "         <p class=\"txt-category badge badge-secondary inline\">\n",
      "          USADO\n",
      "         </p>\n",
      "         <p class=\"txt-opportunity badge badge-danger inline\">\n",
      "          OPORTUNIDADE\n",
      "         </p>\n",
      "         <p class=\"txt-motor\">\n",
      "          Motor Diesel V6\n",
      "         </p>\n",
      "         <p class=\"txt-description\">\n",
      "          Ano 2004 - 50.189 km\n",
      "         </p>\n",
      "         <ul class=\"lst-items\">\n",
      "          <li class=\"txt-items\">\n",
      "           ► Painel digital\n",
      "          </li>\n",
      "          <li class=\"txt-items\">\n",
      "           ► Controle de tração\n",
      "          </li>\n",
      "          <li class=\"txt-items\">\n",
      "           ► Teto panorâmico\n",
      "          </li>\n",
      "          <li class=\"txt-items\">\n",
      "           ► Central multimídia\n",
      "          </li>\n",
      "          <li class=\"txt-items\">\n",
      "           ...\n",
      "          </li>\n",
      "         </ul>\n",
      "         <p class=\"txt-location\">\n",
      "          Belo Horizonte - MG\n",
      "         </p>\n",
      "        </div>\n",
      "        <div class=\"col-md-3 value-card\">\n",
      "         <div class=\"value\">\n",
      "          <p class=\"txt-value\">\n",
      "           R$ 239.000\n",
      "          </p>\n",
      "         </div>\n",
      "        </div>\n",
      "       </div>\n",
      "       <div class=\"well card\">\n",
      "        <div class=\"col-md-3 image-card\">\n",
      "         <img alt=\"Foto\" height=\"155\" src=\"https://caelum-online-public.s3.amazonaws.com/1381-scraping/01/img-cars/tvr/tvr-2943925__340.jpg\" width=\"220\"/>\n",
      "        </div>\n",
      "        <div class=\"col-md-6 body-card\">\n",
      "         <p class=\"txt-name inline\">\n",
      "          TVR\n",
      "         </p>\n",
      "         <p class=\"txt-category badge badge-secondary inline\">\n",
      "          USADO\n",
      "         </p>\n",
      "         <p class=\"txt-motor\">\n",
      "          Motor 4.0 Turbo\n",
      "         </p>\n",
      "         <p class=\"txt-description\">\n",
      "          Ano 2014 - 17.778 km\n",
      "         </p>\n",
      "         <ul class=\"lst-items\">\n",
      "          <li class=\"txt-items\">\n",
      "           ► 4 X 4\n",
      "          </li>\n",
      "          <li class=\"txt-items\">\n",
      "           ► Teto panorâmico\n",
      "          </li>\n",
      "          <li class=\"txt-items\">\n",
      "           ► Central multimídia\n",
      "          </li>\n",
      "          <li class=\"txt-items\">\n",
      "           ► Controle de estabilidade\n",
      "          </li>\n",
      "          <li class=\"txt-items\">\n",
      "           ...\n",
      "          </li>\n",
      "         </ul>\n",
      "         <p class=\"txt-location\">\n",
      "          Belo Horizonte - MG\n",
      "         </p>\n",
      "        </div>\n",
      "        <div class=\"col-md-3 value-card\">\n",
      "         <div class=\"value\">\n",
      "          <p class=\"txt-value\">\n",
      "           R$ 115.000\n",
      "          </p>\n",
      "         </div>\n",
      "        </div>\n",
      "       </div>\n",
      "       <div class=\"well card\">\n",
      "        <div class=\"col-md-3 image-card\">\n",
      "         <img alt=\"Foto\" height=\"155\" src=\"https://caelum-online-public.s3.amazonaws.com/1381-scraping/01/img-cars/excalibur/excalibur-2916730__340.jpg\" width=\"220\"/>\n",
      "        </div>\n",
      "        <div class=\"col-md-6 body-card\">\n",
      "         <p class=\"txt-name inline\">\n",
      "          EXCALIBUR\n",
      "         </p>\n",
      "         <p class=\"txt-category badge badge-secondary inline\">\n",
      "          USADO\n",
      "         </p>\n",
      "         <p class=\"txt-motor\">\n",
      "          Motor 3.0 32v\n",
      "         </p>\n",
      "         <p class=\"txt-description\">\n",
      "          Ano 2009 - 81.251 km\n",
      "         </p>\n",
      "         <ul class=\"lst-items\">\n",
      "          <li class=\"txt-items\">\n",
      "           ► Painel digital\n",
      "          </li>\n",
      "          <li class=\"txt-items\">\n",
      "           ► Câmbio automático\n",
      "          </li>\n",
      "          <li class=\"txt-items\">\n",
      "           ► Sensor de chuva\n",
      "          </li>\n",
      "          <li class=\"txt-items\">\n",
      "           ► Travas elétricas\n",
      "          </li>\n",
      "          <li class=\"txt-items\">\n",
      "           ...\n",
      "          </li>\n",
      "         </ul>\n",
      "         <p class=\"txt-location\">\n",
      "          Rio de Janeiro - RJ\n",
      "         </p>\n",
      "        </div>\n",
      "        <div class=\"col-md-3 value-card\">\n",
      "         <div class=\"value\">\n",
      "          <p class=\"txt-value\">\n",
      "           R$ 114.000\n",
      "          </p>\n",
      "         </div>\n",
      "        </div>\n",
      "       </div>\n",
      "       <div class=\"well card\">\n",
      "        <div class=\"col-md-3 image-card\">\n",
      "         <img alt=\"Foto\" height=\"155\" src=\"https://caelum-online-public.s3.amazonaws.com/1381-scraping/01/img-cars/mclaren/mclaren-2855240__340.jpg\" width=\"220\"/>\n",
      "        </div>\n",
      "        <div class=\"col-md-6 body-card\">\n",
      "         <p class=\"txt-name inline\">\n",
      "          MCLAREN\n",
      "         </p>\n",
      "         <p class=\"txt-category badge badge-secondary inline\">\n",
      "          NOVO\n",
      "         </p>\n",
      "         <p class=\"txt-motor\">\n",
      "          Motor Diesel\n",
      "         </p>\n",
      "         <p class=\"txt-description\">\n",
      "          Ano 2019 - 0 km\n",
      "         </p>\n",
      "         <ul class=\"lst-items\">\n",
      "          <li class=\"txt-items\">\n",
      "           ► Central multimídia\n",
      "          </li>\n",
      "          <li class=\"txt-items\">\n",
      "           ► Câmera de estacionamento\n",
      "          </li>\n",
      "          <li class=\"txt-items\">\n",
      "           ► Câmbio automático\n",
      "          </li>\n",
      "          <li class=\"txt-items\">\n",
      "           ► Ar condicionado\n",
      "          </li>\n",
      "          <li class=\"txt-items\">\n",
      "           ...\n",
      "          </li>\n",
      "         </ul>\n",
      "         <p class=\"txt-location\">\n",
      "          São Paulo - SP\n",
      "         </p>\n",
      "        </div>\n",
      "        <div class=\"col-md-3 value-card\">\n",
      "         <div class=\"value\">\n",
      "          <p class=\"txt-value\">\n",
      "           R$ 75.000\n",
      "          </p>\n",
      "         </div>\n",
      "        </div>\n",
      "       </div>\n",
      "       <div class=\"well card\">\n",
      "        <div class=\"col-md-3 image-card\">\n",
      "         <img alt=\"Foto\" height=\"155\" src=\"https://caelum-online-public.s3.amazonaws.com/1381-scraping/01/img-cars/toyota/toyota-3245397__340.jpg\" width=\"220\"/>\n",
      "        </div>\n",
      "        <div class=\"col-md-6 body-card\">\n",
      "         <p class=\"txt-name inline\">\n",
      "          TOYOTA\n",
      "         </p>\n",
      "         <p class=\"txt-category badge badge-secondary inline\">\n",
      "          USADO\n",
      "         </p>\n",
      "         <p class=\"txt-opportunity badge badge-danger inline\">\n",
      "          OPORTUNIDADE\n",
      "         </p>\n",
      "         <p class=\"txt-motor\">\n",
      "          Motor 4.0 Turbo\n",
      "         </p>\n",
      "         <p class=\"txt-description\">\n",
      "          Ano 1999 - 12.536 km\n",
      "         </p>\n",
      "         <ul class=\"lst-items\">\n",
      "          <li class=\"txt-items\">\n",
      "           ► Bancos de couro\n",
      "          </li>\n",
      "          <li class=\"txt-items\">\n",
      "           ► Freios ABS\n",
      "          </li>\n",
      "          <li class=\"txt-items\">\n",
      "           ► Piloto automático\n",
      "          </li>\n",
      "          <li class=\"txt-items\">\n",
      "           ► Controle de estabilidade\n",
      "          </li>\n",
      "          <li class=\"txt-items\">\n",
      "           ...\n",
      "          </li>\n",
      "         </ul>\n",
      "         <p class=\"txt-location\">\n",
      "          São Paulo - SP\n",
      "         </p>\n",
      "        </div>\n",
      "        <div class=\"col-md-3 value-card\">\n",
      "         <div class=\"value\">\n",
      "          <p class=\"txt-value\">\n",
      "           R$ 117.000\n",
      "          </p>\n",
      "         </div>\n",
      "        </div>\n",
      "       </div>\n",
      "      </div>\n",
      "      <div class=\"type-select\">\n",
      "       246 veículos encontrados\n",
      "      </div>\n",
      "      <div class=\"container-pagination\" style=\"float: right\">\n",
      "       <span class=\"info-pages\">\n",
      "        Página 1 de 25\n",
      "       </span>\n",
      "      </div>\n",
      "     </div>\n",
      "    </div>\n",
      "   </div>\n",
      "  </div>\n",
      "  <footer>\n",
      "   <nav class=\"navbar navbar-inverse\">\n",
      "    <div class=\"container\" style=\"margin-bottom: 10px;\">\n",
      "     <div class=\"navbar\">\n",
      "      <a class=\"navbar-brand\" href=\"./index.php\" title=\"Alura Motors\">\n",
      "       <img alt=\"Alura\" class=\"d-inline-block align-top\" src=\"img/alura-logo.svg\"/>\n",
      "       Motors\n",
      "      </a>\n",
      "      <p style=\"color: #fff; text-align: center; margin-top: 40px;\">\n",
      "       Aplicação para treinamento de web scraping\n",
      "      </p>\n",
      "     </div>\n",
      "    </div>\n",
      "   </nav>\n",
      "  </footer>\n",
      " </body>\n",
      "</html>\n"
     ]
    }
   ],
   "source": [
    "print(soup.prettify()) #Imprime com identações"
   ]
  },
  {
   "cell_type": "markdown",
   "metadata": {},
   "source": [
    "# 3.3. Acessando tags"
   ]
  },
  {
   "cell_type": "code",
   "execution_count": 48,
   "metadata": {
    "scrolled": true
   },
   "outputs": [
    {
     "data": {
      "text/plain": [
       "<html lang=\"pt-br\"><head><meta charset=\"utf-8\"/><meta content=\"width=device-width, initial-scale=1, shrink-to-fit=no\" name=\"viewport\"/><title>Alura Motors</title><style> /*Regra para a animacao*/ @keyframes spin { 0% { transform: rotate(0deg); } 100% { transform: rotate(360deg); } } /*Mudando o tamanho do icone de resposta*/ div.glyphicon { color:#6B8E23; font-size: 38px; } /*Classe que mostra a animacao 'spin'*/ .loader { border: 16px solid #f3f3f3; border-radius: 50%; border-top: 16px solid #3498db; width: 80px; height: 80px; -webkit-animation: spin 2s linear infinite; animation: spin 2s linear infinite; } </style><link crossorigin=\"anonymous\" href=\"https://maxcdn.bootstrapcdn.com/bootstrap/3.3.7/css/bootstrap.min.css\" integrity=\"sha384-BVYiiSIFeK1dGmJRAkycuHAHRg32OmUcww7on3RYdg4Va+PmSTsz/K68vbdEjh4u\" rel=\"stylesheet\"/><link href=\"css/styles.css\" media=\"all\" rel=\"stylesheet\"/><script src=\"https://code.jquery.com/jquery-1.12.4.js\"></script><script crossorigin=\"anonymous\" integrity=\"sha384-Tc5IQib027qvyjSMfHjOMaLkfuWVxZxUPnCJA7l2mCWNIpG9mGCD8wGNIcPD7Txa\" src=\"https://maxcdn.bootstrapcdn.com/bootstrap/3.3.7/js/bootstrap.min.js\"></script><script src=\"js/index.js\" type=\"text/javascript\"></script><script> requisitar(\"https://alura-scraping.herokuapp.com/produtos?_page=\"+1+\"&_limit=10\") </script></head><body cz-shortcut-listen=\"true\"><noscript>You need to enable JavaScript to run this app.</noscript><div aria-labelledby=\"loadingModal_label\" class=\"modal fade\" data-backdrop=\"static\" id=\"loadingModal\" role=\"dialog\" tabindex=\"-1\"><div class=\"modal-dialog\" role=\"document\"><div class=\"modal-content\"><div class=\"modal-header\"><h5 class=\"modal-title\" id=\"loadingModal_label\"><span class=\"glyphicon glyphicon-refresh\"></span>Aguarde... </h5></div><div class=\"modal-body\"><div class=\"alert\" role=\"alert\"><center><div class=\"loader\" id=\"loader\"></div><br/><h4><b id=\"loadingModal_content\"></b></h4></center></div></div></div></div></div><div id=\"root\"><header><nav class=\"navbar navbar-inverse\" style=\"margin-bottom: 0;\"><div class=\"container\" style=\"margin-bottom: -20px;\"><div class=\"navbar\"><a class=\"navbar-brand\" href=\"./index.php\" title=\"Alura Motors\"><img alt=\"Alura\" class=\"d-inline-block align-top\" src=\"img/alura-logo.svg\"/>Motors </a><ul class=\"nav navbar-nav\" style=\"margin-top: 35px;\"><li><a href=\"./hello-world.php\">Hello World</a></li><li><a href=\"./index.php\">Anúncios</a></li></ul></div></div></nav></header><div class=\"container\"><h1 class=\"sub-header\">Veículos de Luxo Novos e Usados - Todas as Marcas</h1><div class=\"row\"><div class=\"col-md-12\"><div class=\"container\" style=\"width: 100%\"><div class=\"type-select\">246 veículos encontrados</div><div class=\"container-pagination\" style=\"float: right\"><span class=\"info-pages\">Página 1 de 25</span></div></div><div id=\"container-cards\" style=\"height: 100%\"><div class=\"well card\"><div class=\"col-md-3 image-card\"><img alt=\"Foto\" height=\"155\" src=\"https://caelum-online-public.s3.amazonaws.com/1381-scraping/01/img-cars/lamborghini-aventador/lamborghini-aventador-2932196__340.jpg\" width=\"220\"/></div><div class=\"col-md-6 body-card\"><p class=\"txt-name inline\">LAMBORGHINI AVENTADOR</p><p class=\"txt-category badge badge-secondary inline\">USADO</p><p class=\"txt-motor\">Motor 1.8 16v</p><p class=\"txt-description\">Ano 1993 - 55.286 km</p><ul class=\"lst-items\"><li class=\"txt-items\">► 4 X 4</li><li class=\"txt-items\">► Câmera de estacionamento</li><li class=\"txt-items\">► Controle de tração</li><li class=\"txt-items\">► Sensor de estacionamento</li><li class=\"txt-items\">...</li></ul><p class=\"txt-location\">Belo Horizonte - MG</p></div><div class=\"col-md-3 value-card\"><div class=\"value\"><p class=\"txt-value\">R$ 338.000</p></div></div></div><div class=\"well card\"><div class=\"col-md-3 image-card\"><img alt=\"Foto\" height=\"155\" src=\"https://caelum-online-public.s3.amazonaws.com/1381-scraping/01/img-cars/bmw-m2/bmw-m2-2970882__340.jpg\" width=\"220\"/></div><div class=\"col-md-6 body-card\"><p class=\"txt-name inline\">BMW M2</p><p class=\"txt-category badge badge-secondary inline\">USADO</p><p class=\"txt-motor\">Motor 3.0 32v</p><p class=\"txt-description\">Ano 2018 - 83.447 km</p><ul class=\"lst-items\"><li class=\"txt-items\">► Câmera de estacionamento</li><li class=\"txt-items\">► Controle de estabilidade</li><li class=\"txt-items\">► Travas elétricas</li><li class=\"txt-items\">► Freios ABS</li><li class=\"txt-items\">...</li></ul><p class=\"txt-location\">Belo Horizonte - MG</p></div><div class=\"col-md-3 value-card\"><div class=\"value\"><p class=\"txt-value\">R$ 346.000</p></div></div></div><div class=\"well card\"><div class=\"col-md-3 image-card\"><img alt=\"Foto\" height=\"155\" src=\"https://caelum-online-public.s3.amazonaws.com/1381-scraping/01/img-cars/alfa/alfa-1823056__340.jpg\" width=\"220\"/></div><div class=\"col-md-6 body-card\"><p class=\"txt-name inline\">ALFA</p><p class=\"txt-category badge badge-secondary inline\">USADO</p><p class=\"txt-motor\">Motor 1.8 16v</p><p class=\"txt-description\">Ano 2004 - 19.722 km</p><ul class=\"lst-items\"><li class=\"txt-items\">► Central multimídia</li><li class=\"txt-items\">► Bancos de couro</li><li class=\"txt-items\">► Rodas de liga</li><li class=\"txt-items\">► Câmera de estacionamento</li><li class=\"txt-items\">...</li></ul><p class=\"txt-location\">Rio de Janeiro - RJ</p></div><div class=\"col-md-3 value-card\"><div class=\"value\"><p class=\"txt-value\">R$ 480.000</p></div></div></div><div class=\"well card\"><div class=\"col-md-3 image-card\"><img alt=\"Foto\" height=\"155\" src=\"https://caelum-online-public.s3.amazonaws.com/1381-scraping/01/img-cars/puech/puech-4055386__340.jpg\" width=\"220\"/></div><div class=\"col-md-6 body-card\"><p class=\"txt-name inline\">PUECH</p><p class=\"txt-category badge badge-secondary inline\">USADO</p><p class=\"txt-motor\">Motor Diesel V8</p><p class=\"txt-description\">Ano 1992 - 34.335 km</p><ul class=\"lst-items\"><li class=\"txt-items\">► Bancos de couro</li><li class=\"txt-items\">► Freios ABS</li><li class=\"txt-items\">► Rodas de liga</li><li class=\"txt-items\">► Câmbio automático</li><li class=\"txt-items\">...</li></ul><p class=\"txt-location\">São Paulo - SP</p></div><div class=\"col-md-3 value-card\"><div class=\"value\"><p class=\"txt-value\">R$ 133.000</p></div></div></div><div class=\"well card\"><div class=\"col-md-3 image-card\"><img alt=\"Foto\" height=\"155\" src=\"https://caelum-online-public.s3.amazonaws.com/1381-scraping/01/img-cars/lamborghini-murcielago/lamborghini-murcielago-2872974__340.jpg\" width=\"220\"/></div><div class=\"col-md-6 body-card\"><p class=\"txt-name inline\">LAMBORGHINI MURCIELAGO</p><p class=\"txt-category badge badge-secondary inline\">USADO</p><p class=\"txt-motor\">Motor 1.0 8v</p><p class=\"txt-description\">Ano 1991 - 464 km</p><ul class=\"lst-items\"><li class=\"txt-items\">► Central multimídia</li><li class=\"txt-items\">► Teto panorâmico</li><li class=\"txt-items\">► Sensor crepuscular</li><li class=\"txt-items\">► Piloto automático</li><li class=\"txt-items\">...</li></ul><p class=\"txt-location\">Belo Horizonte - MG</p></div><div class=\"col-md-3 value-card\"><div class=\"value\"><p class=\"txt-value\">R$ 175.000</p></div></div></div><div class=\"well card\"><div class=\"col-md-3 image-card\"><img alt=\"Foto\" height=\"155\" src=\"https://caelum-online-public.s3.amazonaws.com/1381-scraping/01/img-cars/aston-martin/aston-martin-2977916__340.jpg\" width=\"220\"/></div><div class=\"col-md-6 body-card\"><p class=\"txt-name inline\">ASTON MARTIN</p><p class=\"txt-category badge badge-secondary inline\">USADO</p><p class=\"txt-opportunity badge badge-danger inline\">OPORTUNIDADE</p><p class=\"txt-motor\">Motor Diesel V6</p><p class=\"txt-description\">Ano 2004 - 50.189 km</p><ul class=\"lst-items\"><li class=\"txt-items\">► Painel digital</li><li class=\"txt-items\">► Controle de tração</li><li class=\"txt-items\">► Teto panorâmico</li><li class=\"txt-items\">► Central multimídia</li><li class=\"txt-items\">...</li></ul><p class=\"txt-location\">Belo Horizonte - MG</p></div><div class=\"col-md-3 value-card\"><div class=\"value\"><p class=\"txt-value\">R$ 239.000</p></div></div></div><div class=\"well card\"><div class=\"col-md-3 image-card\"><img alt=\"Foto\" height=\"155\" src=\"https://caelum-online-public.s3.amazonaws.com/1381-scraping/01/img-cars/tvr/tvr-2943925__340.jpg\" width=\"220\"/></div><div class=\"col-md-6 body-card\"><p class=\"txt-name inline\">TVR</p><p class=\"txt-category badge badge-secondary inline\">USADO</p><p class=\"txt-motor\">Motor 4.0 Turbo</p><p class=\"txt-description\">Ano 2014 - 17.778 km</p><ul class=\"lst-items\"><li class=\"txt-items\">► 4 X 4</li><li class=\"txt-items\">► Teto panorâmico</li><li class=\"txt-items\">► Central multimídia</li><li class=\"txt-items\">► Controle de estabilidade</li><li class=\"txt-items\">...</li></ul><p class=\"txt-location\">Belo Horizonte - MG</p></div><div class=\"col-md-3 value-card\"><div class=\"value\"><p class=\"txt-value\">R$ 115.000</p></div></div></div><div class=\"well card\"><div class=\"col-md-3 image-card\"><img alt=\"Foto\" height=\"155\" src=\"https://caelum-online-public.s3.amazonaws.com/1381-scraping/01/img-cars/excalibur/excalibur-2916730__340.jpg\" width=\"220\"/></div><div class=\"col-md-6 body-card\"><p class=\"txt-name inline\">EXCALIBUR</p><p class=\"txt-category badge badge-secondary inline\">USADO</p><p class=\"txt-motor\">Motor 3.0 32v</p><p class=\"txt-description\">Ano 2009 - 81.251 km</p><ul class=\"lst-items\"><li class=\"txt-items\">► Painel digital</li><li class=\"txt-items\">► Câmbio automático</li><li class=\"txt-items\">► Sensor de chuva</li><li class=\"txt-items\">► Travas elétricas</li><li class=\"txt-items\">...</li></ul><p class=\"txt-location\">Rio de Janeiro - RJ</p></div><div class=\"col-md-3 value-card\"><div class=\"value\"><p class=\"txt-value\">R$ 114.000</p></div></div></div><div class=\"well card\"><div class=\"col-md-3 image-card\"><img alt=\"Foto\" height=\"155\" src=\"https://caelum-online-public.s3.amazonaws.com/1381-scraping/01/img-cars/mclaren/mclaren-2855240__340.jpg\" width=\"220\"/></div><div class=\"col-md-6 body-card\"><p class=\"txt-name inline\">MCLAREN</p><p class=\"txt-category badge badge-secondary inline\">NOVO</p><p class=\"txt-motor\">Motor Diesel</p><p class=\"txt-description\">Ano 2019 - 0 km</p><ul class=\"lst-items\"><li class=\"txt-items\">► Central multimídia</li><li class=\"txt-items\">► Câmera de estacionamento</li><li class=\"txt-items\">► Câmbio automático</li><li class=\"txt-items\">► Ar condicionado</li><li class=\"txt-items\">...</li></ul><p class=\"txt-location\">São Paulo - SP</p></div><div class=\"col-md-3 value-card\"><div class=\"value\"><p class=\"txt-value\">R$ 75.000</p></div></div></div><div class=\"well card\"><div class=\"col-md-3 image-card\"><img alt=\"Foto\" height=\"155\" src=\"https://caelum-online-public.s3.amazonaws.com/1381-scraping/01/img-cars/toyota/toyota-3245397__340.jpg\" width=\"220\"/></div><div class=\"col-md-6 body-card\"><p class=\"txt-name inline\">TOYOTA</p><p class=\"txt-category badge badge-secondary inline\">USADO</p><p class=\"txt-opportunity badge badge-danger inline\">OPORTUNIDADE</p><p class=\"txt-motor\">Motor 4.0 Turbo</p><p class=\"txt-description\">Ano 1999 - 12.536 km</p><ul class=\"lst-items\"><li class=\"txt-items\">► Bancos de couro</li><li class=\"txt-items\">► Freios ABS</li><li class=\"txt-items\">► Piloto automático</li><li class=\"txt-items\">► Controle de estabilidade</li><li class=\"txt-items\">...</li></ul><p class=\"txt-location\">São Paulo - SP</p></div><div class=\"col-md-3 value-card\"><div class=\"value\"><p class=\"txt-value\">R$ 117.000</p></div></div></div></div><div class=\"type-select\">246 veículos encontrados</div><div class=\"container-pagination\" style=\"float: right\"><span class=\"info-pages\">Página 1 de 25</span></div></div></div></div></div><footer><nav class=\"navbar navbar-inverse\"><div class=\"container\" style=\"margin-bottom: 10px;\"><div class=\"navbar\"><a class=\"navbar-brand\" href=\"./index.php\" title=\"Alura Motors\"><img alt=\"Alura\" class=\"d-inline-block align-top\" src=\"img/alura-logo.svg\"/>Motors </a><p style=\"color: #fff; text-align: center; margin-top: 40px;\">Aplicação para treinamento de web scraping</p></div></div></nav></footer></body></html>"
      ]
     },
     "execution_count": 48,
     "metadata": {},
     "output_type": "execute_result"
    }
   ],
   "source": [
    "soup.html #Acessando a tag html"
   ]
  },
  {
   "cell_type": "code",
   "execution_count": 49,
   "metadata": {
    "scrolled": true
   },
   "outputs": [
    {
     "data": {
      "text/plain": [
       "<title>Alura Motors</title>"
      ]
     },
     "execution_count": 49,
     "metadata": {},
     "output_type": "execute_result"
    }
   ],
   "source": [
    "soup.html.head.title #acessando o title, necessário colocar o caminho para encontrar um title especifico"
   ]
  },
  {
   "cell_type": "code",
   "execution_count": 50,
   "metadata": {},
   "outputs": [
    {
     "data": {
      "text/plain": [
       "<title>Alura Motors</title>"
      ]
     },
     "execution_count": 50,
     "metadata": {},
     "output_type": "execute_result"
    }
   ],
   "source": [
    "soup.title #Assim irá acessar o primeiro title encontrado na página"
   ]
  },
  {
   "cell_type": "code",
   "execution_count": 22,
   "metadata": {},
   "outputs": [
    {
     "data": {
      "text/plain": [
       "<h5 class=\"modal-title\" id=\"loadingModal_label\"><span class=\"glyphicon glyphicon-refresh\"></span>Aguarde... </h5>"
      ]
     },
     "execution_count": 22,
     "metadata": {},
     "output_type": "execute_result"
    }
   ],
   "source": [
    "# Caso houvesse mais de um h5 e para acessar um especifico\n",
    "\n",
    "soup.div.div.div.div.h5"
   ]
  },
  {
   "cell_type": "code",
   "execution_count": 23,
   "metadata": {},
   "outputs": [
    {
     "data": {
      "text/plain": [
       "<h5 class=\"modal-title\" id=\"loadingModal_label\"><span class=\"glyphicon glyphicon-refresh\"></span>Aguarde... </h5>"
      ]
     },
     "execution_count": 23,
     "metadata": {},
     "output_type": "execute_result"
    }
   ],
   "source": [
    "soup.h5 #só tem uma h5"
   ]
  },
  {
   "cell_type": "markdown",
   "metadata": {},
   "source": [
    "# 3.4. Acessando o conteúdo das tags"
   ]
  },
  {
   "cell_type": "code",
   "execution_count": 24,
   "metadata": {},
   "outputs": [
    {
     "data": {
      "text/plain": [
       "<title>Alura Motors</title>"
      ]
     },
     "execution_count": 24,
     "metadata": {},
     "output_type": "execute_result"
    }
   ],
   "source": [
    "soup.html.head.title"
   ]
  },
  {
   "cell_type": "code",
   "execution_count": 25,
   "metadata": {},
   "outputs": [
    {
     "data": {
      "text/plain": [
       "<title>Alura Motors</title>"
      ]
     },
     "execution_count": 25,
     "metadata": {},
     "output_type": "execute_result"
    }
   ],
   "source": [
    "soup.title"
   ]
  },
  {
   "cell_type": "code",
   "execution_count": 26,
   "metadata": {},
   "outputs": [
    {
     "data": {
      "text/plain": [
       "'Alura Motors'"
      ]
     },
     "execution_count": 26,
     "metadata": {},
     "output_type": "execute_result"
    }
   ],
   "source": [
    "soup.title.get_text() #Recupera o conteúdo da tag"
   ]
  },
  {
   "cell_type": "code",
   "execution_count": 27,
   "metadata": {},
   "outputs": [
    {
     "data": {
      "text/plain": [
       "<h5 class=\"modal-title\" id=\"loadingModal_label\"><span class=\"glyphicon glyphicon-refresh\"></span>Aguarde... </h5>"
      ]
     },
     "execution_count": 27,
     "metadata": {},
     "output_type": "execute_result"
    }
   ],
   "source": [
    "soup.h5"
   ]
  },
  {
   "cell_type": "code",
   "execution_count": 28,
   "metadata": {},
   "outputs": [
    {
     "data": {
      "text/plain": [
       "'Aguarde... '"
      ]
     },
     "execution_count": 28,
     "metadata": {},
     "output_type": "execute_result"
    }
   ],
   "source": [
    "soup.h5.getText() #O mesmo que get_text()"
   ]
  },
  {
   "cell_type": "code",
   "execution_count": 29,
   "metadata": {},
   "outputs": [
    {
     "data": {
      "text/plain": [
       "'Alura MotorsYou need to enable JavaScript to run this app.Aguarde... Motors Hello WorldAnúnciosVeículos de Luxo Novos e Usados - Todas as Marcas246 veículos encontradosPágina 1 de 25LAMBORGHINI AVENTADORUSADOMotor 1.8 16vAno 1993 - 55.286 km► 4 X 4► Câmera de estacionamento► Controle de tração► Sensor de estacionamento...Belo Horizonte - MGR$ 338.000BMW M2USADOMotor 3.0 32vAno 2018 - 83.447 km► Câmera de estacionamento► Controle de estabilidade► Travas elétricas► Freios ABS...Belo Horizonte - MGR$ 346.000ALFAUSADOMotor 1.8 16vAno 2004 - 19.722 km► Central multimídia► Bancos de couro► Rodas de liga► Câmera de estacionamento...Rio de Janeiro - RJR$ 480.000PUECHUSADOMotor Diesel V8Ano 1992 - 34.335 km► Bancos de couro► Freios ABS► Rodas de liga► Câmbio automático...São Paulo - SPR$ 133.000LAMBORGHINI MURCIELAGOUSADOMotor 1.0 8vAno 1991 - 464 km► Central multimídia► Teto panorâmico► Sensor crepuscular► Piloto automático...Belo Horizonte - MGR$ 175.000ASTON MARTINUSADOOPORTUNIDADEMotor Diesel V6Ano 2004 - 50.189 km► Painel digital► Controle de tração► Teto panorâmico► Central multimídia...Belo Horizonte - MGR$ 239.000TVRUSADOMotor 4.0 TurboAno 2014 - 17.778 km► 4 X 4► Teto panorâmico► Central multimídia► Controle de estabilidade...Belo Horizonte - MGR$ 115.000EXCALIBURUSADOMotor 3.0 32vAno 2009 - 81.251 km► Painel digital► Câmbio automático► Sensor de chuva► Travas elétricas...Rio de Janeiro - RJR$ 114.000MCLARENNOVOMotor DieselAno 2019 - 0 km► Central multimídia► Câmera de estacionamento► Câmbio automático► Ar condicionado...São Paulo - SPR$ 75.000TOYOTAUSADOOPORTUNIDADEMotor 4.0 TurboAno 1999 - 12.536 km► Bancos de couro► Freios ABS► Piloto automático► Controle de estabilidade...São Paulo - SPR$ 117.000246 veículos encontradosPágina 1 de 25Motors Aplicação para treinamento de web scraping'"
      ]
     },
     "execution_count": 29,
     "metadata": {},
     "output_type": "execute_result"
    }
   ],
   "source": [
    "soup.getText()"
   ]
  },
  {
   "cell_type": "markdown",
   "metadata": {},
   "source": [
    "### Conhecemos em nosso treinamento o método get_text(), ou getText(), que nos ajuda a acessar os conteúdos de uma tag HTML. O método get_text() permite a configuração de dois parâmetros, que podem ser úteis no tratamento dos resultados obtidos. O parâmetro separator permite a configuração de uma sequência de caracteres, para servir de separador entre os conteúdos das tags acessadas:"
   ]
  },
  {
   "cell_type": "code",
   "execution_count": 30,
   "metadata": {},
   "outputs": [
    {
     "data": {
      "text/plain": [
       "'Título 1 # Título 1.1 # Conteúdo'"
      ]
     },
     "execution_count": 30,
     "metadata": {},
     "output_type": "execute_result"
    }
   ],
   "source": [
    "soup = BeautifulSoup('<h1>Título 1</h1><h2>Título 1.1</h2><p>Conteúdo</p>')\n",
    "soup.get_text(' # ')"
   ]
  },
  {
   "cell_type": "markdown",
   "metadata": {},
   "source": [
    "### O segundo parâmetro é o strip, que, se configurando como True, remove os espaços em branco do início e do fim de cada bloco de texto retornado.\n",
    "\n",
    "### Visto isso, analise o código abaixo:"
   ]
  },
  {
   "cell_type": "code",
   "execution_count": 31,
   "metadata": {},
   "outputs": [
    {
     "data": {
      "text/plain": [
       "'Título ASub título ATexto de conteúdo ATítulo A.1Sub título A.1Texto de conteúdo A.1'"
      ]
     },
     "execution_count": 31,
     "metadata": {},
     "output_type": "execute_result"
    }
   ],
   "source": [
    "from bs4 import BeautifulSoup\n",
    "\n",
    "html = \"\"\"\n",
    "    <html>\n",
    "        <body>\n",
    "            <div id=\"container-a\">\n",
    "                <h1>Título A</h1>\n",
    "                <h2 class=\"ref-a\">Sub título A</h2>\n",
    "                <p>Texto de conteúdo A</p>\n",
    "                <div id=\"container-a-1\">\n",
    "                    <h1>Título A.1</h1>\n",
    "                    <h2 class=\"ref-a\">Sub título A.1</h2>\n",
    "                    <p>Texto de conteúdo A.1</p>\n",
    "                </div>\n",
    "            </div>\n",
    "        </body>\n",
    "    </html>\n",
    "\"\"\"\n",
    "soup = BeautifulSoup(html, 'html.parser')\n",
    "soup.get_text(strip = True)"
   ]
  },
  {
   "cell_type": "code",
   "execution_count": 51,
   "metadata": {},
   "outputs": [
    {
     "data": {
      "text/plain": [
       "'Alura Motors || You need to enable JavaScript to run this app. || Aguarde... || Motors || Hello World || Anúncios || Veículos de Luxo Novos e Usados - Todas as Marcas || 246 veículos encontrados || Página 1 de 25 || LAMBORGHINI AVENTADOR || USADO || Motor 1.8 16v || Ano 1993 - 55.286 km || ► 4 X 4 || ► Câmera de estacionamento || ► Controle de tração || ► Sensor de estacionamento || ... || Belo Horizonte - MG || R$ 338.000 || BMW M2 || USADO || Motor 3.0 32v || Ano 2018 - 83.447 km || ► Câmera de estacionamento || ► Controle de estabilidade || ► Travas elétricas || ► Freios ABS || ... || Belo Horizonte - MG || R$ 346.000 || ALFA || USADO || Motor 1.8 16v || Ano 2004 - 19.722 km || ► Central multimídia || ► Bancos de couro || ► Rodas de liga || ► Câmera de estacionamento || ... || Rio de Janeiro - RJ || R$ 480.000 || PUECH || USADO || Motor Diesel V8 || Ano 1992 - 34.335 km || ► Bancos de couro || ► Freios ABS || ► Rodas de liga || ► Câmbio automático || ... || São Paulo - SP || R$ 133.000 || LAMBORGHINI MURCIELAGO || USADO || Motor 1.0 8v || Ano 1991 - 464 km || ► Central multimídia || ► Teto panorâmico || ► Sensor crepuscular || ► Piloto automático || ... || Belo Horizonte - MG || R$ 175.000 || ASTON MARTIN || USADO || OPORTUNIDADE || Motor Diesel V6 || Ano 2004 - 50.189 km || ► Painel digital || ► Controle de tração || ► Teto panorâmico || ► Central multimídia || ... || Belo Horizonte - MG || R$ 239.000 || TVR || USADO || Motor 4.0 Turbo || Ano 2014 - 17.778 km || ► 4 X 4 || ► Teto panorâmico || ► Central multimídia || ► Controle de estabilidade || ... || Belo Horizonte - MG || R$ 115.000 || EXCALIBUR || USADO || Motor 3.0 32v || Ano 2009 - 81.251 km || ► Painel digital || ► Câmbio automático || ► Sensor de chuva || ► Travas elétricas || ... || Rio de Janeiro - RJ || R$ 114.000 || MCLAREN || NOVO || Motor Diesel || Ano 2019 - 0 km || ► Central multimídia || ► Câmera de estacionamento || ► Câmbio automático || ► Ar condicionado || ... || São Paulo - SP || R$ 75.000 || TOYOTA || USADO || OPORTUNIDADE || Motor 4.0 Turbo || Ano 1999 - 12.536 km || ► Bancos de couro || ► Freios ABS || ► Piloto automático || ► Controle de estabilidade || ... || São Paulo - SP || R$ 117.000 || 246 veículos encontrados || Página 1 de 25 || Motors || Aplicação para treinamento de web scraping'"
      ]
     },
     "execution_count": 51,
     "metadata": {},
     "output_type": "execute_result"
    }
   ],
   "source": [
    "soup.get_text(' || ', strip=True) \n",
    "#ou\n",
    "soup.get_text(separator=' || ', strip=True)"
   ]
  },
  {
   "cell_type": "markdown",
   "metadata": {},
   "source": [
    "# 3.5. Acessando os atributos de uma tag"
   ]
  },
  {
   "cell_type": "code",
   "execution_count": 52,
   "metadata": {},
   "outputs": [
    {
     "data": {
      "text/plain": [
       "<img alt=\"Alura\" class=\"d-inline-block align-top\" src=\"img/alura-logo.svg\"/>"
      ]
     },
     "execution_count": 52,
     "metadata": {},
     "output_type": "execute_result"
    }
   ],
   "source": [
    "# É possível encontrar alguns tipos de tag pela pagina de desevolvedor do chrome. Ná página, clica no html que seleciona\n",
    "# toda a página e digite ctrl + f, e coloca o termo que deseja.\n",
    "\n",
    "soup.img"
   ]
  },
  {
   "cell_type": "code",
   "execution_count": 53,
   "metadata": {},
   "outputs": [
    {
     "data": {
      "text/plain": [
       "{'src': 'img/alura-logo.svg',\n",
       " 'class': ['d-inline-block', 'align-top'],\n",
       " 'alt': 'Alura'}"
      ]
     },
     "execution_count": 53,
     "metadata": {},
     "output_type": "execute_result"
    }
   ],
   "source": [
    "soup.img.attrs # Retorna dicionário com os atributos das tags\n",
    "\n",
    "# Caso um atributo da tab possua duas informações ele coloca dentro de uma lista"
   ]
  },
  {
   "cell_type": "code",
   "execution_count": 54,
   "metadata": {},
   "outputs": [
    {
     "data": {
      "text/plain": [
       "dict_keys(['src', 'class', 'alt'])"
      ]
     },
     "execution_count": 54,
     "metadata": {},
     "output_type": "execute_result"
    }
   ],
   "source": [
    "soup.img.attrs.keys()"
   ]
  },
  {
   "cell_type": "code",
   "execution_count": 55,
   "metadata": {},
   "outputs": [
    {
     "data": {
      "text/plain": [
       "dict_values(['img/alura-logo.svg', ['d-inline-block', 'align-top'], 'Alura'])"
      ]
     },
     "execution_count": 55,
     "metadata": {},
     "output_type": "execute_result"
    }
   ],
   "source": [
    "soup.img.attrs.values()"
   ]
  },
  {
   "cell_type": "code",
   "execution_count": 56,
   "metadata": {},
   "outputs": [
    {
     "data": {
      "text/plain": [
       "['d-inline-block', 'align-top']"
      ]
     },
     "execution_count": 56,
     "metadata": {},
     "output_type": "execute_result"
    }
   ],
   "source": [
    "soup.img['class']"
   ]
  },
  {
   "cell_type": "code",
   "execution_count": 57,
   "metadata": {},
   "outputs": [
    {
     "data": {
      "text/plain": [
       "'img/alura-logo.svg'"
      ]
     },
     "execution_count": 57,
     "metadata": {},
     "output_type": "execute_result"
    }
   ],
   "source": [
    "soup.img.get('src') #Recupera somente a informação do src"
   ]
  },
  {
   "cell_type": "markdown",
   "metadata": {},
   "source": [
    "---\n",
    "# <font color=green>4. PESQUISANDO COM O BEAUTIFULSOUP"
   ]
  },
  {
   "cell_type": "markdown",
   "metadata": {},
   "source": [
    "# 4.1. Os métodos *find()* e *findAll()*"
   ]
  },
  {
   "cell_type": "markdown",
   "metadata": {},
   "source": [
    "- ### *find(tag, attributes, recursive, text, **kwargs)*\n",
    "\n",
    "- ### *findAll(tag, attributes, recursive, text, limit, **kwargs)*\n",
    "\n",
    "#### https://www.crummy.com/software/BeautifulSoup/bs4/doc/#find\n",
    "#### https://www.crummy.com/software/BeautifulSoup/bs4/doc/#find-all\n",
    "\n",
    "> **Observação:**\n",
    "> - *findAll()* também pode ser utilizado como *find_all()*"
   ]
  },
  {
   "cell_type": "markdown",
   "metadata": {},
   "source": [
    "### Método *find()*"
   ]
  },
  {
   "cell_type": "code",
   "execution_count": 58,
   "metadata": {},
   "outputs": [
    {
     "data": {
      "text/plain": [
       "<img alt=\"Alura\" class=\"d-inline-block align-top\" src=\"img/alura-logo.svg\"/>"
      ]
     },
     "execution_count": 58,
     "metadata": {},
     "output_type": "execute_result"
    }
   ],
   "source": [
    "soup.find('img') #é igual ao soup.img"
   ]
  },
  {
   "cell_type": "code",
   "execution_count": 59,
   "metadata": {},
   "outputs": [
    {
     "data": {
      "text/plain": [
       "<img alt=\"Alura\" class=\"d-inline-block align-top\" src=\"img/alura-logo.svg\"/>"
      ]
     },
     "execution_count": 59,
     "metadata": {},
     "output_type": "execute_result"
    }
   ],
   "source": [
    "soup.img"
   ]
  },
  {
   "cell_type": "markdown",
   "metadata": {},
   "source": [
    "### Método *findAll()*"
   ]
  },
  {
   "cell_type": "code",
   "execution_count": 60,
   "metadata": {},
   "outputs": [
    {
     "data": {
      "text/plain": [
       "[<img alt=\"Alura\" class=\"d-inline-block align-top\" src=\"img/alura-logo.svg\"/>,\n",
       " <img alt=\"Foto\" height=\"155\" src=\"https://caelum-online-public.s3.amazonaws.com/1381-scraping/01/img-cars/lamborghini-aventador/lamborghini-aventador-2932196__340.jpg\" width=\"220\"/>,\n",
       " <img alt=\"Foto\" height=\"155\" src=\"https://caelum-online-public.s3.amazonaws.com/1381-scraping/01/img-cars/bmw-m2/bmw-m2-2970882__340.jpg\" width=\"220\"/>,\n",
       " <img alt=\"Foto\" height=\"155\" src=\"https://caelum-online-public.s3.amazonaws.com/1381-scraping/01/img-cars/alfa/alfa-1823056__340.jpg\" width=\"220\"/>,\n",
       " <img alt=\"Foto\" height=\"155\" src=\"https://caelum-online-public.s3.amazonaws.com/1381-scraping/01/img-cars/puech/puech-4055386__340.jpg\" width=\"220\"/>,\n",
       " <img alt=\"Foto\" height=\"155\" src=\"https://caelum-online-public.s3.amazonaws.com/1381-scraping/01/img-cars/lamborghini-murcielago/lamborghini-murcielago-2872974__340.jpg\" width=\"220\"/>,\n",
       " <img alt=\"Foto\" height=\"155\" src=\"https://caelum-online-public.s3.amazonaws.com/1381-scraping/01/img-cars/aston-martin/aston-martin-2977916__340.jpg\" width=\"220\"/>,\n",
       " <img alt=\"Foto\" height=\"155\" src=\"https://caelum-online-public.s3.amazonaws.com/1381-scraping/01/img-cars/tvr/tvr-2943925__340.jpg\" width=\"220\"/>,\n",
       " <img alt=\"Foto\" height=\"155\" src=\"https://caelum-online-public.s3.amazonaws.com/1381-scraping/01/img-cars/excalibur/excalibur-2916730__340.jpg\" width=\"220\"/>,\n",
       " <img alt=\"Foto\" height=\"155\" src=\"https://caelum-online-public.s3.amazonaws.com/1381-scraping/01/img-cars/mclaren/mclaren-2855240__340.jpg\" width=\"220\"/>,\n",
       " <img alt=\"Foto\" height=\"155\" src=\"https://caelum-online-public.s3.amazonaws.com/1381-scraping/01/img-cars/toyota/toyota-3245397__340.jpg\" width=\"220\"/>,\n",
       " <img alt=\"Alura\" class=\"d-inline-block align-top\" src=\"img/alura-logo.svg\"/>]"
      ]
     },
     "execution_count": 60,
     "metadata": {},
     "output_type": "execute_result"
    }
   ],
   "source": [
    "soup.findAll('img')"
   ]
  },
  {
   "cell_type": "markdown",
   "metadata": {},
   "source": [
    "### Comando equivalente ao método *find()*"
   ]
  },
  {
   "cell_type": "code",
   "execution_count": 62,
   "metadata": {},
   "outputs": [
    {
     "data": {
      "text/plain": [
       "<img alt=\"Alura\" class=\"d-inline-block align-top\" src=\"img/alura-logo.svg\"/>"
      ]
     },
     "execution_count": 62,
     "metadata": {},
     "output_type": "execute_result"
    }
   ],
   "source": [
    "# Usando o parametro do findAll limit, no exemplo trazemos o primeiro elemento encontrado, pois limitamos a 1\n",
    "\n",
    "soup.findAll('img', limit = 1) \n",
    "\n",
    "# Perceba que ele traz em uma lista, para tirar é só executar:\n",
    "\n",
    "soup.findAll('img', limit = 1)[0]"
   ]
  },
  {
   "cell_type": "markdown",
   "metadata": {},
   "source": [
    "### Atalho para o método *findAll()*"
   ]
  },
  {
   "cell_type": "code",
   "execution_count": 63,
   "metadata": {},
   "outputs": [
    {
     "data": {
      "text/plain": [
       "[<img alt=\"Alura\" class=\"d-inline-block align-top\" src=\"img/alura-logo.svg\"/>,\n",
       " <img alt=\"Foto\" height=\"155\" src=\"https://caelum-online-public.s3.amazonaws.com/1381-scraping/01/img-cars/lamborghini-aventador/lamborghini-aventador-2932196__340.jpg\" width=\"220\"/>,\n",
       " <img alt=\"Foto\" height=\"155\" src=\"https://caelum-online-public.s3.amazonaws.com/1381-scraping/01/img-cars/bmw-m2/bmw-m2-2970882__340.jpg\" width=\"220\"/>,\n",
       " <img alt=\"Foto\" height=\"155\" src=\"https://caelum-online-public.s3.amazonaws.com/1381-scraping/01/img-cars/alfa/alfa-1823056__340.jpg\" width=\"220\"/>,\n",
       " <img alt=\"Foto\" height=\"155\" src=\"https://caelum-online-public.s3.amazonaws.com/1381-scraping/01/img-cars/puech/puech-4055386__340.jpg\" width=\"220\"/>,\n",
       " <img alt=\"Foto\" height=\"155\" src=\"https://caelum-online-public.s3.amazonaws.com/1381-scraping/01/img-cars/lamborghini-murcielago/lamborghini-murcielago-2872974__340.jpg\" width=\"220\"/>,\n",
       " <img alt=\"Foto\" height=\"155\" src=\"https://caelum-online-public.s3.amazonaws.com/1381-scraping/01/img-cars/aston-martin/aston-martin-2977916__340.jpg\" width=\"220\"/>,\n",
       " <img alt=\"Foto\" height=\"155\" src=\"https://caelum-online-public.s3.amazonaws.com/1381-scraping/01/img-cars/tvr/tvr-2943925__340.jpg\" width=\"220\"/>,\n",
       " <img alt=\"Foto\" height=\"155\" src=\"https://caelum-online-public.s3.amazonaws.com/1381-scraping/01/img-cars/excalibur/excalibur-2916730__340.jpg\" width=\"220\"/>,\n",
       " <img alt=\"Foto\" height=\"155\" src=\"https://caelum-online-public.s3.amazonaws.com/1381-scraping/01/img-cars/mclaren/mclaren-2855240__340.jpg\" width=\"220\"/>,\n",
       " <img alt=\"Foto\" height=\"155\" src=\"https://caelum-online-public.s3.amazonaws.com/1381-scraping/01/img-cars/toyota/toyota-3245397__340.jpg\" width=\"220\"/>,\n",
       " <img alt=\"Alura\" class=\"d-inline-block align-top\" src=\"img/alura-logo.svg\"/>]"
      ]
     },
     "execution_count": 63,
     "metadata": {},
     "output_type": "execute_result"
    }
   ],
   "source": [
    "soup('img') #traz todas as tags com img"
   ]
  },
  {
   "cell_type": "markdown",
   "metadata": {},
   "source": [
    "### Passando listas de TAGs"
   ]
  },
  {
   "cell_type": "code",
   "execution_count": 64,
   "metadata": {},
   "outputs": [
    {
     "data": {
      "text/plain": [
       "[<h5 class=\"modal-title\" id=\"loadingModal_label\"><span class=\"glyphicon glyphicon-refresh\"></span>Aguarde... </h5>,\n",
       " <h4><b id=\"loadingModal_content\"></b></h4>,\n",
       " <h1 class=\"sub-header\">Veículos de Luxo Novos e Usados - Todas as Marcas</h1>]"
      ]
     },
     "execution_count": 64,
     "metadata": {},
     "output_type": "execute_result"
    }
   ],
   "source": [
    "soup.findAll(['h1', 'h2', 'h3', 'h4', 'h5', 'h6']) #procurando por todas as tags que contem os hs, se não encontrar,\n",
    "#não traz nada"
   ]
  },
  {
   "cell_type": "markdown",
   "metadata": {},
   "source": [
    "### Utilizando o argumento *attributes*"
   ]
  },
  {
   "cell_type": "code",
   "execution_count": 67,
   "metadata": {
    "scrolled": true
   },
   "outputs": [
    {
     "data": {
      "text/plain": [
       "[<p class=\"txt-value\">R$ 338.000</p>,\n",
       " <p class=\"txt-value\">R$ 346.000</p>,\n",
       " <p class=\"txt-value\">R$ 480.000</p>,\n",
       " <p class=\"txt-value\">R$ 133.000</p>,\n",
       " <p class=\"txt-value\">R$ 175.000</p>,\n",
       " <p class=\"txt-value\">R$ 239.000</p>,\n",
       " <p class=\"txt-value\">R$ 115.000</p>,\n",
       " <p class=\"txt-value\">R$ 114.000</p>,\n",
       " <p class=\"txt-value\">R$ 75.000</p>,\n",
       " <p class=\"txt-value\">R$ 117.000</p>]"
      ]
     },
     "execution_count": 67,
     "metadata": {},
     "output_type": "execute_result"
    }
   ],
   "source": [
    "soup.findAll('p', {\"class\":\"txt-value\"})\n",
    "\n",
    "# Nesse caso foi pesquisado nas tags p tudo que continha como chave class e valor txt-values.\n",
    "\n",
    "# Estamos usando o argumento atributes do findAll"
   ]
  },
  {
   "cell_type": "markdown",
   "metadata": {},
   "source": [
    "### Buscando por conteúdo de uma TAG"
   ]
  },
  {
   "cell_type": "code",
   "execution_count": 69,
   "metadata": {},
   "outputs": [
    {
     "data": {
      "text/plain": [
       "[<p class=\"txt-location\">Belo Horizonte - MG</p>,\n",
       " <p class=\"txt-location\">Belo Horizonte - MG</p>,\n",
       " <p class=\"txt-location\">Belo Horizonte - MG</p>,\n",
       " <p class=\"txt-location\">Belo Horizonte - MG</p>,\n",
       " <p class=\"txt-location\">Belo Horizonte - MG</p>]"
      ]
     },
     "execution_count": 69,
     "metadata": {},
     "output_type": "execute_result"
    }
   ],
   "source": [
    "# Usando o atributo text do findAll\n",
    "\n",
    "soup.findAll('p', text = \"Belo Horizonte - MG\")\n",
    "\n",
    "# Procura, nas tags p, todos os termos Belo Horizonte - MG"
   ]
  },
  {
   "cell_type": "markdown",
   "metadata": {},
   "source": [
    "### Utilizando diretamente os atributos"
   ]
  },
  {
   "cell_type": "code",
   "execution_count": 70,
   "metadata": {},
   "outputs": [
    {
     "data": {
      "text/plain": [
       "[<img alt=\"Foto\" height=\"155\" src=\"https://caelum-online-public.s3.amazonaws.com/1381-scraping/01/img-cars/lamborghini-aventador/lamborghini-aventador-2932196__340.jpg\" width=\"220\"/>,\n",
       " <img alt=\"Foto\" height=\"155\" src=\"https://caelum-online-public.s3.amazonaws.com/1381-scraping/01/img-cars/bmw-m2/bmw-m2-2970882__340.jpg\" width=\"220\"/>,\n",
       " <img alt=\"Foto\" height=\"155\" src=\"https://caelum-online-public.s3.amazonaws.com/1381-scraping/01/img-cars/alfa/alfa-1823056__340.jpg\" width=\"220\"/>,\n",
       " <img alt=\"Foto\" height=\"155\" src=\"https://caelum-online-public.s3.amazonaws.com/1381-scraping/01/img-cars/puech/puech-4055386__340.jpg\" width=\"220\"/>,\n",
       " <img alt=\"Foto\" height=\"155\" src=\"https://caelum-online-public.s3.amazonaws.com/1381-scraping/01/img-cars/lamborghini-murcielago/lamborghini-murcielago-2872974__340.jpg\" width=\"220\"/>,\n",
       " <img alt=\"Foto\" height=\"155\" src=\"https://caelum-online-public.s3.amazonaws.com/1381-scraping/01/img-cars/aston-martin/aston-martin-2977916__340.jpg\" width=\"220\"/>,\n",
       " <img alt=\"Foto\" height=\"155\" src=\"https://caelum-online-public.s3.amazonaws.com/1381-scraping/01/img-cars/tvr/tvr-2943925__340.jpg\" width=\"220\"/>,\n",
       " <img alt=\"Foto\" height=\"155\" src=\"https://caelum-online-public.s3.amazonaws.com/1381-scraping/01/img-cars/excalibur/excalibur-2916730__340.jpg\" width=\"220\"/>,\n",
       " <img alt=\"Foto\" height=\"155\" src=\"https://caelum-online-public.s3.amazonaws.com/1381-scraping/01/img-cars/mclaren/mclaren-2855240__340.jpg\" width=\"220\"/>,\n",
       " <img alt=\"Foto\" height=\"155\" src=\"https://caelum-online-public.s3.amazonaws.com/1381-scraping/01/img-cars/toyota/toyota-3245397__340.jpg\" width=\"220\"/>]"
      ]
     },
     "execution_count": 70,
     "metadata": {},
     "output_type": "execute_result"
    }
   ],
   "source": [
    "soup.findAll('img', alt=\"Foto\")\n",
    "\n",
    "#Utilzamos o atributo alt da tag img, direto para encontrar as fotos"
   ]
  },
  {
   "cell_type": "code",
   "execution_count": 73,
   "metadata": {},
   "outputs": [
    {
     "name": "stdout",
     "output_type": "stream",
     "text": [
      "https://caelum-online-public.s3.amazonaws.com/1381-scraping/01/img-cars/lamborghini-aventador/lamborghini-aventador-2932196__340.jpg\n",
      "https://caelum-online-public.s3.amazonaws.com/1381-scraping/01/img-cars/bmw-m2/bmw-m2-2970882__340.jpg\n",
      "https://caelum-online-public.s3.amazonaws.com/1381-scraping/01/img-cars/alfa/alfa-1823056__340.jpg\n",
      "https://caelum-online-public.s3.amazonaws.com/1381-scraping/01/img-cars/puech/puech-4055386__340.jpg\n",
      "https://caelum-online-public.s3.amazonaws.com/1381-scraping/01/img-cars/lamborghini-murcielago/lamborghini-murcielago-2872974__340.jpg\n",
      "https://caelum-online-public.s3.amazonaws.com/1381-scraping/01/img-cars/aston-martin/aston-martin-2977916__340.jpg\n",
      "https://caelum-online-public.s3.amazonaws.com/1381-scraping/01/img-cars/tvr/tvr-2943925__340.jpg\n",
      "https://caelum-online-public.s3.amazonaws.com/1381-scraping/01/img-cars/excalibur/excalibur-2916730__340.jpg\n",
      "https://caelum-online-public.s3.amazonaws.com/1381-scraping/01/img-cars/mclaren/mclaren-2855240__340.jpg\n",
      "https://caelum-online-public.s3.amazonaws.com/1381-scraping/01/img-cars/toyota/toyota-3245397__340.jpg\n"
     ]
    }
   ],
   "source": [
    "for i in soup.findAll('img', alt=\"Foto\"):\n",
    "    print(i.get('src'))\n",
    "    \n",
    "# criamos um for para pegar todas as fotos usando o atributo da tag.\n",
    "# imprimimos cada item e usamos o get para pegar somente o conteudo de src"
   ]
  },
  {
   "cell_type": "markdown",
   "metadata": {},
   "source": [
    "### Cuidado com o atributo \"class\""
   ]
  },
  {
   "cell_type": "code",
   "execution_count": 76,
   "metadata": {},
   "outputs": [
    {
     "data": {
      "text/plain": [
       "[<p class=\"txt-value\">R$ 338.000</p>,\n",
       " <p class=\"txt-value\">R$ 346.000</p>,\n",
       " <p class=\"txt-value\">R$ 480.000</p>,\n",
       " <p class=\"txt-value\">R$ 133.000</p>,\n",
       " <p class=\"txt-value\">R$ 175.000</p>,\n",
       " <p class=\"txt-value\">R$ 239.000</p>,\n",
       " <p class=\"txt-value\">R$ 115.000</p>,\n",
       " <p class=\"txt-value\">R$ 114.000</p>,\n",
       " <p class=\"txt-value\">R$ 75.000</p>,\n",
       " <p class=\"txt-value\">R$ 117.000</p>]"
      ]
     },
     "execution_count": 76,
     "metadata": {},
     "output_type": "execute_result"
    }
   ],
   "source": [
    "#soup.findAll('p', class=\"txt-value\")\n",
    "\n",
    "#Retorna erro pois  class é uma palavra reservada do python\n",
    "#Nesse caso para resolver o problema é só colocar um undescore na frente do termo\n",
    "\n",
    "soup.findAll('p', class_=\"txt-value\")"
   ]
  },
  {
   "cell_type": "markdown",
   "metadata": {},
   "source": [
    "### Obtendo todo o conteúdo de texto de uma página"
   ]
  },
  {
   "cell_type": "code",
   "execution_count": null,
   "metadata": {},
   "outputs": [],
   "source": [
    "soup.findAll(text = True)\n",
    "\n",
    "#Retorna todos os textos dentro do html"
   ]
  },
  {
   "cell_type": "markdown",
   "metadata": {},
   "source": [
    "# 4.2. Outros métodos de pesquisa"
   ]
  },
  {
   "cell_type": "markdown",
   "metadata": {},
   "source": [
    "- ### *findParent(tag, attributes, text, **kwargs)*\n",
    "\n",
    "- ### *findParents(tag, attributes, text, limit, **kwargs)*\n",
    "\n",
    "#### https://www.crummy.com/software/BeautifulSoup/bs4/doc/#find-parents-and-find-parent\n",
    "\n",
    "> **Observação:**\n",
    "> - *findParent()* e *findParents()* também podem ser utilizados como *find_parent()* e *find_parents()*, respectivamente.\n",
    "---\n",
    "- ### *findNextSibling(tag, attributes, text, **kwargs)*\n",
    "\n",
    "- ### *findNextSiblings(tag, attributes, text, limit, **kwargs)*\n",
    "\n",
    "- ### *findPreviousSibling(tag, attributes, text, **kwargs)*\n",
    "\n",
    "- ### *findPreviousSiblings(tag, attributes, text, limit, **kwargs)*\n",
    "\n",
    "#### https://www.crummy.com/software/BeautifulSoup/bs4/doc/#find-next-siblings-and-find-next-sibling\n",
    "#### https://www.crummy.com/software/BeautifulSoup/bs4/doc/#find-previous-siblings-and-find-previous-sibling\n",
    "\n",
    "> **Observação:**\n",
    "> - *findNextSibling()*, *findNextSiblings()*, *findPreviousSibling()* e *findPreviousSiblings()* também podem ser utilizados como *find_next_sibling()*, *find_next_siblings()*, *find_previous_sibling()* e *find_previous_siblings()*, respectivamente.\n",
    "---\n",
    "- ### *findNext(tag, attributes, text, **kwargs)*\n",
    "\n",
    "- ### *findAllNext(tag, attributes, text, limit, **kwargs)*\n",
    "\n",
    "- ### *findPrevious(tag, attributes, text, **kwargs)*\n",
    "\n",
    "- ### *findAllPrevious(tag, attributes, text, limit, **kwargs)*\n",
    "\n",
    "#### https://www.crummy.com/software/BeautifulSoup/bs4/doc/#find-all-next-and-find-next\n",
    "#### https://www.crummy.com/software/BeautifulSoup/bs4/doc/#find-all-previous-and-find-previous\n",
    "\n",
    "> **Observação:**\n",
    "> - *findNext()*, *findAllNext()*, *findPrevious* e *findAllPrevious* também podem ser utilizados como *find_next()*, *find_all_next()*, *find_previous()* e *find_all_previous()*, respectivamente."
   ]
  },
  {
   "cell_type": "markdown",
   "metadata": {},
   "source": [
    "## HTML de exemplo para ilustrar a utilização dos métodos de pesquisa do BeautifulSoup"
   ]
  },
  {
   "cell_type": "markdown",
   "metadata": {},
   "source": [
    "<img src=\"https://caelum-online-public.s3.amazonaws.com/1381-scraping/01/BeautifulSoup-method.png\" width=80%>"
   ]
  },
  {
   "cell_type": "markdown",
   "metadata": {},
   "source": [
    "---\n",
    "## Resultado"
   ]
  },
  {
   "cell_type": "markdown",
   "metadata": {},
   "source": [
    "<html>\n",
    "    <body>\n",
    "        <div id=“container-a”>\n",
    "            <h1>Título A</h1>\n",
    "            <h2 class=\"ref-a\">Sub título A</h2>\n",
    "            <p>Texto de conteúdo A</p>\n",
    "        </div>\n",
    "        <div id=“container-b”>\n",
    "            <h1>Título B</h1>\n",
    "            <h2 class=\"ref-b\">Sub título B</h2>\n",
    "            <p>Texto de conteúdo B</p>\n",
    "        </div>\n",
    "    </body>\n",
    "</html>"
   ]
  },
  {
   "cell_type": "code",
   "execution_count": 78,
   "metadata": {},
   "outputs": [],
   "source": [
    "html_teste = \"\"\"\n",
    "    <html>\n",
    "        <body>\n",
    "            <div id=\"container-a\">\n",
    "                <h1>Título A</h1>\n",
    "                <h2 class=\"ref-a\">Sub título A</h2>\n",
    "                <p>Texto de conteúdo A</p>\n",
    "            </div>\n",
    "            <div id=\"container-b\">\n",
    "                <h1>Título B</h1>\n",
    "                <h2 class=\"ref-b\">Sub título B</h2>\n",
    "                <p>Texto de conteúdo B</p>\n",
    "            </div>\n",
    "        </body>\n",
    "    </html>\n",
    "\"\"\""
   ]
  },
  {
   "cell_type": "markdown",
   "metadata": {},
   "source": [
    "### Tratamentos para a string HTML"
   ]
  },
  {
   "cell_type": "code",
   "execution_count": 79,
   "metadata": {},
   "outputs": [
    {
     "data": {
      "text/plain": [
       "'\\n    <html>\\n        <body>\\n            <div id=\"container-a\">\\n                <h1>Título A</h1>\\n                <h2 class=\"ref-a\">Sub título A</h2>\\n                <p>Texto de conteúdo A</p>\\n            </div>\\n            <div id=\"container-b\">\\n                <h1>Título B</h1>\\n                <h2 class=\"ref-b\">Sub título B</h2>\\n                <p>Texto de conteúdo B</p>\\n            </div>\\n        </body>\\n    </html>\\n'"
      ]
     },
     "execution_count": 79,
     "metadata": {},
     "output_type": "execute_result"
    }
   ],
   "source": [
    "html_teste"
   ]
  },
  {
   "cell_type": "code",
   "execution_count": 87,
   "metadata": {},
   "outputs": [
    {
     "data": {
      "text/plain": [
       "'<html><body><div id=\"container-a\"><h1>Título A</h1><h2 class=\"ref-a\">Sub título A</h2><p>Texto de conteúdo A</p></div><div id=\"container-b\"><h1>Título B</h1><h2 class=\"ref-b\">Sub título B</h2><p>Texto de conteúdo B</p></div></body></html>'"
      ]
     },
     "execution_count": 87,
     "metadata": {},
     "output_type": "execute_result"
    }
   ],
   "source": [
    "html_teste = trata_html(html_teste)\n",
    "html_teste"
   ]
  },
  {
   "cell_type": "markdown",
   "metadata": {},
   "source": [
    "### Criando o objeto BeautifulSoup"
   ]
  },
  {
   "cell_type": "code",
   "execution_count": 88,
   "metadata": {
    "scrolled": true
   },
   "outputs": [
    {
     "data": {
      "text/plain": [
       "<html><body><div id=\"container-a\"><h1>Título A</h1><h2 class=\"ref-a\">Sub título A</h2><p>Texto de conteúdo A</p></div><div id=\"container-b\"><h1>Título B</h1><h2 class=\"ref-b\">Sub título B</h2><p>Texto de conteúdo B</p></div></body></html>"
      ]
     },
     "execution_count": 88,
     "metadata": {},
     "output_type": "execute_result"
    }
   ],
   "source": [
    "soup = BeautifulSoup(html_teste, 'html.parser')\n",
    "soup"
   ]
  },
  {
   "cell_type": "markdown",
   "metadata": {},
   "source": [
    "### Parents"
   ]
  },
  {
   "cell_type": "code",
   "execution_count": 89,
   "metadata": {},
   "outputs": [
    {
     "data": {
      "text/plain": [
       "<h2 class=\"ref-a\">Sub título A</h2>"
      ]
     },
     "execution_count": 89,
     "metadata": {},
     "output_type": "execute_result"
    }
   ],
   "source": [
    "soup.find('h2')"
   ]
  },
  {
   "cell_type": "code",
   "execution_count": 91,
   "metadata": {},
   "outputs": [
    {
     "data": {
      "text/plain": [
       "<div id=\"container-a\"><h1>Título A</h1><h2 class=\"ref-a\">Sub título A</h2><p>Texto de conteúdo A</p></div>"
      ]
     },
     "execution_count": 91,
     "metadata": {},
     "output_type": "execute_result"
    }
   ],
   "source": [
    "#Pegando o parent(pai) de h2, e que seja div\n",
    "\n",
    "soup.find('h2').find_parent('div')\n",
    "\n",
    "#Ele vai pegar a div anterior e todo o conteúdo que estiver dentro dela, da div"
   ]
  },
  {
   "cell_type": "code",
   "execution_count": 94,
   "metadata": {},
   "outputs": [
    {
     "data": {
      "text/plain": [
       "[<div id=\"container-a\"><h1>Título A</h1><h2 class=\"ref-a\">Sub título A</h2><p>Texto de conteúdo A</p></div>,\n",
       " <body><div id=\"container-a\"><h1>Título A</h1><h2 class=\"ref-a\">Sub título A</h2><p>Texto de conteúdo A</p></div><div id=\"container-b\"><h1>Título B</h1><h2 class=\"ref-b\">Sub título B</h2><p>Texto de conteúdo B</p></div></body>,\n",
       " <html><body><div id=\"container-a\"><h1>Título A</h1><h2 class=\"ref-a\">Sub título A</h2><p>Texto de conteúdo A</p></div><div id=\"container-b\"><h1>Título B</h1><h2 class=\"ref-b\">Sub título B</h2><p>Texto de conteúdo B</p></div></body></html>,\n",
       " <html><body><div id=\"container-a\"><h1>Título A</h1><h2 class=\"ref-a\">Sub título A</h2><p>Texto de conteúdo A</p></div><div id=\"container-b\"><h1>Título B</h1><h2 class=\"ref-b\">Sub título B</h2><p>Texto de conteúdo B</p></div></body></html>]"
      ]
     },
     "execution_count": 94,
     "metadata": {},
     "output_type": "execute_result"
    }
   ],
   "source": [
    "soup.find('h2').find_parents()"
   ]
  },
  {
   "cell_type": "code",
   "execution_count": 95,
   "metadata": {},
   "outputs": [
    {
     "ename": "AttributeError",
     "evalue": "ResultSet object has no attribute 'find_parent'. You're probably treating a list of elements like a single element. Did you call find_all() when you meant to call find()?",
     "output_type": "error",
     "traceback": [
      "\u001b[0;31m---------------------------------------------------------------------------\u001b[0m",
      "\u001b[0;31mAttributeError\u001b[0m                            Traceback (most recent call last)",
      "Input \u001b[0;32mIn [95]\u001b[0m, in \u001b[0;36m<cell line: 1>\u001b[0;34m()\u001b[0m\n\u001b[0;32m----> 1\u001b[0m \u001b[43msoup\u001b[49m\u001b[38;5;241;43m.\u001b[39;49m\u001b[43mfindAll\u001b[49m\u001b[43m(\u001b[49m\u001b[38;5;124;43m'\u001b[39;49m\u001b[38;5;124;43mh2\u001b[39;49m\u001b[38;5;124;43m'\u001b[39;49m\u001b[43m)\u001b[49m\u001b[38;5;241;43m.\u001b[39;49m\u001b[43mfind_parent\u001b[49m(\u001b[38;5;124m'\u001b[39m\u001b[38;5;124mdiv\u001b[39m\u001b[38;5;124m'\u001b[39m)\n",
      "File \u001b[0;32m/usr/local/lib/python3.10/dist-packages/bs4/element.py:2289\u001b[0m, in \u001b[0;36mResultSet.__getattr__\u001b[0;34m(self, key)\u001b[0m\n\u001b[1;32m   2287\u001b[0m \u001b[38;5;28;01mdef\u001b[39;00m \u001b[38;5;21m__getattr__\u001b[39m(\u001b[38;5;28mself\u001b[39m, key):\n\u001b[1;32m   2288\u001b[0m     \u001b[38;5;124;03m\"\"\"Raise a helpful exception to explain a common code fix.\"\"\"\u001b[39;00m\n\u001b[0;32m-> 2289\u001b[0m     \u001b[38;5;28;01mraise\u001b[39;00m \u001b[38;5;167;01mAttributeError\u001b[39;00m(\n\u001b[1;32m   2290\u001b[0m         \u001b[38;5;124m\"\u001b[39m\u001b[38;5;124mResultSet object has no attribute \u001b[39m\u001b[38;5;124m'\u001b[39m\u001b[38;5;132;01m%s\u001b[39;00m\u001b[38;5;124m'\u001b[39m\u001b[38;5;124m. You\u001b[39m\u001b[38;5;124m'\u001b[39m\u001b[38;5;124mre probably treating a list of elements like a single element. Did you call find_all() when you meant to call find()?\u001b[39m\u001b[38;5;124m\"\u001b[39m \u001b[38;5;241m%\u001b[39m key\n\u001b[1;32m   2291\u001b[0m     )\n",
      "\u001b[0;31mAttributeError\u001b[0m: ResultSet object has no attribute 'find_parent'. You're probably treating a list of elements like a single element. Did you call find_all() when you meant to call find()?"
     ]
    }
   ],
   "source": [
    "soup.findAll('h2').find_parent('div')\n",
    "\n",
    "# Retorna erro, para conseguir fazer isso é conforme o que está abaixo"
   ]
  },
  {
   "cell_type": "code",
   "execution_count": 96,
   "metadata": {},
   "outputs": [
    {
     "name": "stdout",
     "output_type": "stream",
     "text": [
      "<div id=\"container-a\"><h1>Título A</h1><h2 class=\"ref-a\">Sub título A</h2><p>Texto de conteúdo A</p></div>\n",
      "<div id=\"container-b\"><h1>Título B</h1><h2 class=\"ref-b\">Sub título B</h2><p>Texto de conteúdo B</p></div>\n"
     ]
    }
   ],
   "source": [
    "for item in soup.findAll('h2'):\n",
    "    print(item.find_parent('div'))"
   ]
  },
  {
   "cell_type": "markdown",
   "metadata": {},
   "source": [
    "## Siblings"
   ]
  },
  {
   "cell_type": "code",
   "execution_count": 98,
   "metadata": {},
   "outputs": [
    {
     "data": {
      "text/plain": [
       "<p>Texto de conteúdo A</p>"
      ]
     },
     "execution_count": 98,
     "metadata": {},
     "output_type": "execute_result"
    }
   ],
   "source": [
    "# são os irmão, aquele que está na mesma linha, mesma hierarquia\n",
    "\n",
    "soup.find('h2').findNextSibling()\n",
    "\n",
    "# Retorna o que está depois de h2 e que esteja na mesma hierarquia"
   ]
  },
  {
   "cell_type": "code",
   "execution_count": 100,
   "metadata": {},
   "outputs": [
    {
     "data": {
      "text/plain": [
       "<h1>Título A</h1>"
      ]
     },
     "execution_count": 100,
     "metadata": {},
     "output_type": "execute_result"
    }
   ],
   "source": [
    "soup.find('h2').findPreviousSibling()\n",
    "\n",
    "# Retorna o que está antes de h2 e que esteja na mesma hierarquia"
   ]
  },
  {
   "cell_type": "code",
   "execution_count": 102,
   "metadata": {},
   "outputs": [
    {
     "data": {
      "text/plain": [
       "[<h2 class=\"ref-a\">Sub título A</h2>, <h1>Título A</h1>]"
      ]
     },
     "execution_count": 102,
     "metadata": {},
     "output_type": "execute_result"
    }
   ],
   "source": [
    "#Trazer todos os irmão que estão acima de p, perceba que só colocamos o s no Siblings\n",
    "\n",
    "soup.find('p').findPreviousSiblings()"
   ]
  },
  {
   "cell_type": "markdown",
   "metadata": {},
   "source": [
    "## Next e Previous"
   ]
  },
  {
   "cell_type": "code",
   "execution_count": 103,
   "metadata": {},
   "outputs": [
    {
     "data": {
      "text/plain": [
       "<p>Texto de conteúdo A</p>"
      ]
     },
     "execution_count": 103,
     "metadata": {},
     "output_type": "execute_result"
    }
   ],
   "source": [
    "soup.find('h2').findNext()"
   ]
  },
  {
   "cell_type": "code",
   "execution_count": 104,
   "metadata": {},
   "outputs": [
    {
     "data": {
      "text/plain": [
       "<h1>Título A</h1>"
      ]
     },
     "execution_count": 104,
     "metadata": {},
     "output_type": "execute_result"
    }
   ],
   "source": [
    "soup.find('h2').findPrevious()"
   ]
  },
  {
   "cell_type": "code",
   "execution_count": 105,
   "metadata": {},
   "outputs": [
    {
     "data": {
      "text/plain": [
       "[<p>Texto de conteúdo A</p>,\n",
       " <div id=\"container-b\"><h1>Título B</h1><h2 class=\"ref-b\">Sub título B</h2><p>Texto de conteúdo B</p></div>,\n",
       " <h1>Título B</h1>,\n",
       " <h2 class=\"ref-b\">Sub título B</h2>,\n",
       " <p>Texto de conteúdo B</p>]"
      ]
     },
     "execution_count": 105,
     "metadata": {},
     "output_type": "execute_result"
    }
   ],
   "source": [
    "soup.find('h2').findAllNext()"
   ]
  },
  {
   "cell_type": "markdown",
   "metadata": {},
   "source": [
    "# <font color=green>5. WEB SCRAPING DO SITE ALURA MOTORS - OBTENDO OS DADOS DE UM ANÚNCIO"
   ]
  },
  {
   "cell_type": "markdown",
   "metadata": {},
   "source": [
    "# 5.1. Identificando e selecionando os dados no HTML"
   ]
  },
  {
   "cell_type": "markdown",
   "metadata": {},
   "source": [
    "### Obtendo o HTML e criando o objeto BeautifulSoup"
   ]
  },
  {
   "cell_type": "code",
   "execution_count": null,
   "metadata": {},
   "outputs": [],
   "source": [
    "response = urlopen('https://alura-site-scraping.herokuapp.com/index.php')\n",
    "html = response.read().decode('utf-8')\n",
    "soup = BeautifulSoup(html, 'html.parser')\n",
    "soup"
   ]
  },
  {
   "cell_type": "markdown",
   "metadata": {},
   "source": [
    "### Criando variávels para armazenar informações"
   ]
  },
  {
   "cell_type": "code",
   "execution_count": 107,
   "metadata": {},
   "outputs": [],
   "source": [
    "cards = []\n",
    "card = {}"
   ]
  },
  {
   "cell_type": "markdown",
   "metadata": {},
   "source": [
    "### Obtendo os dados do primeiro CARD"
   ]
  },
  {
   "cell_type": "code",
   "execution_count": 108,
   "metadata": {},
   "outputs": [
    {
     "data": {
      "text/plain": [
       "<div class=\"well card\">\n",
       "<div class=\"col-md-3 image-card\">\n",
       "<img alt=\"Foto\" height=\"155\" src=\"https://caelum-online-public.s3.amazonaws.com/1381-scraping/01/img-cars/lamborghini-aventador/lamborghini-aventador-2932196__340.jpg\" width=\"220\"/>\n",
       "</div>\n",
       "<div class=\"col-md-6 body-card\">\n",
       "<p class=\"txt-name inline\">LAMBORGHINI AVENTADOR</p>\n",
       "<p class=\"txt-category badge badge-secondary inline\">USADO</p>\n",
       "<p class=\"txt-motor\">Motor 1.8 16v</p>\n",
       "<p class=\"txt-description\">Ano 1993 - 55.286 km</p>\n",
       "<ul class=\"lst-items\">\n",
       "<li class=\"txt-items\">► 4 X 4</li>\n",
       "<li class=\"txt-items\">► Câmera de estacionamento</li>\n",
       "<li class=\"txt-items\">► Controle de tração</li>\n",
       "<li class=\"txt-items\">► Sensor de estacionamento</li>\n",
       "<li class=\"txt-items\">...</li>\n",
       "</ul>\n",
       "<p class=\"txt-location\">Belo Horizonte - MG</p>\n",
       "</div>\n",
       "<div class=\"col-md-3 value-card\">\n",
       "<div class=\"value\">\n",
       "<p class=\"txt-value\">R$ 338.000</p>\n",
       "</div>\n",
       "</div>\n",
       "</div>"
      ]
     },
     "execution_count": 108,
     "metadata": {},
     "output_type": "execute_result"
    }
   ],
   "source": [
    "anuncio = soup.find('div', {'class': 'well card'})\n",
    "anuncio"
   ]
  },
  {
   "cell_type": "markdown",
   "metadata": {},
   "source": [
    "# 5.2. Obtendo o VALOR do veículo anunciado"
   ]
  },
  {
   "cell_type": "code",
   "execution_count": 109,
   "metadata": {},
   "outputs": [
    {
     "data": {
      "text/plain": [
       "<div class=\"col-md-3 value-card\">\n",
       "<div class=\"value\">\n",
       "<p class=\"txt-value\">R$ 338.000</p>\n",
       "</div>\n",
       "</div>"
      ]
     },
     "execution_count": 109,
     "metadata": {},
     "output_type": "execute_result"
    }
   ],
   "source": [
    "anuncio.find('div', {'class': 'value-card'})"
   ]
  },
  {
   "cell_type": "code",
   "execution_count": 110,
   "metadata": {},
   "outputs": [
    {
     "data": {
      "text/plain": [
       "'R$ 338.000'"
      ]
     },
     "execution_count": 110,
     "metadata": {},
     "output_type": "execute_result"
    }
   ],
   "source": [
    "anuncio.find('p', {'class': 'txt-value'}).getText()"
   ]
  },
  {
   "cell_type": "code",
   "execution_count": 111,
   "metadata": {},
   "outputs": [],
   "source": [
    "card['value'] = anuncio.find('p', {'class': 'txt-value'}).getText()"
   ]
  },
  {
   "cell_type": "code",
   "execution_count": 114,
   "metadata": {},
   "outputs": [
    {
     "data": {
      "text/plain": [
       "{'value': 'R$ 338.000'}"
      ]
     },
     "execution_count": 114,
     "metadata": {},
     "output_type": "execute_result"
    }
   ],
   "source": [
    "card"
   ]
  },
  {
   "cell_type": "code",
   "execution_count": null,
   "metadata": {},
   "outputs": [],
   "source": []
  },
  {
   "cell_type": "markdown",
   "metadata": {},
   "source": [
    "### <font color=red>Resumo"
   ]
  },
  {
   "cell_type": "code",
   "execution_count": 113,
   "metadata": {},
   "outputs": [],
   "source": [
    "# Valor\n",
    "card['value'] = anuncio.find('p', {'class': 'txt-value'}).getText()"
   ]
  },
  {
   "cell_type": "markdown",
   "metadata": {},
   "source": [
    "# 5.3. Obtendo as INFORMAÇÕES sobre o veículo anunciado"
   ]
  },
  {
   "cell_type": "code",
   "execution_count": 116,
   "metadata": {},
   "outputs": [
    {
     "data": {
      "text/plain": [
       "[<p class=\"txt-name inline\">LAMBORGHINI AVENTADOR</p>,\n",
       " <p class=\"txt-category badge badge-secondary inline\">USADO</p>,\n",
       " <p class=\"txt-motor\">Motor 1.8 16v</p>,\n",
       " <p class=\"txt-description\">Ano 1993 - 55.286 km</p>,\n",
       " <p class=\"txt-location\">Belo Horizonte - MG</p>]"
      ]
     },
     "execution_count": 116,
     "metadata": {},
     "output_type": "execute_result"
    }
   ],
   "source": [
    "anuncio.find('div', {'class':'body-card'}).findAll('p')"
   ]
  },
  {
   "cell_type": "code",
   "execution_count": 117,
   "metadata": {},
   "outputs": [],
   "source": [
    "infos = anuncio.find('div', {'class':'body-card'}).findAll('p')"
   ]
  },
  {
   "cell_type": "code",
   "execution_count": 120,
   "metadata": {},
   "outputs": [
    {
     "name": "stdout",
     "output_type": "stream",
     "text": [
      "['txt-name', 'inline']  -  LAMBORGHINI AVENTADOR\n",
      "['txt-category', 'badge', 'badge-secondary', 'inline']  -  USADO\n",
      "['txt-motor']  -  Motor 1.8 16v\n",
      "['txt-description']  -  Ano 1993 - 55.286 km\n",
      "['txt-location']  -  Belo Horizonte - MG\n"
     ]
    }
   ],
   "source": [
    "for info in infos:\n",
    "    print(info.get('class'), ' - ', info.get_text())\n",
    "    \n",
    "#Separa a informação do argumento da tag com a informação da tag"
   ]
  },
  {
   "cell_type": "code",
   "execution_count": 121,
   "metadata": {},
   "outputs": [
    {
     "name": "stdout",
     "output_type": "stream",
     "text": [
      "txt-name  -  LAMBORGHINI AVENTADOR\n",
      "txt-category  -  USADO\n",
      "txt-motor  -  Motor 1.8 16v\n",
      "txt-description  -  Ano 1993 - 55.286 km\n",
      "txt-location  -  Belo Horizonte - MG\n"
     ]
    }
   ],
   "source": [
    "for info in infos:\n",
    "    print(info.get('class')[0], ' - ', info.get_text())\n",
    "    \n",
    "#Pega somente o primeiro item do argumento da tag"
   ]
  },
  {
   "cell_type": "code",
   "execution_count": 122,
   "metadata": {},
   "outputs": [
    {
     "name": "stdout",
     "output_type": "stream",
     "text": [
      "['txt', 'name']  -  LAMBORGHINI AVENTADOR\n",
      "['txt', 'category']  -  USADO\n",
      "['txt', 'motor']  -  Motor 1.8 16v\n",
      "['txt', 'description']  -  Ano 1993 - 55.286 km\n",
      "['txt', 'location']  -  Belo Horizonte - MG\n"
     ]
    }
   ],
   "source": [
    "for info in infos:\n",
    "    print(info.get('class')[0].split('-'), ' - ', info.get_text())\n",
    "    \n",
    "#Separa o argumento da tag"
   ]
  },
  {
   "cell_type": "code",
   "execution_count": 123,
   "metadata": {},
   "outputs": [
    {
     "name": "stdout",
     "output_type": "stream",
     "text": [
      "name  -  LAMBORGHINI AVENTADOR\n",
      "category  -  USADO\n",
      "motor  -  Motor 1.8 16v\n",
      "description  -  Ano 1993 - 55.286 km\n",
      "location  -  Belo Horizonte - MG\n"
     ]
    }
   ],
   "source": [
    "for info in infos:\n",
    "    print(info.get('class')[0].split('-')[-1], ' - ', info.get_text())\n",
    "    \n",
    "#Após separar o argumento da tag, pega o último item"
   ]
  },
  {
   "cell_type": "code",
   "execution_count": 124,
   "metadata": {},
   "outputs": [],
   "source": [
    "for info in infos:\n",
    "    card[info.get('class')[0].split('-')[-1]] = info.get_text()\n",
    "    \n",
    "#Insere no dicionário card"
   ]
  },
  {
   "cell_type": "code",
   "execution_count": 127,
   "metadata": {},
   "outputs": [
    {
     "data": {
      "text/plain": [
       "{'value': 'R$ 338.000',\n",
       " 'name': 'LAMBORGHINI AVENTADOR',\n",
       " 'category': 'USADO',\n",
       " 'motor': 'Motor 1.8 16v',\n",
       " 'description': 'Ano 1993 - 55.286 km',\n",
       " 'location': 'Belo Horizonte - MG'}"
      ]
     },
     "execution_count": 127,
     "metadata": {},
     "output_type": "execute_result"
    }
   ],
   "source": [
    "card"
   ]
  },
  {
   "cell_type": "markdown",
   "metadata": {},
   "source": [
    "### <font color=red>Resumo"
   ]
  },
  {
   "cell_type": "code",
   "execution_count": 126,
   "metadata": {},
   "outputs": [],
   "source": [
    "# Informações\n",
    "infos = anuncio.find('div', {'class':'body-card'}).findAll('p')\n",
    "\n",
    "for info in infos:\n",
    "    card[info.get('class')[0].split('-')[-1]] = info.get_text()"
   ]
  },
  {
   "cell_type": "markdown",
   "metadata": {},
   "source": [
    "# 5.4. Obtendo os ACESSÓRIOS do veículo anunciado"
   ]
  },
  {
   "cell_type": "code",
   "execution_count": 130,
   "metadata": {},
   "outputs": [
    {
     "data": {
      "text/plain": [
       "[<li class=\"txt-items\">► 4 X 4</li>,\n",
       " <li class=\"txt-items\">► Câmera de estacionamento</li>,\n",
       " <li class=\"txt-items\">► Controle de tração</li>,\n",
       " <li class=\"txt-items\">► Sensor de estacionamento</li>,\n",
       " <li class=\"txt-items\">...</li>]"
      ]
     },
     "execution_count": 130,
     "metadata": {},
     "output_type": "execute_result"
    }
   ],
   "source": [
    "anuncio.find('div', {'class':'body-card'}).find('ul').findAll('li')"
   ]
  },
  {
   "cell_type": "code",
   "execution_count": 133,
   "metadata": {},
   "outputs": [
    {
     "data": {
      "text/plain": [
       "[<li class=\"txt-items\">► 4 X 4</li>,\n",
       " <li class=\"txt-items\">► Câmera de estacionamento</li>,\n",
       " <li class=\"txt-items\">► Controle de tração</li>,\n",
       " <li class=\"txt-items\">► Sensor de estacionamento</li>,\n",
       " <li class=\"txt-items\">...</li>]"
      ]
     },
     "execution_count": 133,
     "metadata": {},
     "output_type": "execute_result"
    }
   ],
   "source": [
    "items = anuncio.find('div', {'class':'body-card'}).find('ul').findAll('li')\n",
    "items"
   ]
  },
  {
   "cell_type": "code",
   "execution_count": 134,
   "metadata": {},
   "outputs": [
    {
     "data": {
      "text/plain": [
       "<li class=\"txt-items\">...</li>"
      ]
     },
     "execution_count": 134,
     "metadata": {},
     "output_type": "execute_result"
    }
   ],
   "source": [
    "#Eliminar último item da lista\n",
    "\n",
    "items.pop()"
   ]
  },
  {
   "cell_type": "code",
   "execution_count": 135,
   "metadata": {},
   "outputs": [
    {
     "data": {
      "text/plain": [
       "[<li class=\"txt-items\">► 4 X 4</li>,\n",
       " <li class=\"txt-items\">► Câmera de estacionamento</li>,\n",
       " <li class=\"txt-items\">► Controle de tração</li>,\n",
       " <li class=\"txt-items\">► Sensor de estacionamento</li>]"
      ]
     },
     "execution_count": 135,
     "metadata": {},
     "output_type": "execute_result"
    }
   ],
   "source": [
    "items"
   ]
  },
  {
   "cell_type": "code",
   "execution_count": 137,
   "metadata": {},
   "outputs": [
    {
     "name": "stdout",
     "output_type": "stream",
     "text": [
      "4 X 4\n",
      "Câmera de estacionamento\n",
      "Controle de tração\n",
      "Sensor de estacionamento\n"
     ]
    }
   ],
   "source": [
    "for item in items:\n",
    "    print(item.getText().replace('► ', ''))"
   ]
  },
  {
   "cell_type": "code",
   "execution_count": 138,
   "metadata": {},
   "outputs": [
    {
     "data": {
      "text/plain": [
       "['4 X 4',\n",
       " 'Câmera de estacionamento',\n",
       " 'Controle de tração',\n",
       " 'Sensor de estacionamento']"
      ]
     },
     "execution_count": 138,
     "metadata": {},
     "output_type": "execute_result"
    }
   ],
   "source": [
    "acessorios = []\n",
    "\n",
    "#adiciona a lista\n",
    "for item in items:\n",
    "    acessorios.append(item.getText().replace('► ', '')) #Insere na lista\n",
    "    \n",
    "acessorios"
   ]
  },
  {
   "cell_type": "code",
   "execution_count": 139,
   "metadata": {},
   "outputs": [],
   "source": [
    "card['items'] = acessorios"
   ]
  },
  {
   "cell_type": "code",
   "execution_count": 142,
   "metadata": {},
   "outputs": [
    {
     "data": {
      "text/plain": [
       "{'value': 'R$ 338.000',\n",
       " 'name': 'LAMBORGHINI AVENTADOR',\n",
       " 'category': 'USADO',\n",
       " 'motor': 'Motor 1.8 16v',\n",
       " 'description': 'Ano 1993 - 55.286 km',\n",
       " 'location': 'Belo Horizonte - MG',\n",
       " 'items': ['4 X 4',\n",
       "  'Câmera de estacionamento',\n",
       "  'Controle de tração',\n",
       "  'Sensor de estacionamento']}"
      ]
     },
     "execution_count": 142,
     "metadata": {},
     "output_type": "execute_result"
    }
   ],
   "source": [
    "card"
   ]
  },
  {
   "cell_type": "markdown",
   "metadata": {},
   "source": [
    "### <font color=red>Resumo"
   ]
  },
  {
   "cell_type": "code",
   "execution_count": 141,
   "metadata": {},
   "outputs": [],
   "source": [
    "# Acessórios\n",
    "items = anuncio.find('div', {'class':'body-card'}).find('ul').findAll('li')\n",
    "items.pop()\n",
    "acessorios = []\n",
    "\n",
    "for item in items:\n",
    "    acessorios.append(item.getText().replace('► ', ''))\n",
    "card['items'] = acessorios"
   ]
  },
  {
   "cell_type": "markdown",
   "metadata": {},
   "source": [
    "# 5.5 Criando um DataFrame com os dados coletados do Alura Motors"
   ]
  },
  {
   "cell_type": "code",
   "execution_count": 143,
   "metadata": {},
   "outputs": [
    {
     "data": {
      "text/plain": [
       "{'value': 'R$ 338.000',\n",
       " 'name': 'LAMBORGHINI AVENTADOR',\n",
       " 'category': 'USADO',\n",
       " 'motor': 'Motor 1.8 16v',\n",
       " 'description': 'Ano 1993 - 55.286 km',\n",
       " 'location': 'Belo Horizonte - MG',\n",
       " 'items': ['4 X 4',\n",
       "  'Câmera de estacionamento',\n",
       "  'Controle de tração',\n",
       "  'Sensor de estacionamento']}"
      ]
     },
     "execution_count": 143,
     "metadata": {},
     "output_type": "execute_result"
    }
   ],
   "source": [
    "card"
   ]
  },
  {
   "cell_type": "code",
   "execution_count": 144,
   "metadata": {},
   "outputs": [],
   "source": [
    "import pandas as pd"
   ]
  },
  {
   "cell_type": "code",
   "execution_count": 145,
   "metadata": {},
   "outputs": [],
   "source": [
    "dataset = pd.DataFrame(card)\n",
    "\n",
    "#Dessa forma é gerado 4 linhas, pois identifica cada registro do item como uma linha,\n",
    "#mas na verdade é somente uma linha, onde o campo intem contém vários itens"
   ]
  },
  {
   "cell_type": "code",
   "execution_count": 146,
   "metadata": {},
   "outputs": [
    {
     "data": {
      "text/html": [
       "<div>\n",
       "<style scoped>\n",
       "    .dataframe tbody tr th:only-of-type {\n",
       "        vertical-align: middle;\n",
       "    }\n",
       "\n",
       "    .dataframe tbody tr th {\n",
       "        vertical-align: top;\n",
       "    }\n",
       "\n",
       "    .dataframe thead th {\n",
       "        text-align: right;\n",
       "    }\n",
       "</style>\n",
       "<table border=\"1\" class=\"dataframe\">\n",
       "  <thead>\n",
       "    <tr style=\"text-align: right;\">\n",
       "      <th></th>\n",
       "      <th>value</th>\n",
       "      <th>name</th>\n",
       "      <th>category</th>\n",
       "      <th>motor</th>\n",
       "      <th>description</th>\n",
       "      <th>location</th>\n",
       "      <th>items</th>\n",
       "    </tr>\n",
       "  </thead>\n",
       "  <tbody>\n",
       "    <tr>\n",
       "      <th>0</th>\n",
       "      <td>R$ 338.000</td>\n",
       "      <td>LAMBORGHINI AVENTADOR</td>\n",
       "      <td>USADO</td>\n",
       "      <td>Motor 1.8 16v</td>\n",
       "      <td>Ano 1993 - 55.286 km</td>\n",
       "      <td>Belo Horizonte - MG</td>\n",
       "      <td>4 X 4</td>\n",
       "    </tr>\n",
       "    <tr>\n",
       "      <th>1</th>\n",
       "      <td>R$ 338.000</td>\n",
       "      <td>LAMBORGHINI AVENTADOR</td>\n",
       "      <td>USADO</td>\n",
       "      <td>Motor 1.8 16v</td>\n",
       "      <td>Ano 1993 - 55.286 km</td>\n",
       "      <td>Belo Horizonte - MG</td>\n",
       "      <td>Câmera de estacionamento</td>\n",
       "    </tr>\n",
       "    <tr>\n",
       "      <th>2</th>\n",
       "      <td>R$ 338.000</td>\n",
       "      <td>LAMBORGHINI AVENTADOR</td>\n",
       "      <td>USADO</td>\n",
       "      <td>Motor 1.8 16v</td>\n",
       "      <td>Ano 1993 - 55.286 km</td>\n",
       "      <td>Belo Horizonte - MG</td>\n",
       "      <td>Controle de tração</td>\n",
       "    </tr>\n",
       "    <tr>\n",
       "      <th>3</th>\n",
       "      <td>R$ 338.000</td>\n",
       "      <td>LAMBORGHINI AVENTADOR</td>\n",
       "      <td>USADO</td>\n",
       "      <td>Motor 1.8 16v</td>\n",
       "      <td>Ano 1993 - 55.286 km</td>\n",
       "      <td>Belo Horizonte - MG</td>\n",
       "      <td>Sensor de estacionamento</td>\n",
       "    </tr>\n",
       "  </tbody>\n",
       "</table>\n",
       "</div>"
      ],
      "text/plain": [
       "        value                   name category          motor  \\\n",
       "0  R$ 338.000  LAMBORGHINI AVENTADOR    USADO  Motor 1.8 16v   \n",
       "1  R$ 338.000  LAMBORGHINI AVENTADOR    USADO  Motor 1.8 16v   \n",
       "2  R$ 338.000  LAMBORGHINI AVENTADOR    USADO  Motor 1.8 16v   \n",
       "3  R$ 338.000  LAMBORGHINI AVENTADOR    USADO  Motor 1.8 16v   \n",
       "\n",
       "            description             location                     items  \n",
       "0  Ano 1993 - 55.286 km  Belo Horizonte - MG                     4 X 4  \n",
       "1  Ano 1993 - 55.286 km  Belo Horizonte - MG  Câmera de estacionamento  \n",
       "2  Ano 1993 - 55.286 km  Belo Horizonte - MG        Controle de tração  \n",
       "3  Ano 1993 - 55.286 km  Belo Horizonte - MG  Sensor de estacionamento  "
      ]
     },
     "execution_count": 146,
     "metadata": {},
     "output_type": "execute_result"
    }
   ],
   "source": [
    "dataset"
   ]
  },
  {
   "cell_type": "code",
   "execution_count": 147,
   "metadata": {},
   "outputs": [
    {
     "data": {
      "text/html": [
       "<div>\n",
       "<style scoped>\n",
       "    .dataframe tbody tr th:only-of-type {\n",
       "        vertical-align: middle;\n",
       "    }\n",
       "\n",
       "    .dataframe tbody tr th {\n",
       "        vertical-align: top;\n",
       "    }\n",
       "\n",
       "    .dataframe thead th {\n",
       "        text-align: right;\n",
       "    }\n",
       "</style>\n",
       "<table border=\"1\" class=\"dataframe\">\n",
       "  <thead>\n",
       "    <tr style=\"text-align: right;\">\n",
       "      <th></th>\n",
       "      <th>0</th>\n",
       "    </tr>\n",
       "  </thead>\n",
       "  <tbody>\n",
       "    <tr>\n",
       "      <th>value</th>\n",
       "      <td>R$ 338.000</td>\n",
       "    </tr>\n",
       "    <tr>\n",
       "      <th>name</th>\n",
       "      <td>LAMBORGHINI AVENTADOR</td>\n",
       "    </tr>\n",
       "    <tr>\n",
       "      <th>category</th>\n",
       "      <td>USADO</td>\n",
       "    </tr>\n",
       "    <tr>\n",
       "      <th>motor</th>\n",
       "      <td>Motor 1.8 16v</td>\n",
       "    </tr>\n",
       "    <tr>\n",
       "      <th>description</th>\n",
       "      <td>Ano 1993 - 55.286 km</td>\n",
       "    </tr>\n",
       "    <tr>\n",
       "      <th>location</th>\n",
       "      <td>Belo Horizonte - MG</td>\n",
       "    </tr>\n",
       "    <tr>\n",
       "      <th>items</th>\n",
       "      <td>[4 X 4, Câmera de estacionamento, Controle de ...</td>\n",
       "    </tr>\n",
       "  </tbody>\n",
       "</table>\n",
       "</div>"
      ],
      "text/plain": [
       "                                                             0\n",
       "value                                               R$ 338.000\n",
       "name                                     LAMBORGHINI AVENTADOR\n",
       "category                                                 USADO\n",
       "motor                                            Motor 1.8 16v\n",
       "description                               Ano 1993 - 55.286 km\n",
       "location                                   Belo Horizonte - MG\n",
       "items        [4 X 4, Câmera de estacionamento, Controle de ..."
      ]
     },
     "execution_count": 147,
     "metadata": {},
     "output_type": "execute_result"
    }
   ],
   "source": [
    "dataset = pd.DataFrame.from_dict(card, orient = 'index')\n",
    "dataset\n",
    "\n",
    "#Dessa forma ele cria uma datafram de um dicionário usando .from_dict. E, a sua orientação fica baseado no index."
   ]
  },
  {
   "cell_type": "code",
   "execution_count": 148,
   "metadata": {},
   "outputs": [
    {
     "data": {
      "text/html": [
       "<div>\n",
       "<style scoped>\n",
       "    .dataframe tbody tr th:only-of-type {\n",
       "        vertical-align: middle;\n",
       "    }\n",
       "\n",
       "    .dataframe tbody tr th {\n",
       "        vertical-align: top;\n",
       "    }\n",
       "\n",
       "    .dataframe thead th {\n",
       "        text-align: right;\n",
       "    }\n",
       "</style>\n",
       "<table border=\"1\" class=\"dataframe\">\n",
       "  <thead>\n",
       "    <tr style=\"text-align: right;\">\n",
       "      <th></th>\n",
       "      <th>value</th>\n",
       "      <th>name</th>\n",
       "      <th>category</th>\n",
       "      <th>motor</th>\n",
       "      <th>description</th>\n",
       "      <th>location</th>\n",
       "      <th>items</th>\n",
       "    </tr>\n",
       "  </thead>\n",
       "  <tbody>\n",
       "    <tr>\n",
       "      <th>0</th>\n",
       "      <td>R$ 338.000</td>\n",
       "      <td>LAMBORGHINI AVENTADOR</td>\n",
       "      <td>USADO</td>\n",
       "      <td>Motor 1.8 16v</td>\n",
       "      <td>Ano 1993 - 55.286 km</td>\n",
       "      <td>Belo Horizonte - MG</td>\n",
       "      <td>[4 X 4, Câmera de estacionamento, Controle de ...</td>\n",
       "    </tr>\n",
       "  </tbody>\n",
       "</table>\n",
       "</div>"
      ],
      "text/plain": [
       "        value                   name category          motor  \\\n",
       "0  R$ 338.000  LAMBORGHINI AVENTADOR    USADO  Motor 1.8 16v   \n",
       "\n",
       "            description             location  \\\n",
       "0  Ano 1993 - 55.286 km  Belo Horizonte - MG   \n",
       "\n",
       "                                               items  \n",
       "0  [4 X 4, Câmera de estacionamento, Controle de ...  "
      ]
     },
     "execution_count": 148,
     "metadata": {},
     "output_type": "execute_result"
    }
   ],
   "source": [
    "dataset = pd.DataFrame.from_dict(card, orient = 'index').T\n",
    "dataset\n",
    "\n",
    "#Usando a opção 'T', ele transpoe o dataframe, colocando-o em uma linha"
   ]
  },
  {
   "cell_type": "code",
   "execution_count": 149,
   "metadata": {},
   "outputs": [],
   "source": [
    "dataset.to_csv('/home/digitro/Documentos/estudo/alura/scraping_python/web-scraping-aula-1-inicio/output/data/dataset.csv', sep=';', index=False, encoding='utf-8-sig')"
   ]
  },
  {
   "cell_type": "code",
   "execution_count": null,
   "metadata": {},
   "outputs": [],
   "source": []
  },
  {
   "cell_type": "markdown",
   "metadata": {},
   "source": [
    "# 5.6. Obtendo a FOTO do anúncio"
   ]
  },
  {
   "cell_type": "code",
   "execution_count": 155,
   "metadata": {},
   "outputs": [
    {
     "data": {
      "text/plain": [
       "<img alt=\"Foto\" height=\"155\" src=\"https://caelum-online-public.s3.amazonaws.com/1381-scraping/01/img-cars/lamborghini-aventador/lamborghini-aventador-2932196__340.jpg\" width=\"220\"/>"
      ]
     },
     "execution_count": 155,
     "metadata": {},
     "output_type": "execute_result"
    }
   ],
   "source": [
    "image = anuncio.find('div', {'class': 'image-card'}).img\n",
    "image"
   ]
  },
  {
   "cell_type": "code",
   "execution_count": 156,
   "metadata": {},
   "outputs": [
    {
     "data": {
      "text/plain": [
       "'https://caelum-online-public.s3.amazonaws.com/1381-scraping/01/img-cars/lamborghini-aventador/lamborghini-aventador-2932196__340.jpg'"
      ]
     },
     "execution_count": 156,
     "metadata": {},
     "output_type": "execute_result"
    }
   ],
   "source": [
    "image.get('src')"
   ]
  },
  {
   "cell_type": "code",
   "execution_count": 157,
   "metadata": {},
   "outputs": [
    {
     "name": "stdout",
     "output_type": "stream",
     "text": [
      "https://caelum-online-public.s3.amazonaws.com/1381-scraping/01/img-cars/lamborghini-aventador/lamborghini-aventador-2932196__340.jpg\n"
     ]
    }
   ],
   "source": [
    "print(image.get('src'))"
   ]
  },
  {
   "cell_type": "markdown",
   "metadata": {},
   "source": [
    "### Visualizando a FOTO no notebook (extra)"
   ]
  },
  {
   "cell_type": "code",
   "execution_count": 160,
   "metadata": {},
   "outputs": [
    {
     "name": "stderr",
     "output_type": "stream",
     "text": [
      "/tmp/ipykernel_45633/3828751296.py:1: DeprecationWarning: Importing display from IPython.core.display is deprecated since IPython 7.14, please import from IPython display\n",
      "  from IPython.core.display import display, HTML\n"
     ]
    },
    {
     "data": {
      "text/html": [
       "<img alt=\"Foto\" height=\"155\" src=\"https://caelum-online-public.s3.amazonaws.com/1381-scraping/01/img-cars/lamborghini-aventador/lamborghini-aventador-2932196__340.jpg\" width=\"220\"/>"
      ],
      "text/plain": [
       "<IPython.core.display.HTML object>"
      ]
     },
     "metadata": {},
     "output_type": "display_data"
    }
   ],
   "source": [
    "from IPython.core.display import display, HTML\n",
    "\n",
    "display(HTML(str(anuncio.find('div', {'class':'image-card'}).img)))\n",
    "\n",
    "#O str é para transformar o link em string"
   ]
  },
  {
   "cell_type": "code",
   "execution_count": 161,
   "metadata": {},
   "outputs": [
    {
     "data": {
      "text/html": [
       "<img src=https://caelum-online-public.s3.amazonaws.com/1381-scraping/01/img-cars/lamborghini-aventador/lamborghini-aventador-2932196__340.jpg>"
      ],
      "text/plain": [
       "<IPython.core.display.HTML object>"
      ]
     },
     "metadata": {},
     "output_type": "display_data"
    }
   ],
   "source": [
    "display(HTML(\"<img src=\" + anuncio.find('div', {'class': 'image-card'}).img.get('src') + \">\"))"
   ]
  },
  {
   "cell_type": "markdown",
   "metadata": {},
   "source": [
    "### Rotina para acessar e salvar a FOTO do anúncio"
   ]
  },
  {
   "cell_type": "markdown",
   "metadata": {},
   "source": [
    "## https://docs.python.org/3/library/urllib.request.html#urllib.request.urlretrieve"
   ]
  },
  {
   "cell_type": "code",
   "execution_count": 163,
   "metadata": {},
   "outputs": [
    {
     "data": {
      "text/plain": [
       "'lamborghini-aventador-2932196__340.jpg'"
      ]
     },
     "execution_count": 163,
     "metadata": {},
     "output_type": "execute_result"
    }
   ],
   "source": [
    "image.get('src').split('/')[-1] #Pegar o nome da imagem"
   ]
  },
  {
   "cell_type": "code",
   "execution_count": 164,
   "metadata": {},
   "outputs": [
    {
     "data": {
      "text/plain": [
       "('./output/img/lamborghini-aventador-2932196__340.jpg',\n",
       " <http.client.HTTPMessage at 0x7f5db9f4c490>)"
      ]
     },
     "execution_count": 164,
     "metadata": {},
     "output_type": "execute_result"
    }
   ],
   "source": [
    "from urllib.request import urlretrieve\n",
    "\n",
    "urlretrieve(image.get('src'), './output/img/' + image.get('src').split('/')[-1])"
   ]
  },
  {
   "cell_type": "markdown",
   "metadata": {},
   "source": [
    "### <font color=red>Resumo"
   ]
  },
  {
   "cell_type": "code",
   "execution_count": null,
   "metadata": {},
   "outputs": [],
   "source": [
    "image.get('src').split('/')[-1]\n",
    "urlretrieve(image.get('src'), './output/img/' + image.get('src').split('/')[-1])"
   ]
  },
  {
   "cell_type": "markdown",
   "metadata": {},
   "source": [
    "# <font color=green>6. WEB SCRAPING DO SITE ALURA MOTORS - OBTENDO OS DADOS DE TODOS OS ANÚNCIOS DE UMA PÁGINA"
   ]
  },
  {
   "cell_type": "markdown",
   "metadata": {},
   "source": [
    "# 6.1. Identificando as informações no HTML"
   ]
  },
  {
   "cell_type": "code",
   "execution_count": 169,
   "metadata": {
    "scrolled": true
   },
   "outputs": [
    {
     "data": {
      "text/plain": [
       "10"
      ]
     },
     "execution_count": 169,
     "metadata": {},
     "output_type": "execute_result"
    }
   ],
   "source": [
    "len(soup.find('div', {'id':'container-cards'}).findAll('div', class_='card')) #A saída do findAll é uma lista"
   ]
  },
  {
   "cell_type": "code",
   "execution_count": 170,
   "metadata": {
    "scrolled": true
   },
   "outputs": [],
   "source": [
    "anuncios = soup.find('div', {'id':'container-cards'}).findAll('div', class_='card')"
   ]
  },
  {
   "cell_type": "code",
   "execution_count": null,
   "metadata": {
    "scrolled": true
   },
   "outputs": [],
   "source": [
    "for anuncio in anuncios:\n",
    "    print(str(anuncio) + '\\n\\n') #transforma em estring e concatena com dois espaços, para separar os itens da lista."
   ]
  },
  {
   "cell_type": "markdown",
   "metadata": {},
   "source": [
    "# 6.2. Criando uma rotina de scraping"
   ]
  },
  {
   "cell_type": "code",
   "execution_count": 172,
   "metadata": {},
   "outputs": [
    {
     "data": {
      "text/plain": [
       "('./output/img/toyota-3245397__340.jpg',\n",
       " <http.client.HTTPMessage at 0x7f5db9892b00>)"
      ]
     },
     "execution_count": 172,
     "metadata": {},
     "output_type": "execute_result"
    }
   ],
   "source": [
    "# # Valor\n",
    "# card['value'] = anuncio.find('p', {'class': 'txt-value'}).getText()\n",
    "\n",
    "# # Informações\n",
    "# infos = anuncio.find('div', {'class': 'body-card'}).findAll('p')\n",
    "# for info in infos:\n",
    "#     card[info.get('class')[0].split('-')[-1]] = info.get_text()\n",
    "\n",
    "# # Acessórios\n",
    "# items = anuncio.find('div', {'class': 'body-card'}).ul.findAll('li')\n",
    "# items.pop()\n",
    "# acessorios = []\n",
    "# for item in items:\n",
    "#     acessorios.append(item.get_text().replace('► ', ''))\n",
    "# card['items'] = acessorios\n",
    "\n",
    "# # Imagens\n",
    "# image = anuncio.find('div', {'class': 'image-card'}).img\n",
    "# urlretrieve(image.get('src'), './output/img/' + image.get('src').split('/')[-1])     \n"
   ]
  },
  {
   "cell_type": "code",
   "execution_count": 174,
   "metadata": {},
   "outputs": [
    {
     "data": {
      "text/html": [
       "<div>\n",
       "<style scoped>\n",
       "    .dataframe tbody tr th:only-of-type {\n",
       "        vertical-align: middle;\n",
       "    }\n",
       "\n",
       "    .dataframe tbody tr th {\n",
       "        vertical-align: top;\n",
       "    }\n",
       "\n",
       "    .dataframe thead th {\n",
       "        text-align: right;\n",
       "    }\n",
       "</style>\n",
       "<table border=\"1\" class=\"dataframe\">\n",
       "  <thead>\n",
       "    <tr style=\"text-align: right;\">\n",
       "      <th></th>\n",
       "      <th>value</th>\n",
       "      <th>name</th>\n",
       "      <th>category</th>\n",
       "      <th>motor</th>\n",
       "      <th>description</th>\n",
       "      <th>location</th>\n",
       "      <th>items</th>\n",
       "      <th>opportunity</th>\n",
       "    </tr>\n",
       "  </thead>\n",
       "  <tbody>\n",
       "    <tr>\n",
       "      <th>0</th>\n",
       "      <td>R$ 338.000</td>\n",
       "      <td>LAMBORGHINI AVENTADOR</td>\n",
       "      <td>USADO</td>\n",
       "      <td>Motor 1.8 16v</td>\n",
       "      <td>Ano 1993 - 55.286 km</td>\n",
       "      <td>Belo Horizonte - MG</td>\n",
       "      <td>[4 X 4, Câmera de estacionamento, Controle de ...</td>\n",
       "      <td>NaN</td>\n",
       "    </tr>\n",
       "    <tr>\n",
       "      <th>1</th>\n",
       "      <td>R$ 346.000</td>\n",
       "      <td>BMW M2</td>\n",
       "      <td>USADO</td>\n",
       "      <td>Motor 3.0 32v</td>\n",
       "      <td>Ano 2018 - 83.447 km</td>\n",
       "      <td>Belo Horizonte - MG</td>\n",
       "      <td>[Câmera de estacionamento, Controle de estabil...</td>\n",
       "      <td>NaN</td>\n",
       "    </tr>\n",
       "    <tr>\n",
       "      <th>2</th>\n",
       "      <td>R$ 480.000</td>\n",
       "      <td>ALFA</td>\n",
       "      <td>USADO</td>\n",
       "      <td>Motor 1.8 16v</td>\n",
       "      <td>Ano 2004 - 19.722 km</td>\n",
       "      <td>Rio de Janeiro - RJ</td>\n",
       "      <td>[Central multimídia, Bancos de couro, Rodas de...</td>\n",
       "      <td>NaN</td>\n",
       "    </tr>\n",
       "    <tr>\n",
       "      <th>3</th>\n",
       "      <td>R$ 133.000</td>\n",
       "      <td>PUECH</td>\n",
       "      <td>USADO</td>\n",
       "      <td>Motor Diesel V8</td>\n",
       "      <td>Ano 1992 - 34.335 km</td>\n",
       "      <td>São Paulo - SP</td>\n",
       "      <td>[Bancos de couro, Freios ABS, Rodas de liga, C...</td>\n",
       "      <td>NaN</td>\n",
       "    </tr>\n",
       "    <tr>\n",
       "      <th>4</th>\n",
       "      <td>R$ 175.000</td>\n",
       "      <td>LAMBORGHINI MURCIELAGO</td>\n",
       "      <td>USADO</td>\n",
       "      <td>Motor 1.0 8v</td>\n",
       "      <td>Ano 1991 - 464 km</td>\n",
       "      <td>Belo Horizonte - MG</td>\n",
       "      <td>[Central multimídia, Teto panorâmico, Sensor c...</td>\n",
       "      <td>NaN</td>\n",
       "    </tr>\n",
       "    <tr>\n",
       "      <th>5</th>\n",
       "      <td>R$ 239.000</td>\n",
       "      <td>ASTON MARTIN</td>\n",
       "      <td>USADO</td>\n",
       "      <td>Motor Diesel V6</td>\n",
       "      <td>Ano 2004 - 50.189 km</td>\n",
       "      <td>Belo Horizonte - MG</td>\n",
       "      <td>[Painel digital, Controle de tração, Teto pano...</td>\n",
       "      <td>OPORTUNIDADE</td>\n",
       "    </tr>\n",
       "    <tr>\n",
       "      <th>6</th>\n",
       "      <td>R$ 115.000</td>\n",
       "      <td>TVR</td>\n",
       "      <td>USADO</td>\n",
       "      <td>Motor 4.0 Turbo</td>\n",
       "      <td>Ano 2014 - 17.778 km</td>\n",
       "      <td>Belo Horizonte - MG</td>\n",
       "      <td>[4 X 4, Teto panorâmico, Central multimídia, C...</td>\n",
       "      <td>NaN</td>\n",
       "    </tr>\n",
       "    <tr>\n",
       "      <th>7</th>\n",
       "      <td>R$ 114.000</td>\n",
       "      <td>EXCALIBUR</td>\n",
       "      <td>USADO</td>\n",
       "      <td>Motor 3.0 32v</td>\n",
       "      <td>Ano 2009 - 81.251 km</td>\n",
       "      <td>Rio de Janeiro - RJ</td>\n",
       "      <td>[Painel digital, Câmbio automático, Sensor de ...</td>\n",
       "      <td>NaN</td>\n",
       "    </tr>\n",
       "    <tr>\n",
       "      <th>8</th>\n",
       "      <td>R$ 75.000</td>\n",
       "      <td>MCLAREN</td>\n",
       "      <td>NOVO</td>\n",
       "      <td>Motor Diesel</td>\n",
       "      <td>Ano 2019 - 0 km</td>\n",
       "      <td>São Paulo - SP</td>\n",
       "      <td>[Central multimídia, Câmera de estacionamento,...</td>\n",
       "      <td>NaN</td>\n",
       "    </tr>\n",
       "    <tr>\n",
       "      <th>9</th>\n",
       "      <td>R$ 117.000</td>\n",
       "      <td>TOYOTA</td>\n",
       "      <td>USADO</td>\n",
       "      <td>Motor 4.0 Turbo</td>\n",
       "      <td>Ano 1999 - 12.536 km</td>\n",
       "      <td>São Paulo - SP</td>\n",
       "      <td>[Bancos de couro, Freios ABS, Piloto automátic...</td>\n",
       "      <td>OPORTUNIDADE</td>\n",
       "    </tr>\n",
       "  </tbody>\n",
       "</table>\n",
       "</div>"
      ],
      "text/plain": [
       "        value                    name category            motor  \\\n",
       "0  R$ 338.000   LAMBORGHINI AVENTADOR    USADO    Motor 1.8 16v   \n",
       "1  R$ 346.000                  BMW M2    USADO    Motor 3.0 32v   \n",
       "2  R$ 480.000                    ALFA    USADO    Motor 1.8 16v   \n",
       "3  R$ 133.000                   PUECH    USADO  Motor Diesel V8   \n",
       "4  R$ 175.000  LAMBORGHINI MURCIELAGO    USADO     Motor 1.0 8v   \n",
       "5  R$ 239.000            ASTON MARTIN    USADO  Motor Diesel V6   \n",
       "6  R$ 115.000                     TVR    USADO  Motor 4.0 Turbo   \n",
       "7  R$ 114.000               EXCALIBUR    USADO    Motor 3.0 32v   \n",
       "8   R$ 75.000                 MCLAREN     NOVO     Motor Diesel   \n",
       "9  R$ 117.000                  TOYOTA    USADO  Motor 4.0 Turbo   \n",
       "\n",
       "            description             location  \\\n",
       "0  Ano 1993 - 55.286 km  Belo Horizonte - MG   \n",
       "1  Ano 2018 - 83.447 km  Belo Horizonte - MG   \n",
       "2  Ano 2004 - 19.722 km  Rio de Janeiro - RJ   \n",
       "3  Ano 1992 - 34.335 km       São Paulo - SP   \n",
       "4     Ano 1991 - 464 km  Belo Horizonte - MG   \n",
       "5  Ano 2004 - 50.189 km  Belo Horizonte - MG   \n",
       "6  Ano 2014 - 17.778 km  Belo Horizonte - MG   \n",
       "7  Ano 2009 - 81.251 km  Rio de Janeiro - RJ   \n",
       "8       Ano 2019 - 0 km       São Paulo - SP   \n",
       "9  Ano 1999 - 12.536 km       São Paulo - SP   \n",
       "\n",
       "                                               items   opportunity  \n",
       "0  [4 X 4, Câmera de estacionamento, Controle de ...           NaN  \n",
       "1  [Câmera de estacionamento, Controle de estabil...           NaN  \n",
       "2  [Central multimídia, Bancos de couro, Rodas de...           NaN  \n",
       "3  [Bancos de couro, Freios ABS, Rodas de liga, C...           NaN  \n",
       "4  [Central multimídia, Teto panorâmico, Sensor c...           NaN  \n",
       "5  [Painel digital, Controle de tração, Teto pano...  OPORTUNIDADE  \n",
       "6  [4 X 4, Teto panorâmico, Central multimídia, C...           NaN  \n",
       "7  [Painel digital, Câmbio automático, Sensor de ...           NaN  \n",
       "8  [Central multimídia, Câmera de estacionamento,...           NaN  \n",
       "9  [Bancos de couro, Freios ABS, Piloto automátic...  OPORTUNIDADE  "
      ]
     },
     "execution_count": 174,
     "metadata": {},
     "output_type": "execute_result"
    }
   ],
   "source": [
    "# Importando bibliotecas\n",
    "from urllib.request import urlopen, urlretrieve\n",
    "from bs4 import BeautifulSoup\n",
    "import pandas as pd\n",
    "\n",
    "# Declarando variável cards\n",
    "cards = []\n",
    "\n",
    "# Obtendo o HTML\n",
    "response = urlopen('https://alura-site-scraping.herokuapp.com/index.php')\n",
    "html = response.read().decode('utf-8')\n",
    "soup = BeautifulSoup(html, 'html.parser')\n",
    "\n",
    "# Obtendo as TAGs de interesse\n",
    "anuncios = soup.find('div', {'id':'container-cards'}).findAll('div', class_='card')\n",
    "\n",
    "# Coletando as informações dos cards\n",
    "for anuncio in anuncios:\n",
    "    card = {}\n",
    "    \n",
    "    # Valor\n",
    "    card['value'] = anuncio.find('p', {'class': 'txt-value'}).getText()\n",
    "\n",
    "    # Informações\n",
    "    infos = anuncio.find('div', {'class': 'body-card'}).findAll('p')\n",
    "    for info in infos:\n",
    "        card[info.get('class')[0].split('-')[-1]] = info.get_text()\n",
    "\n",
    "    # Acessórios\n",
    "    items = anuncio.find('div', {'class': 'body-card'}).ul.findAll('li')\n",
    "    items.pop()\n",
    "    acessorios = []\n",
    "    for item in items:\n",
    "        acessorios.append(item.get_text().replace('► ', ''))\n",
    "    card['items'] = acessorios\n",
    "    \n",
    "    # Adicionando resultado à lista cards\n",
    "    cards.append(card)\n",
    "\n",
    "    # Imagens\n",
    "    image = anuncio.find('div', {'class': 'image-card'}).img\n",
    "    urlretrieve(image.get('src'), './output/img/' + image.get('src').split('/')[-1])    \n",
    "    \n",
    "\n",
    "# Criando um DataFrame com os resultados\n",
    "dataset = pd.DataFrame(cards)\n",
    "\n",
    "dataset.to_csv('./output/data/dataset.csv', sep=';', index = False, encoding = 'utf-8-sig')\n",
    "dataset"
   ]
  },
  {
   "cell_type": "code",
   "execution_count": null,
   "metadata": {},
   "outputs": [],
   "source": [
    "cards"
   ]
  },
  {
   "cell_type": "markdown",
   "metadata": {},
   "source": [
    "# <font color=green>7. WEB SCRAPING DO SITE ALURA MOTORS - OBTENDO OS DADOS DE TODOS OS ANÚNCIOS DO SITE"
   ]
  },
  {
   "cell_type": "markdown",
   "metadata": {},
   "source": [
    "# 7.1. Identificando as informações no HTML"
   ]
  },
  {
   "cell_type": "code",
   "execution_count": 176,
   "metadata": {},
   "outputs": [
    {
     "data": {
      "text/plain": [
       "<span class=\"info-pages\">Página 1 de 25</span>"
      ]
     },
     "execution_count": 176,
     "metadata": {},
     "output_type": "execute_result"
    }
   ],
   "source": [
    "soup.find('span', class_='info-pages')"
   ]
  },
  {
   "cell_type": "code",
   "execution_count": 177,
   "metadata": {
    "scrolled": true
   },
   "outputs": [
    {
     "data": {
      "text/plain": [
       "'Página 1 de 25'"
      ]
     },
     "execution_count": 177,
     "metadata": {},
     "output_type": "execute_result"
    }
   ],
   "source": [
    "soup.find('span', class_='info-pages').get_text()"
   ]
  },
  {
   "cell_type": "code",
   "execution_count": 178,
   "metadata": {},
   "outputs": [
    {
     "data": {
      "text/plain": [
       "['Página', '1', 'de', '25']"
      ]
     },
     "execution_count": 178,
     "metadata": {},
     "output_type": "execute_result"
    }
   ],
   "source": [
    "soup.find('span', class_='info-pages').get_text().split()"
   ]
  },
  {
   "cell_type": "code",
   "execution_count": 179,
   "metadata": {},
   "outputs": [
    {
     "data": {
      "text/plain": [
       "'25'"
      ]
     },
     "execution_count": 179,
     "metadata": {},
     "output_type": "execute_result"
    }
   ],
   "source": [
    "soup.find('span', class_='info-pages').get_text().split()[-1]"
   ]
  },
  {
   "cell_type": "code",
   "execution_count": 180,
   "metadata": {},
   "outputs": [
    {
     "data": {
      "text/plain": [
       "25"
      ]
     },
     "execution_count": 180,
     "metadata": {},
     "output_type": "execute_result"
    }
   ],
   "source": [
    "int(soup.find('span', class_='info-pages').get_text().split()[-1])"
   ]
  },
  {
   "cell_type": "markdown",
   "metadata": {},
   "source": [
    "# 7.2. Criando uma rotina de scraping"
   ]
  },
  {
   "cell_type": "code",
   "execution_count": 185,
   "metadata": {
    "scrolled": true
   },
   "outputs": [
    {
     "data": {
      "text/html": [
       "<div>\n",
       "<style scoped>\n",
       "    .dataframe tbody tr th:only-of-type {\n",
       "        vertical-align: middle;\n",
       "    }\n",
       "\n",
       "    .dataframe tbody tr th {\n",
       "        vertical-align: top;\n",
       "    }\n",
       "\n",
       "    .dataframe thead th {\n",
       "        text-align: right;\n",
       "    }\n",
       "</style>\n",
       "<table border=\"1\" class=\"dataframe\">\n",
       "  <thead>\n",
       "    <tr style=\"text-align: right;\">\n",
       "      <th></th>\n",
       "      <th>value</th>\n",
       "      <th>name</th>\n",
       "      <th>category</th>\n",
       "      <th>motor</th>\n",
       "      <th>description</th>\n",
       "      <th>location</th>\n",
       "      <th>items</th>\n",
       "      <th>opportunity</th>\n",
       "    </tr>\n",
       "  </thead>\n",
       "  <tbody>\n",
       "    <tr>\n",
       "      <th>0</th>\n",
       "      <td>R$ 338.000</td>\n",
       "      <td>LAMBORGHINI AVENTADOR</td>\n",
       "      <td>USADO</td>\n",
       "      <td>Motor 1.8 16v</td>\n",
       "      <td>Ano 1993 - 55.286 km</td>\n",
       "      <td>Belo Horizonte - MG</td>\n",
       "      <td>[4 X 4, Câmera de estacionamento, Controle de ...</td>\n",
       "      <td>NaN</td>\n",
       "    </tr>\n",
       "    <tr>\n",
       "      <th>1</th>\n",
       "      <td>R$ 346.000</td>\n",
       "      <td>BMW M2</td>\n",
       "      <td>USADO</td>\n",
       "      <td>Motor 3.0 32v</td>\n",
       "      <td>Ano 2018 - 83.447 km</td>\n",
       "      <td>Belo Horizonte - MG</td>\n",
       "      <td>[Câmera de estacionamento, Controle de estabil...</td>\n",
       "      <td>NaN</td>\n",
       "    </tr>\n",
       "    <tr>\n",
       "      <th>2</th>\n",
       "      <td>R$ 480.000</td>\n",
       "      <td>ALFA</td>\n",
       "      <td>USADO</td>\n",
       "      <td>Motor 1.8 16v</td>\n",
       "      <td>Ano 2004 - 19.722 km</td>\n",
       "      <td>Rio de Janeiro - RJ</td>\n",
       "      <td>[Central multimídia, Bancos de couro, Rodas de...</td>\n",
       "      <td>NaN</td>\n",
       "    </tr>\n",
       "    <tr>\n",
       "      <th>3</th>\n",
       "      <td>R$ 133.000</td>\n",
       "      <td>PUECH</td>\n",
       "      <td>USADO</td>\n",
       "      <td>Motor Diesel V8</td>\n",
       "      <td>Ano 1992 - 34.335 km</td>\n",
       "      <td>São Paulo - SP</td>\n",
       "      <td>[Bancos de couro, Freios ABS, Rodas de liga, C...</td>\n",
       "      <td>NaN</td>\n",
       "    </tr>\n",
       "    <tr>\n",
       "      <th>4</th>\n",
       "      <td>R$ 175.000</td>\n",
       "      <td>LAMBORGHINI MURCIELAGO</td>\n",
       "      <td>USADO</td>\n",
       "      <td>Motor 1.0 8v</td>\n",
       "      <td>Ano 1991 - 464 km</td>\n",
       "      <td>Belo Horizonte - MG</td>\n",
       "      <td>[Central multimídia, Teto panorâmico, Sensor c...</td>\n",
       "      <td>NaN</td>\n",
       "    </tr>\n",
       "    <tr>\n",
       "      <th>...</th>\n",
       "      <td>...</td>\n",
       "      <td>...</td>\n",
       "      <td>...</td>\n",
       "      <td>...</td>\n",
       "      <td>...</td>\n",
       "      <td>...</td>\n",
       "      <td>...</td>\n",
       "      <td>...</td>\n",
       "    </tr>\n",
       "    <tr>\n",
       "      <th>241</th>\n",
       "      <td>R$ 489.000</td>\n",
       "      <td>SUV REAR TIRE</td>\n",
       "      <td>USADO</td>\n",
       "      <td>Motor 3.0 32v</td>\n",
       "      <td>Ano 1998 - 74.292 km</td>\n",
       "      <td>São Paulo - SP</td>\n",
       "      <td>[Câmera de estacionamento, Rodas de liga, Sens...</td>\n",
       "      <td>NaN</td>\n",
       "    </tr>\n",
       "    <tr>\n",
       "      <th>242</th>\n",
       "      <td>R$ 427.000</td>\n",
       "      <td>ANTIQUE</td>\n",
       "      <td>NOVO</td>\n",
       "      <td>Motor 2.0 16v</td>\n",
       "      <td>Ano 2019 - 0 km</td>\n",
       "      <td>Belo Horizonte - MG</td>\n",
       "      <td>[Bancos de couro, Freios ABS, Sensor de estaci...</td>\n",
       "      <td>NaN</td>\n",
       "    </tr>\n",
       "    <tr>\n",
       "      <th>243</th>\n",
       "      <td>R$ 203.000</td>\n",
       "      <td>SPORT</td>\n",
       "      <td>USADO</td>\n",
       "      <td>Motor 2.0 16v</td>\n",
       "      <td>Ano 2001 - 102.776 km</td>\n",
       "      <td>Belo Horizonte - MG</td>\n",
       "      <td>[Sensor crepuscular, Sensor de chuva, Vidros e...</td>\n",
       "      <td>NaN</td>\n",
       "    </tr>\n",
       "    <tr>\n",
       "      <th>244</th>\n",
       "      <td>R$ 474.000</td>\n",
       "      <td>IMPERIAL</td>\n",
       "      <td>USADO</td>\n",
       "      <td>Motor 1.8 16v</td>\n",
       "      <td>Ano 2011 - 101.787 km</td>\n",
       "      <td>Belo Horizonte - MG</td>\n",
       "      <td>[Painel digital, Travas elétricas, Sensor de c...</td>\n",
       "      <td>OPORTUNIDADE</td>\n",
       "    </tr>\n",
       "    <tr>\n",
       "      <th>245</th>\n",
       "      <td>R$ 366.000</td>\n",
       "      <td>KIA SPORTS CAR</td>\n",
       "      <td>USADO</td>\n",
       "      <td>Motor 3.0 32v</td>\n",
       "      <td>Ano 2001 - 88.564 km</td>\n",
       "      <td>Belo Horizonte - MG</td>\n",
       "      <td>[Sensor crepuscular, Bancos de couro, Sensor d...</td>\n",
       "      <td>NaN</td>\n",
       "    </tr>\n",
       "  </tbody>\n",
       "</table>\n",
       "<p>246 rows × 8 columns</p>\n",
       "</div>"
      ],
      "text/plain": [
       "          value                    name category            motor  \\\n",
       "0    R$ 338.000   LAMBORGHINI AVENTADOR    USADO    Motor 1.8 16v   \n",
       "1    R$ 346.000                  BMW M2    USADO    Motor 3.0 32v   \n",
       "2    R$ 480.000                    ALFA    USADO    Motor 1.8 16v   \n",
       "3    R$ 133.000                   PUECH    USADO  Motor Diesel V8   \n",
       "4    R$ 175.000  LAMBORGHINI MURCIELAGO    USADO     Motor 1.0 8v   \n",
       "..          ...                     ...      ...              ...   \n",
       "241  R$ 489.000           SUV REAR TIRE    USADO    Motor 3.0 32v   \n",
       "242  R$ 427.000                 ANTIQUE     NOVO    Motor 2.0 16v   \n",
       "243  R$ 203.000                   SPORT    USADO    Motor 2.0 16v   \n",
       "244  R$ 474.000                IMPERIAL    USADO    Motor 1.8 16v   \n",
       "245  R$ 366.000          KIA SPORTS CAR    USADO    Motor 3.0 32v   \n",
       "\n",
       "               description             location  \\\n",
       "0     Ano 1993 - 55.286 km  Belo Horizonte - MG   \n",
       "1     Ano 2018 - 83.447 km  Belo Horizonte - MG   \n",
       "2     Ano 2004 - 19.722 km  Rio de Janeiro - RJ   \n",
       "3     Ano 1992 - 34.335 km       São Paulo - SP   \n",
       "4        Ano 1991 - 464 km  Belo Horizonte - MG   \n",
       "..                     ...                  ...   \n",
       "241   Ano 1998 - 74.292 km       São Paulo - SP   \n",
       "242        Ano 2019 - 0 km  Belo Horizonte - MG   \n",
       "243  Ano 2001 - 102.776 km  Belo Horizonte - MG   \n",
       "244  Ano 2011 - 101.787 km  Belo Horizonte - MG   \n",
       "245   Ano 2001 - 88.564 km  Belo Horizonte - MG   \n",
       "\n",
       "                                                 items   opportunity  \n",
       "0    [4 X 4, Câmera de estacionamento, Controle de ...           NaN  \n",
       "1    [Câmera de estacionamento, Controle de estabil...           NaN  \n",
       "2    [Central multimídia, Bancos de couro, Rodas de...           NaN  \n",
       "3    [Bancos de couro, Freios ABS, Rodas de liga, C...           NaN  \n",
       "4    [Central multimídia, Teto panorâmico, Sensor c...           NaN  \n",
       "..                                                 ...           ...  \n",
       "241  [Câmera de estacionamento, Rodas de liga, Sens...           NaN  \n",
       "242  [Bancos de couro, Freios ABS, Sensor de estaci...           NaN  \n",
       "243  [Sensor crepuscular, Sensor de chuva, Vidros e...           NaN  \n",
       "244  [Painel digital, Travas elétricas, Sensor de c...  OPORTUNIDADE  \n",
       "245  [Sensor crepuscular, Bancos de couro, Sensor d...           NaN  \n",
       "\n",
       "[246 rows x 8 columns]"
      ]
     },
     "execution_count": 185,
     "metadata": {},
     "output_type": "execute_result"
    }
   ],
   "source": [
    "# Importando bibliotecas\n",
    "from urllib.request import urlopen, urlretrieve\n",
    "from bs4 import BeautifulSoup\n",
    "import pandas as pd\n",
    "\n",
    "# Declarando variável cards\n",
    "cards = []\n",
    "\n",
    "## Obtendo o HTML e o total de páginas\n",
    "response = urlopen('https://alura-site-scraping.herokuapp.com/index.php')\n",
    "html = response.read().decode('utf-8')\n",
    "soup = BeautifulSoup(html, 'html.parser')\n",
    "pages = int(soup.find('span', class_='info-pages').get_text().split()[-1])\n",
    "\n",
    "## Iterando por todas as páginas do site\n",
    "for i in range(pages):\n",
    "    \n",
    "    ## Obtendo o HTML\n",
    "    response = urlopen('https://alura-site-scraping.herokuapp.com/index.php?page=' + str(i + 1))\n",
    "    html = response.read().decode('utf-8')\n",
    "    soup = BeautifulSoup(html, 'html.parser')\n",
    "\n",
    "    # Obtendo as TAGs de interesse\n",
    "    anuncios = soup.find('div', {\"id\": \"container-cards\"}).findAll('div', class_=\"card\")\n",
    "\n",
    "    # Coletando as informações dos CARDS\n",
    "    for anuncio in anuncios:\n",
    "        card = {}\n",
    "\n",
    "        # Valor\n",
    "        card['value'] = anuncio.find('p', {'class': 'txt-value'}).getText()\n",
    "\n",
    "        # Informações\n",
    "        infos = anuncio.find('div', {'class': 'body-card'}).findAll('p')\n",
    "        for info in infos:\n",
    "                card[info.get('class')[0].split('-')[-1]] = info.get_text()\n",
    "\n",
    "        # Acessórios\n",
    "        items = anuncio.find('div', {'class': 'body-card'}).ul.findAll('li')\n",
    "        items.pop()\n",
    "        acessorios = []\n",
    "        for item in items:\n",
    "            acessorios.append(item.get_text().replace('► ', ''))\n",
    "        card['items'] = acessorios\n",
    "\n",
    "        # Adicionando resultado a lista cards\n",
    "        cards.append(card)\n",
    "\n",
    "        # Imagens\n",
    "        image = anuncio.find('div', {'class': 'image-card'}).img\n",
    "        urlretrieve(image.get('src'), './output/img/' + image.get('src').split('/')[-1])     \n",
    "\n",
    "        \n",
    "# Criando um DataFrame com os resultados\n",
    "dataset = pd.DataFrame(cards)\n",
    "dataset.to_csv('./output/data/dataset.csv', sep=';', index = False, encoding = 'utf-8-sig')\n",
    "dataset"
   ]
  },
  {
   "cell_type": "code",
   "execution_count": 183,
   "metadata": {},
   "outputs": [
    {
     "name": "stdout",
     "output_type": "stream",
     "text": [
      "https://alura-site-scraping.herokuapp.com/index.php?page=1\n",
      "https://alura-site-scraping.herokuapp.com/index.php?page=2\n",
      "https://alura-site-scraping.herokuapp.com/index.php?page=3\n",
      "https://alura-site-scraping.herokuapp.com/index.php?page=4\n",
      "https://alura-site-scraping.herokuapp.com/index.php?page=5\n",
      "https://alura-site-scraping.herokuapp.com/index.php?page=6\n",
      "https://alura-site-scraping.herokuapp.com/index.php?page=7\n",
      "https://alura-site-scraping.herokuapp.com/index.php?page=8\n",
      "https://alura-site-scraping.herokuapp.com/index.php?page=9\n",
      "https://alura-site-scraping.herokuapp.com/index.php?page=10\n",
      "https://alura-site-scraping.herokuapp.com/index.php?page=11\n",
      "https://alura-site-scraping.herokuapp.com/index.php?page=12\n",
      "https://alura-site-scraping.herokuapp.com/index.php?page=13\n",
      "https://alura-site-scraping.herokuapp.com/index.php?page=14\n",
      "https://alura-site-scraping.herokuapp.com/index.php?page=15\n",
      "https://alura-site-scraping.herokuapp.com/index.php?page=16\n",
      "https://alura-site-scraping.herokuapp.com/index.php?page=17\n",
      "https://alura-site-scraping.herokuapp.com/index.php?page=18\n",
      "https://alura-site-scraping.herokuapp.com/index.php?page=19\n",
      "https://alura-site-scraping.herokuapp.com/index.php?page=20\n",
      "https://alura-site-scraping.herokuapp.com/index.php?page=21\n",
      "https://alura-site-scraping.herokuapp.com/index.php?page=22\n",
      "https://alura-site-scraping.herokuapp.com/index.php?page=23\n",
      "https://alura-site-scraping.herokuapp.com/index.php?page=24\n",
      "https://alura-site-scraping.herokuapp.com/index.php?page=25\n"
     ]
    }
   ],
   "source": [
    "for i in range(25):\n",
    "    print('https://alura-site-scraping.herokuapp.com/index.php?page=' + str(i + 1))"
   ]
  },
  {
   "cell_type": "code",
   "execution_count": null,
   "metadata": {},
   "outputs": [],
   "source": []
  },
  {
   "cell_type": "code",
   "execution_count": null,
   "metadata": {},
   "outputs": [],
   "source": []
  }
 ],
 "metadata": {
  "colab": {
   "name": "Untitled12.ipynb",
   "provenance": [],
   "version": "0.3.2"
  },
  "kernelspec": {
   "display_name": "Python 3 (ipykernel)",
   "language": "python",
   "name": "python3"
  },
  "language_info": {
   "codemirror_mode": {
    "name": "ipython",
    "version": 3
   },
   "file_extension": ".py",
   "mimetype": "text/x-python",
   "name": "python",
   "nbconvert_exporter": "python",
   "pygments_lexer": "ipython3",
   "version": "3.10.4"
  }
 },
 "nbformat": 4,
 "nbformat_minor": 4
}
